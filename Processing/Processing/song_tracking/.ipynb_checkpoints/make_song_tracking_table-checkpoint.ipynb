{
 "cells": [
  {
   "cell_type": "markdown",
   "metadata": {},
   "source": [
    "Importing necessary packages and reading in the csv file as a dataframe"
   ]
  },
  {
   "cell_type": "code",
   "execution_count": 1,
   "metadata": {},
   "outputs": [],
   "source": [
    "import pandas as pd\n",
    "import numpy as np"
   ]
  },
  {
   "cell_type": "code",
   "execution_count": 5,
   "metadata": {},
   "outputs": [],
   "source": [
    "chart = pd.read_csv(\"top_200_table.csv\",sep=\"\\t\")\n",
    "chart.head()\n",
    "del chart['Unnamed: 0']"
   ]
  },
  {
   "cell_type": "markdown",
   "metadata": {},
   "source": [
    "Getting a list of all unique songs from the set of all songs"
   ]
  },
  {
   "cell_type": "code",
   "execution_count": null,
   "metadata": {},
   "outputs": [],
   "source": [
    "songs = set()\n",
    "song_dict = {}\n",
    "ss = []\n",
    "#adding unique songs to the songs set\n",
    "for column in chart:\n",
    "    for s in chart[column]:\n",
    "        rank, song, artist, listens = s.split(\",\")\n",
    "        song = song.replace(\"\\\"\", \"\")\n",
    "        artist = artist.replace(\"\\\"\", \"\")\n",
    "        songs.add((song, artist))\n",
    "#print(songs)\n",
    "#Creates a dictionary that notes what rank on the top 200 a song was on any day\n",
    "for column in chart:\n",
    "    for sng in songs:\n",
    "        found = False\n",
    "        for s in chart[column]:\n",
    "            rank, song, artist, listens = s.split(\",\")\n",
    "            song = song.replace(\"\\\"\", \"\")\n",
    "            song = song.replace(\"\\'\", \"\")\n",
    "            artist = artist.replace(\"\\\"\", \"\")\n",
    "            artist = artist.replace(\"\\'\", \"\")\n",
    "            if song == sng[0] and artist == sng[1] and sng in song_dict :\n",
    "                song_dict[(song, artist)].append(rank)\n",
    "                found = True\n",
    "            elif song == sng[0] and artist == sng[1] and sng not in song_dict:\n",
    "                song_dict[(song, artist)] = [rank]\n",
    "                found = True\n",
    "        if not found and sng not in song_dict:\n",
    "            song_dict[sng] = [np.nan]\n",
    "        elif not found and sng in song_dict:\n",
    "            song_dict[sng].append(np.nan)"
   ]
  },
  {
   "cell_type": "code",
   "execution_count": null,
   "metadata": {},
   "outputs": [],
   "source": [
    "#chart\n",
    "In [64]:\n",
    "for song in song_dict:\n",
    "    length = len(song_dict[song])\n",
    "    if length != 477:\n",
    "        print(song, length)\n",
    "\n",
    "del song_dict[('', '')]\n",
    "del song_dict[('All Time Low', 'Jon Bellion')]\n",
    "\n",
    "\n",
    "new_chart = pd.DataFrame(song_dict)\n",
    "new_chart\n"
   ]
  },
  {
   "cell_type": "code",
   "execution_count": null,
   "metadata": {},
   "outputs": [],
   "source": [
    "new_chart.head()"
   ]
  },
  {
   "cell_type": "code",
   "execution_count": null,
   "metadata": {},
   "outputs": [],
   "source": []
  }
 ],
 "metadata": {
  "kernelspec": {
   "display_name": "Python 3",
   "language": "python",
   "name": "python3"
  },
  "language_info": {
   "codemirror_mode": {
    "name": "ipython",
    "version": 3
   },
   "file_extension": ".py",
   "mimetype": "text/x-python",
   "name": "python",
   "nbconvert_exporter": "python",
   "pygments_lexer": "ipython3",
   "version": "3.6.4"
  }
 },
 "nbformat": 4,
 "nbformat_minor": 2
}
