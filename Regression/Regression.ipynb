{
 "cells": [
  {
   "cell_type": "code",
   "execution_count": 1,
   "metadata": {},
   "outputs": [
    {
     "name": "stderr",
     "output_type": "stream",
     "text": [
      "/anaconda3/lib/python3.6/site-packages/sklearn/cross_validation.py:41: DeprecationWarning: This module was deprecated in version 0.18 in favor of the model_selection module into which all the refactored classes and functions are moved. Also note that the interface of the new CV iterators are different from that of this module. This module will be removed in 0.20.\n",
      "  \"This module will be removed in 0.20.\", DeprecationWarning)\n"
     ]
    }
   ],
   "source": [
    "from collections import defaultdict\n",
    "import json\n",
    "\n",
    "import numpy as np\n",
    "import scipy as sp\n",
    "import matplotlib.pyplot as plt\n",
    "import pandas as pd\n",
    "from sklearn.linear_model import LinearRegression\n",
    "from sklearn.linear_model import LogisticRegression\n",
    "from sklearn.cross_validation import train_test_split"
   ]
  },
  {
   "cell_type": "code",
   "execution_count": 18,
   "metadata": {},
   "outputs": [
    {
     "data": {
      "text/html": [
       "<div>\n",
       "<style scoped>\n",
       "    .dataframe tbody tr th:only-of-type {\n",
       "        vertical-align: middle;\n",
       "    }\n",
       "\n",
       "    .dataframe tbody tr th {\n",
       "        vertical-align: top;\n",
       "    }\n",
       "\n",
       "    .dataframe thead th {\n",
       "        text-align: right;\n",
       "    }\n",
       "</style>\n",
       "<table border=\"1\" class=\"dataframe\">\n",
       "  <thead>\n",
       "    <tr style=\"text-align: right;\">\n",
       "      <th></th>\n",
       "      <th>acousticness</th>\n",
       "      <th>danceability</th>\n",
       "      <th>duration_ms</th>\n",
       "      <th>energy</th>\n",
       "      <th>instrumentalness</th>\n",
       "      <th>key</th>\n",
       "      <th>liveness</th>\n",
       "      <th>loudness</th>\n",
       "      <th>speechiness</th>\n",
       "      <th>tempo</th>\n",
       "      <th>time_signature</th>\n",
       "      <th>valence</th>\n",
       "      <th>label</th>\n",
       "      <th>title</th>\n",
       "    </tr>\n",
       "  </thead>\n",
       "  <tbody>\n",
       "    <tr>\n",
       "      <th>0</th>\n",
       "      <td>0.21400</td>\n",
       "      <td>0.666</td>\n",
       "      <td>178242</td>\n",
       "      <td>0.677</td>\n",
       "      <td>0.000000</td>\n",
       "      <td>2</td>\n",
       "      <td>0.0979</td>\n",
       "      <td>-5.743</td>\n",
       "      <td>0.0326</td>\n",
       "      <td>100.014</td>\n",
       "      <td>4</td>\n",
       "      <td>0.178</td>\n",
       "      <td>1</td>\n",
       "      <td>#Beautiful</td>\n",
       "    </tr>\n",
       "    <tr>\n",
       "      <th>1</th>\n",
       "      <td>0.01340</td>\n",
       "      <td>0.807</td>\n",
       "      <td>183750</td>\n",
       "      <td>0.916</td>\n",
       "      <td>0.000012</td>\n",
       "      <td>0</td>\n",
       "      <td>0.0787</td>\n",
       "      <td>-3.282</td>\n",
       "      <td>0.2260</td>\n",
       "      <td>127.973</td>\n",
       "      <td>4</td>\n",
       "      <td>0.651</td>\n",
       "      <td>1</td>\n",
       "      <td>#SELFIE</td>\n",
       "    </tr>\n",
       "    <tr>\n",
       "      <th>2</th>\n",
       "      <td>0.00162</td>\n",
       "      <td>0.791</td>\n",
       "      <td>279507</td>\n",
       "      <td>0.615</td>\n",
       "      <td>0.000065</td>\n",
       "      <td>6</td>\n",
       "      <td>0.0812</td>\n",
       "      <td>-6.149</td>\n",
       "      <td>0.0667</td>\n",
       "      <td>128.017</td>\n",
       "      <td>4</td>\n",
       "      <td>0.393</td>\n",
       "      <td>1</td>\n",
       "      <td>#thatPOWER</td>\n",
       "    </tr>\n",
       "    <tr>\n",
       "      <th>3</th>\n",
       "      <td>0.76300</td>\n",
       "      <td>0.707</td>\n",
       "      <td>275227</td>\n",
       "      <td>0.709</td>\n",
       "      <td>0.000000</td>\n",
       "      <td>11</td>\n",
       "      <td>0.2740</td>\n",
       "      <td>-3.979</td>\n",
       "      <td>0.3400</td>\n",
       "      <td>89.094</td>\n",
       "      <td>4</td>\n",
       "      <td>0.501</td>\n",
       "      <td>1</td>\n",
       "      <td>0 To 100 / The Catch Up</td>\n",
       "    </tr>\n",
       "    <tr>\n",
       "      <th>4</th>\n",
       "      <td>0.57000</td>\n",
       "      <td>0.629</td>\n",
       "      <td>250173</td>\n",
       "      <td>0.572</td>\n",
       "      <td>0.000000</td>\n",
       "      <td>5</td>\n",
       "      <td>0.1920</td>\n",
       "      <td>-7.733</td>\n",
       "      <td>0.0387</td>\n",
       "      <td>100.015</td>\n",
       "      <td>4</td>\n",
       "      <td>0.386</td>\n",
       "      <td>1</td>\n",
       "      <td>1-800-273-8255</td>\n",
       "    </tr>\n",
       "  </tbody>\n",
       "</table>\n",
       "</div>"
      ],
      "text/plain": [
       "   acousticness  danceability  duration_ms  energy  instrumentalness  key  \\\n",
       "0       0.21400         0.666       178242   0.677          0.000000    2   \n",
       "1       0.01340         0.807       183750   0.916          0.000012    0   \n",
       "2       0.00162         0.791       279507   0.615          0.000065    6   \n",
       "3       0.76300         0.707       275227   0.709          0.000000   11   \n",
       "4       0.57000         0.629       250173   0.572          0.000000    5   \n",
       "\n",
       "   liveness  loudness  speechiness    tempo  time_signature  valence  label  \\\n",
       "0    0.0979    -5.743       0.0326  100.014               4    0.178      1   \n",
       "1    0.0787    -3.282       0.2260  127.973               4    0.651      1   \n",
       "2    0.0812    -6.149       0.0667  128.017               4    0.393      1   \n",
       "3    0.2740    -3.979       0.3400   89.094               4    0.501      1   \n",
       "4    0.1920    -7.733       0.0387  100.015               4    0.386      1   \n",
       "\n",
       "                     title  \n",
       "0               #Beautiful  \n",
       "1                  #SELFIE  \n",
       "2               #thatPOWER  \n",
       "3  0 To 100 / The Catch Up  \n",
       "4           1-800-273-8255  "
      ]
     },
     "execution_count": 18,
     "metadata": {},
     "output_type": "execute_result"
    }
   ],
   "source": [
    "data = pd.read_csv(\"../DataSets/balanced_pop_unpop_features.csv\", sep=\",\")\n",
    "data['title'] = data['Unnamed: 0']\n",
    "data = data.drop('Unnamed: 0', axis=1)\n",
    "data.head()"
   ]
  },
  {
   "cell_type": "markdown",
   "metadata": {},
   "source": [
    "Here we normalize all values to make the regression more easily understandable."
   ]
  },
  {
   "cell_type": "code",
   "execution_count": 3,
   "metadata": {},
   "outputs": [
    {
     "data": {
      "text/html": [
       "<div>\n",
       "<style scoped>\n",
       "    .dataframe tbody tr th:only-of-type {\n",
       "        vertical-align: middle;\n",
       "    }\n",
       "\n",
       "    .dataframe tbody tr th {\n",
       "        vertical-align: top;\n",
       "    }\n",
       "\n",
       "    .dataframe thead th {\n",
       "        text-align: right;\n",
       "    }\n",
       "</style>\n",
       "<table border=\"1\" class=\"dataframe\">\n",
       "  <thead>\n",
       "    <tr style=\"text-align: right;\">\n",
       "      <th></th>\n",
       "      <th>acousticness</th>\n",
       "      <th>danceability</th>\n",
       "      <th>duration_ms</th>\n",
       "      <th>energy</th>\n",
       "      <th>instrumentalness</th>\n",
       "      <th>key</th>\n",
       "      <th>liveness</th>\n",
       "      <th>loudness</th>\n",
       "      <th>speechiness</th>\n",
       "      <th>tempo</th>\n",
       "      <th>time_signature</th>\n",
       "      <th>valence</th>\n",
       "    </tr>\n",
       "  </thead>\n",
       "  <tbody>\n",
       "    <tr>\n",
       "      <th>0</th>\n",
       "      <td>0.234429</td>\n",
       "      <td>0.153280</td>\n",
       "      <td>-1.087287</td>\n",
       "      <td>-0.034082</td>\n",
       "      <td>-0.111864</td>\n",
       "      <td>-0.924928</td>\n",
       "      <td>-0.569818</td>\n",
       "      <td>0.078899</td>\n",
       "      <td>-0.665590</td>\n",
       "      <td>-0.776052</td>\n",
       "      <td>0.110072</td>\n",
       "      <td>-1.499069</td>\n",
       "    </tr>\n",
       "    <tr>\n",
       "      <th>1</th>\n",
       "      <td>-0.744047</td>\n",
       "      <td>1.169892</td>\n",
       "      <td>-0.953584</td>\n",
       "      <td>1.390222</td>\n",
       "      <td>-0.111643</td>\n",
       "      <td>-1.467484</td>\n",
       "      <td>-0.704061</td>\n",
       "      <td>1.114347</td>\n",
       "      <td>1.339700</td>\n",
       "      <td>0.212902</td>\n",
       "      <td>0.110072</td>\n",
       "      <td>0.635067</td>\n",
       "    </tr>\n",
       "    <tr>\n",
       "      <th>2</th>\n",
       "      <td>-0.801507</td>\n",
       "      <td>1.054532</td>\n",
       "      <td>1.370844</td>\n",
       "      <td>-0.403567</td>\n",
       "      <td>-0.110689</td>\n",
       "      <td>0.160186</td>\n",
       "      <td>-0.686582</td>\n",
       "      <td>-0.091923</td>\n",
       "      <td>-0.312020</td>\n",
       "      <td>0.214459</td>\n",
       "      <td>0.110072</td>\n",
       "      <td>-0.529007</td>\n",
       "    </tr>\n",
       "    <tr>\n",
       "      <th>3</th>\n",
       "      <td>2.912313</td>\n",
       "      <td>0.448891</td>\n",
       "      <td>1.266950</td>\n",
       "      <td>0.156620</td>\n",
       "      <td>-0.111864</td>\n",
       "      <td>1.516578</td>\n",
       "      <td>0.661443</td>\n",
       "      <td>0.821089</td>\n",
       "      <td>2.521722</td>\n",
       "      <td>-1.162309</td>\n",
       "      <td>0.110072</td>\n",
       "      <td>-0.041720</td>\n",
       "    </tr>\n",
       "    <tr>\n",
       "      <th>4</th>\n",
       "      <td>1.970908</td>\n",
       "      <td>-0.113491</td>\n",
       "      <td>0.658783</td>\n",
       "      <td>-0.659823</td>\n",
       "      <td>-0.111864</td>\n",
       "      <td>-0.111093</td>\n",
       "      <td>0.088113</td>\n",
       "      <td>-0.758380</td>\n",
       "      <td>-0.602341</td>\n",
       "      <td>-0.776016</td>\n",
       "      <td>0.110072</td>\n",
       "      <td>-0.560590</td>\n",
       "    </tr>\n",
       "  </tbody>\n",
       "</table>\n",
       "</div>"
      ],
      "text/plain": [
       "   acousticness  danceability  duration_ms    energy  instrumentalness  \\\n",
       "0      0.234429      0.153280    -1.087287 -0.034082         -0.111864   \n",
       "1     -0.744047      1.169892    -0.953584  1.390222         -0.111643   \n",
       "2     -0.801507      1.054532     1.370844 -0.403567         -0.110689   \n",
       "3      2.912313      0.448891     1.266950  0.156620         -0.111864   \n",
       "4      1.970908     -0.113491     0.658783 -0.659823         -0.111864   \n",
       "\n",
       "        key  liveness  loudness  speechiness     tempo  time_signature  \\\n",
       "0 -0.924928 -0.569818  0.078899    -0.665590 -0.776052        0.110072   \n",
       "1 -1.467484 -0.704061  1.114347     1.339700  0.212902        0.110072   \n",
       "2  0.160186 -0.686582 -0.091923    -0.312020  0.214459        0.110072   \n",
       "3  1.516578  0.661443  0.821089     2.521722 -1.162309        0.110072   \n",
       "4 -0.111093  0.088113 -0.758380    -0.602341 -0.776016        0.110072   \n",
       "\n",
       "    valence  \n",
       "0 -1.499069  \n",
       "1  0.635067  \n",
       "2 -0.529007  \n",
       "3 -0.041720  \n",
       "4 -0.560590  "
      ]
     },
     "execution_count": 3,
     "metadata": {},
     "output_type": "execute_result"
    }
   ],
   "source": [
    "no_title = data.drop(['title', 'label'], axis=1)\n",
    "z_scores=(no_title - no_title.mean())/no_title.std()\n",
    "z_scores.head()"
   ]
  },
  {
   "cell_type": "code",
   "execution_count": 56,
   "metadata": {},
   "outputs": [
    {
     "name": "stdout",
     "output_type": "stream",
     "text": [
      "[2.7329680037073145, 2.1948466714079466, 1.6361565821815707, 3.560806103766256, 1.5099574136833491, 1.273709376402949, 1.786414884476453, 3.264330658962157, 1.9324017245762282, 1.884353906738323, 1.7827839781681039, 2.7386064388550784]\n"
     ]
    }
   ],
   "source": [
    "corr = no_title.corr()\n",
    "total_corr = []\n",
    "c = 0\n",
    "for effect in corr:\n",
    "    ind = 0\n",
    "    for i in corr[effect]:\n",
    "        if c == 0:\n",
    "            total_corr.append(0)\n",
    "        total_corr[ind] += abs(i)\n",
    "        ind+=1\n",
    "    c += 1\n",
    "print(total_corr)\n",
    "        \n"
   ]
  },
  {
   "cell_type": "code",
   "execution_count": 48,
   "metadata": {},
   "outputs": [
    {
     "data": {
      "text/html": [
       "<div>\n",
       "<style scoped>\n",
       "    .dataframe tbody tr th:only-of-type {\n",
       "        vertical-align: middle;\n",
       "    }\n",
       "\n",
       "    .dataframe tbody tr th {\n",
       "        vertical-align: top;\n",
       "    }\n",
       "\n",
       "    .dataframe thead th {\n",
       "        text-align: right;\n",
       "    }\n",
       "</style>\n",
       "<table border=\"1\" class=\"dataframe\">\n",
       "  <thead>\n",
       "    <tr style=\"text-align: right;\">\n",
       "      <th></th>\n",
       "      <th>acousticness</th>\n",
       "      <th>danceability</th>\n",
       "      <th>duration_ms</th>\n",
       "      <th>energy</th>\n",
       "      <th>instrumentalness</th>\n",
       "      <th>key</th>\n",
       "      <th>liveness</th>\n",
       "      <th>loudness</th>\n",
       "      <th>speechiness</th>\n",
       "      <th>tempo</th>\n",
       "      <th>time_signature</th>\n",
       "      <th>valence</th>\n",
       "    </tr>\n",
       "  </thead>\n",
       "  <tbody>\n",
       "    <tr>\n",
       "      <th>acousticness</th>\n",
       "      <td>1.000000</td>\n",
       "      <td>-0.184256</td>\n",
       "      <td>-0.007125</td>\n",
       "      <td>-0.520882</td>\n",
       "      <td>0.069646</td>\n",
       "      <td>-0.003758</td>\n",
       "      <td>-0.066380</td>\n",
       "      <td>-0.419566</td>\n",
       "      <td>-0.036140</td>\n",
       "      <td>-0.146195</td>\n",
       "      <td>-0.104638</td>\n",
       "      <td>-0.174381</td>\n",
       "    </tr>\n",
       "    <tr>\n",
       "      <th>danceability</th>\n",
       "      <td>-0.184256</td>\n",
       "      <td>1.000000</td>\n",
       "      <td>-0.083887</td>\n",
       "      <td>-0.041506</td>\n",
       "      <td>0.008108</td>\n",
       "      <td>0.013918</td>\n",
       "      <td>-0.068204</td>\n",
       "      <td>0.057201</td>\n",
       "      <td>0.232517</td>\n",
       "      <td>-0.133679</td>\n",
       "      <td>0.097874</td>\n",
       "      <td>0.273697</td>\n",
       "    </tr>\n",
       "    <tr>\n",
       "      <th>duration_ms</th>\n",
       "      <td>-0.007125</td>\n",
       "      <td>-0.083887</td>\n",
       "      <td>1.000000</td>\n",
       "      <td>-0.089369</td>\n",
       "      <td>0.027760</td>\n",
       "      <td>-0.045954</td>\n",
       "      <td>0.056755</td>\n",
       "      <td>-0.090763</td>\n",
       "      <td>-0.018312</td>\n",
       "      <td>-0.004759</td>\n",
       "      <td>-0.025812</td>\n",
       "      <td>-0.185662</td>\n",
       "    </tr>\n",
       "    <tr>\n",
       "      <th>energy</th>\n",
       "      <td>-0.520882</td>\n",
       "      <td>-0.041506</td>\n",
       "      <td>-0.089369</td>\n",
       "      <td>1.000000</td>\n",
       "      <td>-0.054364</td>\n",
       "      <td>0.032311</td>\n",
       "      <td>0.171197</td>\n",
       "      <td>0.732734</td>\n",
       "      <td>-0.099753</td>\n",
       "      <td>0.193083</td>\n",
       "      <td>0.182769</td>\n",
       "      <td>0.442839</td>\n",
       "    </tr>\n",
       "    <tr>\n",
       "      <th>instrumentalness</th>\n",
       "      <td>0.069646</td>\n",
       "      <td>0.008108</td>\n",
       "      <td>0.027760</td>\n",
       "      <td>-0.054364</td>\n",
       "      <td>1.000000</td>\n",
       "      <td>0.033556</td>\n",
       "      <td>0.001823</td>\n",
       "      <td>-0.212182</td>\n",
       "      <td>-0.022305</td>\n",
       "      <td>0.001817</td>\n",
       "      <td>0.011647</td>\n",
       "      <td>-0.066750</td>\n",
       "    </tr>\n",
       "    <tr>\n",
       "      <th>key</th>\n",
       "      <td>-0.003758</td>\n",
       "      <td>0.013918</td>\n",
       "      <td>-0.045954</td>\n",
       "      <td>0.032311</td>\n",
       "      <td>0.033556</td>\n",
       "      <td>1.000000</td>\n",
       "      <td>0.012247</td>\n",
       "      <td>0.008563</td>\n",
       "      <td>0.078638</td>\n",
       "      <td>-0.002376</td>\n",
       "      <td>0.004328</td>\n",
       "      <td>0.038061</td>\n",
       "    </tr>\n",
       "    <tr>\n",
       "      <th>liveness</th>\n",
       "      <td>-0.066380</td>\n",
       "      <td>-0.068204</td>\n",
       "      <td>0.056755</td>\n",
       "      <td>0.171197</td>\n",
       "      <td>0.001823</td>\n",
       "      <td>0.012247</td>\n",
       "      <td>1.000000</td>\n",
       "      <td>0.074880</td>\n",
       "      <td>0.150872</td>\n",
       "      <td>0.068766</td>\n",
       "      <td>0.047602</td>\n",
       "      <td>0.067690</td>\n",
       "    </tr>\n",
       "    <tr>\n",
       "      <th>loudness</th>\n",
       "      <td>-0.419566</td>\n",
       "      <td>0.057201</td>\n",
       "      <td>-0.090763</td>\n",
       "      <td>0.732734</td>\n",
       "      <td>-0.212182</td>\n",
       "      <td>0.008563</td>\n",
       "      <td>0.074880</td>\n",
       "      <td>1.000000</td>\n",
       "      <td>-0.106264</td>\n",
       "      <td>0.127396</td>\n",
       "      <td>0.143307</td>\n",
       "      <td>0.291474</td>\n",
       "    </tr>\n",
       "    <tr>\n",
       "      <th>speechiness</th>\n",
       "      <td>-0.036140</td>\n",
       "      <td>0.232517</td>\n",
       "      <td>-0.018312</td>\n",
       "      <td>-0.099753</td>\n",
       "      <td>-0.022305</td>\n",
       "      <td>0.078638</td>\n",
       "      <td>0.150872</td>\n",
       "      <td>-0.106264</td>\n",
       "      <td>1.000000</td>\n",
       "      <td>0.113213</td>\n",
       "      <td>0.052869</td>\n",
       "      <td>0.021518</td>\n",
       "    </tr>\n",
       "    <tr>\n",
       "      <th>tempo</th>\n",
       "      <td>-0.146195</td>\n",
       "      <td>-0.133679</td>\n",
       "      <td>-0.004759</td>\n",
       "      <td>0.193083</td>\n",
       "      <td>0.001817</td>\n",
       "      <td>-0.002376</td>\n",
       "      <td>0.068766</td>\n",
       "      <td>0.127396</td>\n",
       "      <td>0.113213</td>\n",
       "      <td>1.000000</td>\n",
       "      <td>0.014236</td>\n",
       "      <td>0.078833</td>\n",
       "    </tr>\n",
       "    <tr>\n",
       "      <th>time_signature</th>\n",
       "      <td>-0.104638</td>\n",
       "      <td>0.097874</td>\n",
       "      <td>-0.025812</td>\n",
       "      <td>0.182769</td>\n",
       "      <td>0.011647</td>\n",
       "      <td>0.004328</td>\n",
       "      <td>0.047602</td>\n",
       "      <td>0.143307</td>\n",
       "      <td>0.052869</td>\n",
       "      <td>0.014236</td>\n",
       "      <td>1.000000</td>\n",
       "      <td>0.097703</td>\n",
       "    </tr>\n",
       "    <tr>\n",
       "      <th>valence</th>\n",
       "      <td>-0.174381</td>\n",
       "      <td>0.273697</td>\n",
       "      <td>-0.185662</td>\n",
       "      <td>0.442839</td>\n",
       "      <td>-0.066750</td>\n",
       "      <td>0.038061</td>\n",
       "      <td>0.067690</td>\n",
       "      <td>0.291474</td>\n",
       "      <td>0.021518</td>\n",
       "      <td>0.078833</td>\n",
       "      <td>0.097703</td>\n",
       "      <td>1.000000</td>\n",
       "    </tr>\n",
       "  </tbody>\n",
       "</table>\n",
       "</div>"
      ],
      "text/plain": [
       "                  acousticness  danceability  duration_ms    energy  \\\n",
       "acousticness          1.000000     -0.184256    -0.007125 -0.520882   \n",
       "danceability         -0.184256      1.000000    -0.083887 -0.041506   \n",
       "duration_ms          -0.007125     -0.083887     1.000000 -0.089369   \n",
       "energy               -0.520882     -0.041506    -0.089369  1.000000   \n",
       "instrumentalness      0.069646      0.008108     0.027760 -0.054364   \n",
       "key                  -0.003758      0.013918    -0.045954  0.032311   \n",
       "liveness             -0.066380     -0.068204     0.056755  0.171197   \n",
       "loudness             -0.419566      0.057201    -0.090763  0.732734   \n",
       "speechiness          -0.036140      0.232517    -0.018312 -0.099753   \n",
       "tempo                -0.146195     -0.133679    -0.004759  0.193083   \n",
       "time_signature       -0.104638      0.097874    -0.025812  0.182769   \n",
       "valence              -0.174381      0.273697    -0.185662  0.442839   \n",
       "\n",
       "                  instrumentalness       key  liveness  loudness  speechiness  \\\n",
       "acousticness              0.069646 -0.003758 -0.066380 -0.419566    -0.036140   \n",
       "danceability              0.008108  0.013918 -0.068204  0.057201     0.232517   \n",
       "duration_ms               0.027760 -0.045954  0.056755 -0.090763    -0.018312   \n",
       "energy                   -0.054364  0.032311  0.171197  0.732734    -0.099753   \n",
       "instrumentalness          1.000000  0.033556  0.001823 -0.212182    -0.022305   \n",
       "key                       0.033556  1.000000  0.012247  0.008563     0.078638   \n",
       "liveness                  0.001823  0.012247  1.000000  0.074880     0.150872   \n",
       "loudness                 -0.212182  0.008563  0.074880  1.000000    -0.106264   \n",
       "speechiness              -0.022305  0.078638  0.150872 -0.106264     1.000000   \n",
       "tempo                     0.001817 -0.002376  0.068766  0.127396     0.113213   \n",
       "time_signature            0.011647  0.004328  0.047602  0.143307     0.052869   \n",
       "valence                  -0.066750  0.038061  0.067690  0.291474     0.021518   \n",
       "\n",
       "                     tempo  time_signature   valence  \n",
       "acousticness     -0.146195       -0.104638 -0.174381  \n",
       "danceability     -0.133679        0.097874  0.273697  \n",
       "duration_ms      -0.004759       -0.025812 -0.185662  \n",
       "energy            0.193083        0.182769  0.442839  \n",
       "instrumentalness  0.001817        0.011647 -0.066750  \n",
       "key              -0.002376        0.004328  0.038061  \n",
       "liveness          0.068766        0.047602  0.067690  \n",
       "loudness          0.127396        0.143307  0.291474  \n",
       "speechiness       0.113213        0.052869  0.021518  \n",
       "tempo             1.000000        0.014236  0.078833  \n",
       "time_signature    0.014236        1.000000  0.097703  \n",
       "valence           0.078833        0.097703  1.000000  "
      ]
     },
     "execution_count": 48,
     "metadata": {},
     "output_type": "execute_result"
    }
   ],
   "source": [
    "corr"
   ]
  },
  {
   "cell_type": "code",
   "execution_count": 4,
   "metadata": {},
   "outputs": [],
   "source": [
    "x_train, x_test, y_train, y_test= train_test_split(z_scores, data['label'])"
   ]
  },
  {
   "cell_type": "markdown",
   "metadata": {},
   "source": [
    "Here we create a regression using every feature available in order to predict if a song will be popular or unpopular"
   ]
  },
  {
   "cell_type": "code",
   "execution_count": 5,
   "metadata": {},
   "outputs": [
    {
     "name": "stdout",
     "output_type": "stream",
     "text": [
      "[[ 0.00297953  0.02364152  0.09443518 -0.02099304 -0.08425741  0.060467\n",
      "  -0.09656124  0.03852642  0.12609256 -0.01052694  0.08745966  0.08939907]] [-0.01425616]\n"
     ]
    }
   ],
   "source": [
    "clf1 = LogisticRegression()\n",
    "clf1.fit(x_train, y_train)\n",
    "predicted_train = clf1.predict(x_train)\n",
    "predicted_test = clf1.predict(x_test)\n",
    "print (clf1.coef_, clf1.intercept_)"
   ]
  },
  {
   "cell_type": "markdown",
   "metadata": {},
   "source": [
    "An initial test of the R^2 values to determine predictive power. We see that the regression was able to explain 54% of the variability around the mean for the training data and 44.7% of the variability for the test data."
   ]
  },
  {
   "cell_type": "code",
   "execution_count": 6,
   "metadata": {},
   "outputs": [
    {
     "name": "stdout",
     "output_type": "stream",
     "text": [
      "0.5485074626865671\n",
      "0.4626865671641791\n"
     ]
    }
   ],
   "source": [
    "print(clf1.score(x_train, y_train))\n",
    "print(clf1.score(x_test, y_test))"
   ]
  },
  {
   "cell_type": "markdown",
   "metadata": {},
   "source": [
    "Now, we re-run the regression using the three variables with the highest coefficients in the original model, danceability, instrumentalness, and tempo."
   ]
  },
  {
   "cell_type": "code",
   "execution_count": 7,
   "metadata": {},
   "outputs": [],
   "source": [
    "test_2 = z_scores[['danceability', 'instrumentalness', 'tempo']]\n",
    "x_train2, x_test2, y_train2, y_test2= train_test_split(test_2, data['label'])"
   ]
  },
  {
   "cell_type": "code",
   "execution_count": 8,
   "metadata": {},
   "outputs": [
    {
     "name": "stdout",
     "output_type": "stream",
     "text": [
      "[[ 0.11341328 -0.17543239  0.08884292]] [-0.01935708]\n"
     ]
    }
   ],
   "source": [
    "clf2 = LogisticRegression()\n",
    "clf2.fit(x_train2, y_train2)\n",
    "predicted_train2 = clf2.predict(x_train2)\n",
    "predicted_test2 = clf2.predict(x_test2)\n",
    "print (clf2.coef_, clf2.intercept_)"
   ]
  },
  {
   "cell_type": "markdown",
   "metadata": {},
   "source": [
    "Here we see that limiting the number of variables we consider slightly increases our explaination power for the test data to 48.8%"
   ]
  },
  {
   "cell_type": "code",
   "execution_count": 9,
   "metadata": {},
   "outputs": [
    {
     "name": "stdout",
     "output_type": "stream",
     "text": [
      "0.527363184079602\n",
      "0.5186567164179104\n"
     ]
    }
   ],
   "source": [
    "print(clf2.score(x_train2, y_train2))\n",
    "print(clf2.score(x_test2, y_test2))"
   ]
  },
  {
   "cell_type": "code",
   "execution_count": 58,
   "metadata": {},
   "outputs": [],
   "source": [
    "test_3 = z_scores[['key', 'instrumentalness', 'duration_ms']]\n",
    "x_train3, x_test3, y_train3, y_test3= train_test_split(test_3, data['label'])"
   ]
  },
  {
   "cell_type": "code",
   "execution_count": 59,
   "metadata": {},
   "outputs": [
    {
     "name": "stdout",
     "output_type": "stream",
     "text": [
      "[[ 0.0264509  -0.00142037 -0.03638956]] [-0.02991092]\n"
     ]
    }
   ],
   "source": [
    "clf3 = LogisticRegression()\n",
    "clf3.fit(x_train3, y_train3)\n",
    "predicted_train3 = clf3.predict(x_train3)\n",
    "predicted_test3 = clf3.predict(x_test3)\n",
    "print (clf3.coef_, clf3.intercept_)"
   ]
  },
  {
   "cell_type": "code",
   "execution_count": 60,
   "metadata": {},
   "outputs": [
    {
     "name": "stdout",
     "output_type": "stream",
     "text": [
      "0.5\n",
      "0.47761194029850745\n"
     ]
    }
   ],
   "source": [
    "print(clf3.score(x_train3, y_train3))\n",
    "print(clf3.score(x_test3, y_test3))"
   ]
  },
  {
   "cell_type": "code",
   "execution_count": 65,
   "metadata": {},
   "outputs": [
    {
     "name": "stderr",
     "output_type": "stream",
     "text": [
      "/Applications/Anaconda/anaconda3/lib/python3.6/site-packages/ipykernel_launcher.py:2: FutureWarning: reshape is deprecated and will raise in a subsequent release. Please use .values.reshape(...) instead\n",
      "  \n"
     ]
    }
   ],
   "source": [
    "test_4 = z_scores['instrumentalness']\n",
    "test_4 = test_4.reshape(-1, 1)\n",
    "x_train4, x_test4, y_train4, y_test4= train_test_split(test_4, data['label'])"
   ]
  },
  {
   "cell_type": "code",
   "execution_count": 66,
   "metadata": {},
   "outputs": [
    {
     "name": "stdout",
     "output_type": "stream",
     "text": [
      "[[-0.12723903]] [-0.03460261]\n"
     ]
    }
   ],
   "source": [
    "clf4 = LogisticRegression()\n",
    "clf4.fit(x_train4, y_train4)\n",
    "predicted_train4 = clf4.predict(x_train4)\n",
    "predicted_test4 = clf4.predict(x_test4)\n",
    "print (clf4.coef_, clf4.intercept_)"
   ]
  },
  {
   "cell_type": "code",
   "execution_count": 68,
   "metadata": {},
   "outputs": [
    {
     "name": "stdout",
     "output_type": "stream",
     "text": [
      "0.5074626865671642\n",
      "0.47761194029850745\n"
     ]
    }
   ],
   "source": [
    "print(clf4.score(x_train4, y_train4))\n",
    "print(clf4.score(x_test4, y_test4))"
   ]
  },
  {
   "cell_type": "code",
   "execution_count": null,
   "metadata": {},
   "outputs": [],
   "source": []
  }
 ],
 "metadata": {
  "kernelspec": {
   "display_name": "Python 3",
   "language": "python",
   "name": "python3"
  },
  "language_info": {
   "codemirror_mode": {
    "name": "ipython",
    "version": 3
   },
   "file_extension": ".py",
   "mimetype": "text/x-python",
   "name": "python",
   "nbconvert_exporter": "python",
   "pygments_lexer": "ipython3",
   "version": "3.6.4"
  }
 },
 "nbformat": 4,
 "nbformat_minor": 2
}
