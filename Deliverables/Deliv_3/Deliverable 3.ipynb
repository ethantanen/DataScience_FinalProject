{
 "cells": [
  {
   "cell_type": "markdown",
   "metadata": {},
   "source": [
    "### Introduction\n",
    "\n",
    "We decided to use logistic regression to model our data because it is a tried and true model for classification models do the sigmoid shape of the logit function. After this method yieled poor results we attempted to model our song data with a neural network. This also failed. The following document outlines our process. We used a series of different dimensionally reduces training sets with no avail "
   ]
  },
  {
   "cell_type": "code",
   "execution_count": 82,
   "metadata": {},
   "outputs": [],
   "source": [
    "from collections import defaultdict\n",
    "import json\n",
    "\n",
    "import numpy as np\n",
    "import scipy as sp\n",
    "import matplotlib.pyplot as plt\n",
    "import matplotlib\n",
    "import pandas as pd\n",
    "from sklearn.linear_model import LinearRegression\n",
    "from sklearn.linear_model import LogisticRegression\n",
    "from sklearn.cross_validation import train_test_split"
   ]
  },
  {
   "cell_type": "markdown",
   "metadata": {},
   "source": [
    "### Regression"
   ]
  },
  {
   "cell_type": "markdown",
   "metadata": {},
   "source": [
    "#### Model"
   ]
  },
  {
   "cell_type": "markdown",
   "metadata": {},
   "source": [
    "First we load the csv created earlier into a data frame and then calculate z-scores for every effect in order to make our logistic regression model accurate and understandable. "
   ]
  },
  {
   "cell_type": "code",
   "execution_count": 83,
   "metadata": {},
   "outputs": [
    {
     "data": {
      "text/html": [
       "<div>\n",
       "<style scoped>\n",
       "    .dataframe tbody tr th:only-of-type {\n",
       "        vertical-align: middle;\n",
       "    }\n",
       "\n",
       "    .dataframe tbody tr th {\n",
       "        vertical-align: top;\n",
       "    }\n",
       "\n",
       "    .dataframe thead th {\n",
       "        text-align: right;\n",
       "    }\n",
       "</style>\n",
       "<table border=\"1\" class=\"dataframe\">\n",
       "  <thead>\n",
       "    <tr style=\"text-align: right;\">\n",
       "      <th></th>\n",
       "      <th>acousticness</th>\n",
       "      <th>danceability</th>\n",
       "      <th>duration_ms</th>\n",
       "      <th>energy</th>\n",
       "      <th>instrumentalness</th>\n",
       "      <th>key</th>\n",
       "      <th>liveness</th>\n",
       "      <th>loudness</th>\n",
       "      <th>speechiness</th>\n",
       "      <th>tempo</th>\n",
       "      <th>time_signature</th>\n",
       "      <th>valence</th>\n",
       "      <th>label</th>\n",
       "      <th>title</th>\n",
       "    </tr>\n",
       "  </thead>\n",
       "  <tbody>\n",
       "    <tr>\n",
       "      <th>0</th>\n",
       "      <td>0.21400</td>\n",
       "      <td>0.666</td>\n",
       "      <td>178242</td>\n",
       "      <td>0.677</td>\n",
       "      <td>0.000000</td>\n",
       "      <td>2</td>\n",
       "      <td>0.0979</td>\n",
       "      <td>-5.743</td>\n",
       "      <td>0.0326</td>\n",
       "      <td>100.014</td>\n",
       "      <td>4</td>\n",
       "      <td>0.178</td>\n",
       "      <td>1</td>\n",
       "      <td>#Beautiful</td>\n",
       "    </tr>\n",
       "    <tr>\n",
       "      <th>1</th>\n",
       "      <td>0.01340</td>\n",
       "      <td>0.807</td>\n",
       "      <td>183750</td>\n",
       "      <td>0.916</td>\n",
       "      <td>0.000012</td>\n",
       "      <td>0</td>\n",
       "      <td>0.0787</td>\n",
       "      <td>-3.282</td>\n",
       "      <td>0.2260</td>\n",
       "      <td>127.973</td>\n",
       "      <td>4</td>\n",
       "      <td>0.651</td>\n",
       "      <td>1</td>\n",
       "      <td>#SELFIE</td>\n",
       "    </tr>\n",
       "    <tr>\n",
       "      <th>2</th>\n",
       "      <td>0.00162</td>\n",
       "      <td>0.791</td>\n",
       "      <td>279507</td>\n",
       "      <td>0.615</td>\n",
       "      <td>0.000065</td>\n",
       "      <td>6</td>\n",
       "      <td>0.0812</td>\n",
       "      <td>-6.149</td>\n",
       "      <td>0.0667</td>\n",
       "      <td>128.017</td>\n",
       "      <td>4</td>\n",
       "      <td>0.393</td>\n",
       "      <td>1</td>\n",
       "      <td>#thatPOWER</td>\n",
       "    </tr>\n",
       "    <tr>\n",
       "      <th>3</th>\n",
       "      <td>0.76300</td>\n",
       "      <td>0.707</td>\n",
       "      <td>275227</td>\n",
       "      <td>0.709</td>\n",
       "      <td>0.000000</td>\n",
       "      <td>11</td>\n",
       "      <td>0.2740</td>\n",
       "      <td>-3.979</td>\n",
       "      <td>0.3400</td>\n",
       "      <td>89.094</td>\n",
       "      <td>4</td>\n",
       "      <td>0.501</td>\n",
       "      <td>1</td>\n",
       "      <td>0 To 100 / The Catch Up</td>\n",
       "    </tr>\n",
       "    <tr>\n",
       "      <th>4</th>\n",
       "      <td>0.57000</td>\n",
       "      <td>0.629</td>\n",
       "      <td>250173</td>\n",
       "      <td>0.572</td>\n",
       "      <td>0.000000</td>\n",
       "      <td>5</td>\n",
       "      <td>0.1920</td>\n",
       "      <td>-7.733</td>\n",
       "      <td>0.0387</td>\n",
       "      <td>100.015</td>\n",
       "      <td>4</td>\n",
       "      <td>0.386</td>\n",
       "      <td>1</td>\n",
       "      <td>1-800-273-8255</td>\n",
       "    </tr>\n",
       "  </tbody>\n",
       "</table>\n",
       "</div>"
      ],
      "text/plain": [
       "   acousticness  danceability  duration_ms  energy  instrumentalness  key  \\\n",
       "0       0.21400         0.666       178242   0.677          0.000000    2   \n",
       "1       0.01340         0.807       183750   0.916          0.000012    0   \n",
       "2       0.00162         0.791       279507   0.615          0.000065    6   \n",
       "3       0.76300         0.707       275227   0.709          0.000000   11   \n",
       "4       0.57000         0.629       250173   0.572          0.000000    5   \n",
       "\n",
       "   liveness  loudness  speechiness    tempo  time_signature  valence  label  \\\n",
       "0    0.0979    -5.743       0.0326  100.014               4    0.178      1   \n",
       "1    0.0787    -3.282       0.2260  127.973               4    0.651      1   \n",
       "2    0.0812    -6.149       0.0667  128.017               4    0.393      1   \n",
       "3    0.2740    -3.979       0.3400   89.094               4    0.501      1   \n",
       "4    0.1920    -7.733       0.0387  100.015               4    0.386      1   \n",
       "\n",
       "                     title  \n",
       "0               #Beautiful  \n",
       "1                  #SELFIE  \n",
       "2               #thatPOWER  \n",
       "3  0 To 100 / The Catch Up  \n",
       "4           1-800-273-8255  "
      ]
     },
     "execution_count": 83,
     "metadata": {},
     "output_type": "execute_result"
    }
   ],
   "source": [
    "data = pd.read_csv(\"../../DataSets/balanced_pop_unpop_features.csv\", sep=\",\")\n",
    "data['title'] = data['Unnamed: 0']\n",
    "data = data.drop('Unnamed: 0', axis=1)\n",
    "data.head()"
   ]
  },
  {
   "cell_type": "code",
   "execution_count": 84,
   "metadata": {},
   "outputs": [
    {
     "data": {
      "text/html": [
       "<div>\n",
       "<style scoped>\n",
       "    .dataframe tbody tr th:only-of-type {\n",
       "        vertical-align: middle;\n",
       "    }\n",
       "\n",
       "    .dataframe tbody tr th {\n",
       "        vertical-align: top;\n",
       "    }\n",
       "\n",
       "    .dataframe thead th {\n",
       "        text-align: right;\n",
       "    }\n",
       "</style>\n",
       "<table border=\"1\" class=\"dataframe\">\n",
       "  <thead>\n",
       "    <tr style=\"text-align: right;\">\n",
       "      <th></th>\n",
       "      <th>acousticness</th>\n",
       "      <th>danceability</th>\n",
       "      <th>duration_ms</th>\n",
       "      <th>energy</th>\n",
       "      <th>instrumentalness</th>\n",
       "      <th>key</th>\n",
       "      <th>liveness</th>\n",
       "      <th>loudness</th>\n",
       "      <th>speechiness</th>\n",
       "      <th>tempo</th>\n",
       "      <th>time_signature</th>\n",
       "      <th>valence</th>\n",
       "    </tr>\n",
       "  </thead>\n",
       "  <tbody>\n",
       "    <tr>\n",
       "      <th>0</th>\n",
       "      <td>0.234429</td>\n",
       "      <td>0.153280</td>\n",
       "      <td>-1.087287</td>\n",
       "      <td>-0.034082</td>\n",
       "      <td>-0.111864</td>\n",
       "      <td>-0.924928</td>\n",
       "      <td>-0.569818</td>\n",
       "      <td>0.078899</td>\n",
       "      <td>-0.665590</td>\n",
       "      <td>-0.776052</td>\n",
       "      <td>0.110072</td>\n",
       "      <td>-1.499069</td>\n",
       "    </tr>\n",
       "    <tr>\n",
       "      <th>1</th>\n",
       "      <td>-0.744047</td>\n",
       "      <td>1.169892</td>\n",
       "      <td>-0.953584</td>\n",
       "      <td>1.390222</td>\n",
       "      <td>-0.111643</td>\n",
       "      <td>-1.467484</td>\n",
       "      <td>-0.704061</td>\n",
       "      <td>1.114347</td>\n",
       "      <td>1.339700</td>\n",
       "      <td>0.212902</td>\n",
       "      <td>0.110072</td>\n",
       "      <td>0.635067</td>\n",
       "    </tr>\n",
       "    <tr>\n",
       "      <th>2</th>\n",
       "      <td>-0.801507</td>\n",
       "      <td>1.054532</td>\n",
       "      <td>1.370844</td>\n",
       "      <td>-0.403567</td>\n",
       "      <td>-0.110689</td>\n",
       "      <td>0.160186</td>\n",
       "      <td>-0.686582</td>\n",
       "      <td>-0.091923</td>\n",
       "      <td>-0.312020</td>\n",
       "      <td>0.214459</td>\n",
       "      <td>0.110072</td>\n",
       "      <td>-0.529007</td>\n",
       "    </tr>\n",
       "    <tr>\n",
       "      <th>3</th>\n",
       "      <td>2.912313</td>\n",
       "      <td>0.448891</td>\n",
       "      <td>1.266950</td>\n",
       "      <td>0.156620</td>\n",
       "      <td>-0.111864</td>\n",
       "      <td>1.516578</td>\n",
       "      <td>0.661443</td>\n",
       "      <td>0.821089</td>\n",
       "      <td>2.521722</td>\n",
       "      <td>-1.162309</td>\n",
       "      <td>0.110072</td>\n",
       "      <td>-0.041720</td>\n",
       "    </tr>\n",
       "    <tr>\n",
       "      <th>4</th>\n",
       "      <td>1.970908</td>\n",
       "      <td>-0.113491</td>\n",
       "      <td>0.658783</td>\n",
       "      <td>-0.659823</td>\n",
       "      <td>-0.111864</td>\n",
       "      <td>-0.111093</td>\n",
       "      <td>0.088113</td>\n",
       "      <td>-0.758380</td>\n",
       "      <td>-0.602341</td>\n",
       "      <td>-0.776016</td>\n",
       "      <td>0.110072</td>\n",
       "      <td>-0.560590</td>\n",
       "    </tr>\n",
       "  </tbody>\n",
       "</table>\n",
       "</div>"
      ],
      "text/plain": [
       "   acousticness  danceability  duration_ms    energy  instrumentalness  \\\n",
       "0      0.234429      0.153280    -1.087287 -0.034082         -0.111864   \n",
       "1     -0.744047      1.169892    -0.953584  1.390222         -0.111643   \n",
       "2     -0.801507      1.054532     1.370844 -0.403567         -0.110689   \n",
       "3      2.912313      0.448891     1.266950  0.156620         -0.111864   \n",
       "4      1.970908     -0.113491     0.658783 -0.659823         -0.111864   \n",
       "\n",
       "        key  liveness  loudness  speechiness     tempo  time_signature  \\\n",
       "0 -0.924928 -0.569818  0.078899    -0.665590 -0.776052        0.110072   \n",
       "1 -1.467484 -0.704061  1.114347     1.339700  0.212902        0.110072   \n",
       "2  0.160186 -0.686582 -0.091923    -0.312020  0.214459        0.110072   \n",
       "3  1.516578  0.661443  0.821089     2.521722 -1.162309        0.110072   \n",
       "4 -0.111093  0.088113 -0.758380    -0.602341 -0.776016        0.110072   \n",
       "\n",
       "    valence  \n",
       "0 -1.499069  \n",
       "1  0.635067  \n",
       "2 -0.529007  \n",
       "3 -0.041720  \n",
       "4 -0.560590  "
      ]
     },
     "execution_count": 84,
     "metadata": {},
     "output_type": "execute_result"
    }
   ],
   "source": [
    "no_title = data.drop(['title', 'label'], axis=1)\n",
    "z_scores=(no_title - no_title.mean())/no_title.std()\n",
    "z_scores.head()"
   ]
  },
  {
   "cell_type": "markdown",
   "metadata": {},
   "source": [
    "We will test a few different combinations of effects in order to find a model with the most predictive power. We first run a logistic regression using all of the features, then we chose the three features with the highest impact on the logistic regression that included all features and re-run a regression using only those 3. \n",
    "\n",
    "We also test our initial hypothesis that danceability alone will be a good predictor of popularity."
   ]
  },
  {
   "cell_type": "markdown",
   "metadata": {},
   "source": [
    "Next, to create another version of this model we calculated the total correlation between all variables and all other variables in order to try and determine which features could be excluded from the next iteration of the model. This lead us to using key, instrumentalness, and duration as the paramaters as these 3 features all had the lowest total correlations as well as low correlation values with each other."
   ]
  },
  {
   "cell_type": "code",
   "execution_count": 85,
   "metadata": {},
   "outputs": [
    {
     "name": "stdout",
     "output_type": "stream",
     "text": [
      "[2.7329680037073145, 2.1948466714079466, 1.6361565821815707, 3.560806103766256, 1.5099574136833491, 1.273709376402949, 1.786414884476453, 3.264330658962157, 1.9324017245762282, 1.884353906738323, 1.7827839781681039, 2.7386064388550784]\n"
     ]
    }
   ],
   "source": [
    "corr = no_title.corr()\n",
    "total_corr = []\n",
    "c = 0\n",
    "for feature in corr:\n",
    "    ind = 0\n",
    "    for i in corr[feature]:\n",
    "        if c == 0:\n",
    "            total_corr.append(0)\n",
    "        total_corr[ind] += abs(i)\n",
    "        ind+=1\n",
    "    c += 1\n",
    "print(total_corr)"
   ]
  },
  {
   "cell_type": "code",
   "execution_count": 86,
   "metadata": {},
   "outputs": [
    {
     "data": {
      "text/html": [
       "<div>\n",
       "<style scoped>\n",
       "    .dataframe tbody tr th:only-of-type {\n",
       "        vertical-align: middle;\n",
       "    }\n",
       "\n",
       "    .dataframe tbody tr th {\n",
       "        vertical-align: top;\n",
       "    }\n",
       "\n",
       "    .dataframe thead th {\n",
       "        text-align: right;\n",
       "    }\n",
       "</style>\n",
       "<table border=\"1\" class=\"dataframe\">\n",
       "  <thead>\n",
       "    <tr style=\"text-align: right;\">\n",
       "      <th></th>\n",
       "      <th>acousticness</th>\n",
       "      <th>danceability</th>\n",
       "      <th>duration_ms</th>\n",
       "      <th>energy</th>\n",
       "      <th>instrumentalness</th>\n",
       "      <th>key</th>\n",
       "      <th>liveness</th>\n",
       "      <th>loudness</th>\n",
       "      <th>speechiness</th>\n",
       "      <th>tempo</th>\n",
       "      <th>time_signature</th>\n",
       "      <th>valence</th>\n",
       "    </tr>\n",
       "  </thead>\n",
       "  <tbody>\n",
       "    <tr>\n",
       "      <th>acousticness</th>\n",
       "      <td>1.000000</td>\n",
       "      <td>-0.184256</td>\n",
       "      <td>-0.007125</td>\n",
       "      <td>-0.520882</td>\n",
       "      <td>0.069646</td>\n",
       "      <td>-0.003758</td>\n",
       "      <td>-0.066380</td>\n",
       "      <td>-0.419566</td>\n",
       "      <td>-0.036140</td>\n",
       "      <td>-0.146195</td>\n",
       "      <td>-0.104638</td>\n",
       "      <td>-0.174381</td>\n",
       "    </tr>\n",
       "    <tr>\n",
       "      <th>danceability</th>\n",
       "      <td>-0.184256</td>\n",
       "      <td>1.000000</td>\n",
       "      <td>-0.083887</td>\n",
       "      <td>-0.041506</td>\n",
       "      <td>0.008108</td>\n",
       "      <td>0.013918</td>\n",
       "      <td>-0.068204</td>\n",
       "      <td>0.057201</td>\n",
       "      <td>0.232517</td>\n",
       "      <td>-0.133679</td>\n",
       "      <td>0.097874</td>\n",
       "      <td>0.273697</td>\n",
       "    </tr>\n",
       "    <tr>\n",
       "      <th>duration_ms</th>\n",
       "      <td>-0.007125</td>\n",
       "      <td>-0.083887</td>\n",
       "      <td>1.000000</td>\n",
       "      <td>-0.089369</td>\n",
       "      <td>0.027760</td>\n",
       "      <td>-0.045954</td>\n",
       "      <td>0.056755</td>\n",
       "      <td>-0.090763</td>\n",
       "      <td>-0.018312</td>\n",
       "      <td>-0.004759</td>\n",
       "      <td>-0.025812</td>\n",
       "      <td>-0.185662</td>\n",
       "    </tr>\n",
       "    <tr>\n",
       "      <th>energy</th>\n",
       "      <td>-0.520882</td>\n",
       "      <td>-0.041506</td>\n",
       "      <td>-0.089369</td>\n",
       "      <td>1.000000</td>\n",
       "      <td>-0.054364</td>\n",
       "      <td>0.032311</td>\n",
       "      <td>0.171197</td>\n",
       "      <td>0.732734</td>\n",
       "      <td>-0.099753</td>\n",
       "      <td>0.193083</td>\n",
       "      <td>0.182769</td>\n",
       "      <td>0.442839</td>\n",
       "    </tr>\n",
       "    <tr>\n",
       "      <th>instrumentalness</th>\n",
       "      <td>0.069646</td>\n",
       "      <td>0.008108</td>\n",
       "      <td>0.027760</td>\n",
       "      <td>-0.054364</td>\n",
       "      <td>1.000000</td>\n",
       "      <td>0.033556</td>\n",
       "      <td>0.001823</td>\n",
       "      <td>-0.212182</td>\n",
       "      <td>-0.022305</td>\n",
       "      <td>0.001817</td>\n",
       "      <td>0.011647</td>\n",
       "      <td>-0.066750</td>\n",
       "    </tr>\n",
       "    <tr>\n",
       "      <th>key</th>\n",
       "      <td>-0.003758</td>\n",
       "      <td>0.013918</td>\n",
       "      <td>-0.045954</td>\n",
       "      <td>0.032311</td>\n",
       "      <td>0.033556</td>\n",
       "      <td>1.000000</td>\n",
       "      <td>0.012247</td>\n",
       "      <td>0.008563</td>\n",
       "      <td>0.078638</td>\n",
       "      <td>-0.002376</td>\n",
       "      <td>0.004328</td>\n",
       "      <td>0.038061</td>\n",
       "    </tr>\n",
       "    <tr>\n",
       "      <th>liveness</th>\n",
       "      <td>-0.066380</td>\n",
       "      <td>-0.068204</td>\n",
       "      <td>0.056755</td>\n",
       "      <td>0.171197</td>\n",
       "      <td>0.001823</td>\n",
       "      <td>0.012247</td>\n",
       "      <td>1.000000</td>\n",
       "      <td>0.074880</td>\n",
       "      <td>0.150872</td>\n",
       "      <td>0.068766</td>\n",
       "      <td>0.047602</td>\n",
       "      <td>0.067690</td>\n",
       "    </tr>\n",
       "    <tr>\n",
       "      <th>loudness</th>\n",
       "      <td>-0.419566</td>\n",
       "      <td>0.057201</td>\n",
       "      <td>-0.090763</td>\n",
       "      <td>0.732734</td>\n",
       "      <td>-0.212182</td>\n",
       "      <td>0.008563</td>\n",
       "      <td>0.074880</td>\n",
       "      <td>1.000000</td>\n",
       "      <td>-0.106264</td>\n",
       "      <td>0.127396</td>\n",
       "      <td>0.143307</td>\n",
       "      <td>0.291474</td>\n",
       "    </tr>\n",
       "    <tr>\n",
       "      <th>speechiness</th>\n",
       "      <td>-0.036140</td>\n",
       "      <td>0.232517</td>\n",
       "      <td>-0.018312</td>\n",
       "      <td>-0.099753</td>\n",
       "      <td>-0.022305</td>\n",
       "      <td>0.078638</td>\n",
       "      <td>0.150872</td>\n",
       "      <td>-0.106264</td>\n",
       "      <td>1.000000</td>\n",
       "      <td>0.113213</td>\n",
       "      <td>0.052869</td>\n",
       "      <td>0.021518</td>\n",
       "    </tr>\n",
       "    <tr>\n",
       "      <th>tempo</th>\n",
       "      <td>-0.146195</td>\n",
       "      <td>-0.133679</td>\n",
       "      <td>-0.004759</td>\n",
       "      <td>0.193083</td>\n",
       "      <td>0.001817</td>\n",
       "      <td>-0.002376</td>\n",
       "      <td>0.068766</td>\n",
       "      <td>0.127396</td>\n",
       "      <td>0.113213</td>\n",
       "      <td>1.000000</td>\n",
       "      <td>0.014236</td>\n",
       "      <td>0.078833</td>\n",
       "    </tr>\n",
       "    <tr>\n",
       "      <th>time_signature</th>\n",
       "      <td>-0.104638</td>\n",
       "      <td>0.097874</td>\n",
       "      <td>-0.025812</td>\n",
       "      <td>0.182769</td>\n",
       "      <td>0.011647</td>\n",
       "      <td>0.004328</td>\n",
       "      <td>0.047602</td>\n",
       "      <td>0.143307</td>\n",
       "      <td>0.052869</td>\n",
       "      <td>0.014236</td>\n",
       "      <td>1.000000</td>\n",
       "      <td>0.097703</td>\n",
       "    </tr>\n",
       "    <tr>\n",
       "      <th>valence</th>\n",
       "      <td>-0.174381</td>\n",
       "      <td>0.273697</td>\n",
       "      <td>-0.185662</td>\n",
       "      <td>0.442839</td>\n",
       "      <td>-0.066750</td>\n",
       "      <td>0.038061</td>\n",
       "      <td>0.067690</td>\n",
       "      <td>0.291474</td>\n",
       "      <td>0.021518</td>\n",
       "      <td>0.078833</td>\n",
       "      <td>0.097703</td>\n",
       "      <td>1.000000</td>\n",
       "    </tr>\n",
       "  </tbody>\n",
       "</table>\n",
       "</div>"
      ],
      "text/plain": [
       "                  acousticness  danceability  duration_ms    energy  \\\n",
       "acousticness          1.000000     -0.184256    -0.007125 -0.520882   \n",
       "danceability         -0.184256      1.000000    -0.083887 -0.041506   \n",
       "duration_ms          -0.007125     -0.083887     1.000000 -0.089369   \n",
       "energy               -0.520882     -0.041506    -0.089369  1.000000   \n",
       "instrumentalness      0.069646      0.008108     0.027760 -0.054364   \n",
       "key                  -0.003758      0.013918    -0.045954  0.032311   \n",
       "liveness             -0.066380     -0.068204     0.056755  0.171197   \n",
       "loudness             -0.419566      0.057201    -0.090763  0.732734   \n",
       "speechiness          -0.036140      0.232517    -0.018312 -0.099753   \n",
       "tempo                -0.146195     -0.133679    -0.004759  0.193083   \n",
       "time_signature       -0.104638      0.097874    -0.025812  0.182769   \n",
       "valence              -0.174381      0.273697    -0.185662  0.442839   \n",
       "\n",
       "                  instrumentalness       key  liveness  loudness  speechiness  \\\n",
       "acousticness              0.069646 -0.003758 -0.066380 -0.419566    -0.036140   \n",
       "danceability              0.008108  0.013918 -0.068204  0.057201     0.232517   \n",
       "duration_ms               0.027760 -0.045954  0.056755 -0.090763    -0.018312   \n",
       "energy                   -0.054364  0.032311  0.171197  0.732734    -0.099753   \n",
       "instrumentalness          1.000000  0.033556  0.001823 -0.212182    -0.022305   \n",
       "key                       0.033556  1.000000  0.012247  0.008563     0.078638   \n",
       "liveness                  0.001823  0.012247  1.000000  0.074880     0.150872   \n",
       "loudness                 -0.212182  0.008563  0.074880  1.000000    -0.106264   \n",
       "speechiness              -0.022305  0.078638  0.150872 -0.106264     1.000000   \n",
       "tempo                     0.001817 -0.002376  0.068766  0.127396     0.113213   \n",
       "time_signature            0.011647  0.004328  0.047602  0.143307     0.052869   \n",
       "valence                  -0.066750  0.038061  0.067690  0.291474     0.021518   \n",
       "\n",
       "                     tempo  time_signature   valence  \n",
       "acousticness     -0.146195       -0.104638 -0.174381  \n",
       "danceability     -0.133679        0.097874  0.273697  \n",
       "duration_ms      -0.004759       -0.025812 -0.185662  \n",
       "energy            0.193083        0.182769  0.442839  \n",
       "instrumentalness  0.001817        0.011647 -0.066750  \n",
       "key              -0.002376        0.004328  0.038061  \n",
       "liveness          0.068766        0.047602  0.067690  \n",
       "loudness          0.127396        0.143307  0.291474  \n",
       "speechiness       0.113213        0.052869  0.021518  \n",
       "tempo             1.000000        0.014236  0.078833  \n",
       "time_signature    0.014236        1.000000  0.097703  \n",
       "valence           0.078833        0.097703  1.000000  "
      ]
     },
     "execution_count": 86,
     "metadata": {},
     "output_type": "execute_result"
    }
   ],
   "source": [
    "corr"
   ]
  },
  {
   "cell_type": "markdown",
   "metadata": {},
   "source": [
    "In order to avoid overfitting in our models, it is necessary to split our data into two separate sets of test and training data."
   ]
  },
  {
   "cell_type": "code",
   "execution_count": 87,
   "metadata": {},
   "outputs": [
    {
     "name": "stderr",
     "output_type": "stream",
     "text": [
      "/anaconda3/lib/python3.6/site-packages/ipykernel_launcher.py:10: FutureWarning: reshape is deprecated and will raise in a subsequent release. Please use .values.reshape(...) instead\n",
      "  # Remove the CWD from sys.path while we load stuff.\n",
      "/anaconda3/lib/python3.6/site-packages/ipykernel_launcher.py:14: FutureWarning: reshape is deprecated and will raise in a subsequent release. Please use .values.reshape(...) instead\n",
      "  \n"
     ]
    }
   ],
   "source": [
    "x_train, x_test, y_train, y_test= train_test_split(z_scores, data['label'])\n",
    "\n",
    "test_2 = z_scores[['danceability', 'instrumentalness', 'tempo']]\n",
    "x_train2, x_test2, y_train2, y_test2= train_test_split(test_2, data['label'])\n",
    "\n",
    "test_3 = z_scores[['key', 'instrumentalness', 'duration_ms']]\n",
    "x_train3, x_test3, y_train3, y_test3= train_test_split(test_3, data['label'])\n",
    "\n",
    "test_4 = z_scores['instrumentalness']\n",
    "test_4 = test_4.reshape(-1, 1)\n",
    "x_train4, x_test4, y_train4, y_test4= train_test_split(test_4, data['label'])\n",
    "\n",
    "test_5 = z_scores['danceability']\n",
    "test_5 = test_5.reshape(-1, 1)\n",
    "x_train5, x_test5, y_train5, y_test5 = train_test_split(test_5, data['label'])"
   ]
  },
  {
   "cell_type": "code",
   "execution_count": 88,
   "metadata": {},
   "outputs": [
    {
     "name": "stdout",
     "output_type": "stream",
     "text": [
      "[[-0.00319546  0.0944039  -0.00191013  0.0425277  -0.08653318 -0.06602579\n",
      "  -0.05452823 -0.08338251  0.15783534  0.03046317  0.05996301  0.00834001]] [-0.05409423]\n",
      "[[ 0.17771402 -0.10050925  0.10403873]] [-0.00126006]\n",
      "[[ 0.01444964 -0.10233592  0.02384177]] [0.03015869]\n",
      "[[-0.1020163]] [0.03099567]\n",
      "[[0.08553568]] [-0.01064205]\n"
     ]
    }
   ],
   "source": [
    "clf1 = LogisticRegression()\n",
    "clf1.fit(x_train, y_train)\n",
    "predicted_train = clf1.predict(x_train)\n",
    "predicted_test = clf1.predict(x_test)\n",
    "print (clf1.coef_, clf1.intercept_)\n",
    "\n",
    "clf2 = LogisticRegression()\n",
    "clf2.fit(x_train2, y_train2)\n",
    "predicted_train2 = clf2.predict(x_train2)\n",
    "predicted_test2 = clf2.predict(x_test2)\n",
    "print (clf2.coef_, clf2.intercept_)\n",
    "\n",
    "clf3 = LogisticRegression()\n",
    "clf3.fit(x_train3, y_train3)\n",
    "predicted_train3 = clf3.predict(x_train3)\n",
    "predicted_test3 = clf3.predict(x_test3)\n",
    "print (clf3.coef_, clf3.intercept_)\n",
    "\n",
    "clf4 = LogisticRegression()\n",
    "clf4.fit(x_train4, y_train4)\n",
    "predicted_train4 = clf4.predict(x_train4)\n",
    "predicted_test4 = clf4.predict(x_test4)\n",
    "print (clf4.coef_, clf4.intercept_)\n",
    "\n",
    "clf5 = LogisticRegression()\n",
    "clf5.fit(x_train5, y_train5)\n",
    "predicted_train5 = clf5.predict(x_train5)\n",
    "predicted_test5 = clf5.predict(x_test5)\n",
    "#print(predicted_test5)\n",
    "print (clf5.coef_, clf5.intercept_)"
   ]
  },
  {
   "cell_type": "markdown",
   "metadata": {},
   "source": [
    "#### Analysis"
   ]
  },
  {
   "cell_type": "markdown",
   "metadata": {},
   "source": [
    "### Neural Network \n",
    "\n",
    "The linear regression yielded poor results, so we thought a more complex regression might lend towards a better analysis. For this we decided to build a neural network using Tensorflow. We chose a feedforward neural network due to its ability to model non linear functions.\n",
    "\n",
    "We begin by importing the Tensorflow module, which provides a framework for, what seems like, every type of modeling technique. Take note that 'tf' is the industry standard alias for tensorflow.We next need to examine and analyize predictive power of our different models.\n",
    "\n",
    "Here we see that for every set of predictors, the model is able to predict popularity with an accuracy between 51-53%, while for the test data the amount of variance that can be explained is even lower. None of these logistic regressions are very powerful predictors."
   ]
  },
  {
   "cell_type": "code",
   "execution_count": 89,
   "metadata": {},
   "outputs": [
    {
     "name": "stdout",
     "output_type": "stream",
     "text": [
      "Training 1-rsq = 0.543532, Testing 1-rsq = 0.447761, all effects\n",
      "Training 2-rsq = 0.538557, Testing 2-rsq = 0.496269, danceability, instrumentalness, and tempo\n",
      "Training 3-rsq = 0.503731, Testing 3-rsq = 0.466418, key, instrumentalness, and duration\n",
      "Training 4-rsq = 0.507463, Testing 4-rsq = 0.473881, instrumentalness only\n",
      "Training 5-rsq = 0.528607, Testing 5-rsq = 0.533582, danceability only\n"
     ]
    }
   ],
   "source": [
    "train1_rsq = clf1.score(x_train, y_train)\n",
    "test1_rsq = clf1.score(x_test, y_test)\n",
    "print(\"Training 1-rsq = %f, Testing 1-rsq = %f, all effects\" % (train1_rsq, test1_rsq))\n",
    "    \n",
    "train2_rsq = clf2.score(x_train2, y_train2)\n",
    "test2_rsq = clf2.score(x_test2, y_test2)\n",
    "print(\"Training 2-rsq = %f, Testing 2-rsq = %f, danceability, instrumentalness, and tempo\" % (train2_rsq, test2_rsq))\n",
    "\n",
    "train3_rsq = clf3.score(x_train3, y_train3)\n",
    "test3_rsq = clf3.score(x_test3, y_test3)\n",
    "print(\"Training 3-rsq = %f, Testing 3-rsq = %f, key, instrumentalness, and duration\" % (train3_rsq, test3_rsq))\n",
    "\n",
    "train4_rsq = clf4.score(x_train4, y_train4)\n",
    "test4_rsq = clf4.score(x_test4, y_test4)\n",
    "print(\"Training 4-rsq = %f, Testing 4-rsq = %f, instrumentalness only\" % (train4_rsq, test4_rsq))\n",
    "\n",
    "train5_rsq = clf5.score(x_train5, y_train5)\n",
    "test5_rsq = clf5.score(x_test5, y_test5)\n",
    "print(\"Training 5-rsq = %f, Testing 5-rsq = %f, danceability only\" % (train5_rsq, test5_rsq))"
   ]
  },
  {
   "cell_type": "markdown",
   "metadata": {},
   "source": [
    "Next we need to calculate the precision and recall of our models in order to better analyize their effectiveness."
   ]
  },
  {
   "cell_type": "code",
   "execution_count": 90,
   "metadata": {},
   "outputs": [],
   "source": [
    "def conditions(predicted, actual):\n",
    "    TP = 0\n",
    "    TN = 0\n",
    "    FP = 0\n",
    "    FN = 0\n",
    "    for i in range(len(predicted)):\n",
    "        if predicted[i] == actual[i]:\n",
    "            if predicted[i] == 1:\n",
    "                TP += 1\n",
    "            else:\n",
    "                TN += 1\n",
    "        else:\n",
    "            if predicted[i] == 1:\n",
    "                FP += 1\n",
    "            else:\n",
    "                FN += 1\n",
    "    return(TP, TN, FP, FN)"
   ]
  },
  {
   "cell_type": "code",
   "execution_count": 91,
   "metadata": {},
   "outputs": [],
   "source": [
    "\n",
    "def precision(TP, FP):\n",
    "    if TP+FP != 0:\n",
    "        return(float(TP)/float(TP+FP))\n",
    "    else:\n",
    "        return(np.nan)"
   ]
  },
  {
   "cell_type": "code",
   "execution_count": 92,
   "metadata": {},
   "outputs": [],
   "source": [
    "def recall(TP, FN):\n",
    "    if TP+FN != 0:\n",
    "        return(float(TP)/float(TP+FN))\n",
    "    else:\n",
    "        return(np.nan)"
   ]
  },
  {
   "cell_type": "code",
   "execution_count": 93,
   "metadata": {},
   "outputs": [
    {
     "name": "stdout",
     "output_type": "stream",
     "text": [
      "Test 1 : Precision = 0.489362, Recall = 0.315068\n",
      "Test 2 : Precision = 0.500000, Recall = 0.518519\n",
      "Test 3 : Precision = 0.470588, Recall = 0.937500\n",
      "Test 4 : Precision = 0.475285, Recall = 0.976562\n",
      "Test 5 : Precision = 0.546218, Recall = 0.477941\n"
     ]
    }
   ],
   "source": [
    "y_test = list(y_test)\n",
    "TP1, TN1, FP1, FN1 = conditions(predicted_test, y_test)\n",
    "print(\"Test 1 : Precision = %f, Recall = %f\" % (precision(TP1,FP1), recall(TP1, FN1)))\n",
    "\n",
    "y_test2 = list(y_test2)\n",
    "TP2, TN2, FP2, FN2 = conditions(predicted_test2, y_test2)\n",
    "print(\"Test 2 : Precision = %f, Recall = %f\" % (precision(TP2,FP2), recall(TP2, FN2)))\n",
    "\n",
    "y_test3 = list(y_test3)\n",
    "TP3, TN3, FP3, FN3 = conditions(predicted_test3, y_test3)\n",
    "print(\"Test 3 : Precision = %f, Recall = %f\" % (precision(TP3,FP3), recall(TP3, FN3)))\n",
    "\n",
    "y_test4 = list(y_test4)\n",
    "TP4, TN4, FP4, FN4 = conditions(predicted_test4, y_test4)\n",
    "print(\"Test 4 : Precision = %f, Recall = %f\" % (precision(TP4,FP4), recall(TP4, FN4)))\n",
    "\n",
    "y_test5 = list(y_test5)\n",
    "TP5, TN5, FP5, FN5 = conditions(predicted_test5, y_test5)\n",
    "print(\"Test 5 : Precision = %f, Recall = %f\" % (precision(TP5,FP5), recall(TP5, FN5)))"
   ]
  },
  {
   "cell_type": "markdown",
   "metadata": {},
   "source": [
    "Above we can see that the precsion of all of our models is not very high, that is that we have a similar number of true positives as false positives, while the recall of each model has a very large range. Model 4 has by far the highest recall, meaning that there were very few false negatives when using that model: i.e. songs that the model thought would not be popular but were actually popular. This model is likely due to the property that this model predicts that almost all songs will be popular."
   ]
  },
  {
   "cell_type": "markdown",
   "metadata": {},
   "source": [
    "#### Visualizations"
   ]
  },
  {
   "cell_type": "code",
   "execution_count": 94,
   "metadata": {},
   "outputs": [
    {
     "name": "stdout",
     "output_type": "stream",
     "text": [
      "-0.10201629664945985 0.030995672085564054\n"
     ]
    },
    {
     "data": {
      "image/png": "[encoded data removed]",
      "text/plain": [
       "<matplotlib.figure.Figure at 0x102728860>"
      ]
     },
     "metadata": {},
     "output_type": "display_data"
    }
   ],
   "source": [
    "x = x_test4\n",
    "y = y_test4\n",
    "#line = matplotlib.lines.Line2D(clf4.coef_, clf4.intercept_)\n",
    "plt.scatter(x, y, c='b')\n",
    "slope = clf4.coef_[0][0]\n",
    "intercept = clf4.intercept_[0]\n",
    "print(slope, intercept)\n",
    "\n",
    "# Create a list of values in the best fit line\n",
    "abline_values = [slope * i + intercept for i in x]\n",
    "# Plot the best fit line over the actual values\n",
    "plt.plot(x, abline_values, 'b')\n",
    "plt.title(slope)\n",
    "plt.show()"
   ]
  },
  {
   "cell_type": "markdown",
   "metadata": {},
   "source": [
    "### Neural Network "
   ]
  },
  {
   "cell_type": "markdown",
   "metadata": {},
   "source": [
    "The linear regression yielded poor results, so we thought a more complex regression might lend towards a better analysis. For this we decided to build a neural network using Tensorflow. We chose a feedforward neural network due to its ability to model non linear functions.\n",
    "\n",
    "We begin by importing the Tensorflow module, which provides a framework for, what seems like, every type of modeling technique. Take note that 'tf' is the industry standard alias for tensorflow."
   ]
  },
  {
   "cell_type": "code",
   "execution_count": 95,
   "metadata": {},
   "outputs": [],
   "source": [
    "import tensorflow as tf\n"
   ]
  },
  {
   "cell_type": "markdown",
   "metadata": {},
   "source": [
    "Next, we read in the balanced song features dataset, which includes data on every song that has appeared on the Billboard Hot 100 since 2010. Intially the dataset was split such that 70% of the music was unpopular and 30% popular. After completing the training the network had an outstanding 70% accuracy! Under further investigation, we realized the networks was simply assigning everything an unpopular label. Do remedy this we modified our dataset such that there was a 50-50 split between popular and unpopular songs. "
   ]
  },
  {
   "cell_type": "code",
   "execution_count": 96,
   "metadata": {
    "scrolled": true
   },
   "outputs": [
    {
     "data": {
      "text/html": [
       "<div>\n",
       "<style scoped>\n",
       "    .dataframe tbody tr th:only-of-type {\n",
       "        vertical-align: middle;\n",
       "    }\n",
       "\n",
       "    .dataframe tbody tr th {\n",
       "        vertical-align: top;\n",
       "    }\n",
       "\n",
       "    .dataframe thead th {\n",
       "        text-align: right;\n",
       "    }\n",
       "</style>\n",
       "<table border=\"1\" class=\"dataframe\">\n",
       "  <thead>\n",
       "    <tr style=\"text-align: right;\">\n",
       "      <th></th>\n",
       "      <th>acousticness</th>\n",
       "      <th>danceability</th>\n",
       "      <th>duration_ms</th>\n",
       "      <th>energy</th>\n",
       "      <th>instrumentalness</th>\n",
       "      <th>key</th>\n",
       "      <th>liveness</th>\n",
       "      <th>loudness</th>\n",
       "      <th>speechiness</th>\n",
       "      <th>tempo</th>\n",
       "      <th>time_signature</th>\n",
       "      <th>valence</th>\n",
       "      <th>label</th>\n",
       "    </tr>\n",
       "  </thead>\n",
       "  <tbody>\n",
       "    <tr>\n",
       "      <th>0</th>\n",
       "      <td>0.21400</td>\n",
       "      <td>0.666</td>\n",
       "      <td>178242</td>\n",
       "      <td>0.677</td>\n",
       "      <td>0.000000</td>\n",
       "      <td>2</td>\n",
       "      <td>0.0979</td>\n",
       "      <td>-5.743</td>\n",
       "      <td>0.0326</td>\n",
       "      <td>100.014</td>\n",
       "      <td>4</td>\n",
       "      <td>0.178</td>\n",
       "      <td>1</td>\n",
       "    </tr>\n",
       "    <tr>\n",
       "      <th>1</th>\n",
       "      <td>0.01340</td>\n",
       "      <td>0.807</td>\n",
       "      <td>183750</td>\n",
       "      <td>0.916</td>\n",
       "      <td>0.000012</td>\n",
       "      <td>0</td>\n",
       "      <td>0.0787</td>\n",
       "      <td>-3.282</td>\n",
       "      <td>0.2260</td>\n",
       "      <td>127.973</td>\n",
       "      <td>4</td>\n",
       "      <td>0.651</td>\n",
       "      <td>1</td>\n",
       "    </tr>\n",
       "    <tr>\n",
       "      <th>2</th>\n",
       "      <td>0.00162</td>\n",
       "      <td>0.791</td>\n",
       "      <td>279507</td>\n",
       "      <td>0.615</td>\n",
       "      <td>0.000065</td>\n",
       "      <td>6</td>\n",
       "      <td>0.0812</td>\n",
       "      <td>-6.149</td>\n",
       "      <td>0.0667</td>\n",
       "      <td>128.017</td>\n",
       "      <td>4</td>\n",
       "      <td>0.393</td>\n",
       "      <td>1</td>\n",
       "    </tr>\n",
       "    <tr>\n",
       "      <th>3</th>\n",
       "      <td>0.76300</td>\n",
       "      <td>0.707</td>\n",
       "      <td>275227</td>\n",
       "      <td>0.709</td>\n",
       "      <td>0.000000</td>\n",
       "      <td>11</td>\n",
       "      <td>0.2740</td>\n",
       "      <td>-3.979</td>\n",
       "      <td>0.3400</td>\n",
       "      <td>89.094</td>\n",
       "      <td>4</td>\n",
       "      <td>0.501</td>\n",
       "      <td>1</td>\n",
       "    </tr>\n",
       "    <tr>\n",
       "      <th>4</th>\n",
       "      <td>0.57000</td>\n",
       "      <td>0.629</td>\n",
       "      <td>250173</td>\n",
       "      <td>0.572</td>\n",
       "      <td>0.000000</td>\n",
       "      <td>5</td>\n",
       "      <td>0.1920</td>\n",
       "      <td>-7.733</td>\n",
       "      <td>0.0387</td>\n",
       "      <td>100.015</td>\n",
       "      <td>4</td>\n",
       "      <td>0.386</td>\n",
       "      <td>1</td>\n",
       "    </tr>\n",
       "  </tbody>\n",
       "</table>\n",
       "</div>"
      ],
      "text/plain": [
       "   acousticness  danceability  duration_ms  energy  instrumentalness  key  \\\n",
       "0       0.21400         0.666       178242   0.677          0.000000    2   \n",
       "1       0.01340         0.807       183750   0.916          0.000012    0   \n",
       "2       0.00162         0.791       279507   0.615          0.000065    6   \n",
       "3       0.76300         0.707       275227   0.709          0.000000   11   \n",
       "4       0.57000         0.629       250173   0.572          0.000000    5   \n",
       "\n",
       "   liveness  loudness  speechiness    tempo  time_signature  valence  label  \n",
       "0    0.0979    -5.743       0.0326  100.014               4    0.178      1  \n",
       "1    0.0787    -3.282       0.2260  127.973               4    0.651      1  \n",
       "2    0.0812    -6.149       0.0667  128.017               4    0.393      1  \n",
       "3    0.2740    -3.979       0.3400   89.094               4    0.501      1  \n",
       "4    0.1920    -7.733       0.0387  100.015               4    0.386      1  "
      ]
     },
     "execution_count": 96,
     "metadata": {},
     "output_type": "execute_result"
    }
   ],
   "source": [
    "#Read in File\n",
    "data = pd.read_csv(\"balanced_pop_unpop_features.csv\")\n",
    "\n",
    "#Remove track name column\n",
    "del data[\"Unnamed: 0\"]\n",
    "\n",
    "#Quick look at the data\n",
    "data.head()"
   ]
  },
  {
   "cell_type": "code",
   "execution_count": 97,
   "metadata": {},
   "outputs": [
    {
     "name": "stdout",
     "output_type": "stream",
     "text": [
      "13\n"
     ]
    }
   ],
   "source": [
    "print(len(data.columns))"
   ]
  },
  {
   "cell_type": "markdown",
   "metadata": {},
   "source": [
    "The Tensorflow software below automatically shuffles the data, but just to be sure the following line of code mixes up the rows of the dataframe.\n"
   ]
  },
  {
   "cell_type": "code",
   "execution_count": 98,
   "metadata": {},
   "outputs": [
    {
     "data": {
      "text/html": [
       "<div>\n",
       "<style scoped>\n",
       "    .dataframe tbody tr th:only-of-type {\n",
       "        vertical-align: middle;\n",
       "    }\n",
       "\n",
       "    .dataframe tbody tr th {\n",
       "        vertical-align: top;\n",
       "    }\n",
       "\n",
       "    .dataframe thead th {\n",
       "        text-align: right;\n",
       "    }\n",
       "</style>\n",
       "<table border=\"1\" class=\"dataframe\">\n",
       "  <thead>\n",
       "    <tr style=\"text-align: right;\">\n",
       "      <th></th>\n",
       "      <th>acousticness</th>\n",
       "      <th>danceability</th>\n",
       "      <th>duration_ms</th>\n",
       "      <th>energy</th>\n",
       "      <th>instrumentalness</th>\n",
       "      <th>key</th>\n",
       "      <th>liveness</th>\n",
       "      <th>loudness</th>\n",
       "      <th>speechiness</th>\n",
       "      <th>tempo</th>\n",
       "      <th>time_signature</th>\n",
       "      <th>valence</th>\n",
       "      <th>label</th>\n",
       "    </tr>\n",
       "  </thead>\n",
       "  <tbody>\n",
       "    <tr>\n",
       "      <th>337</th>\n",
       "      <td>0.00525</td>\n",
       "      <td>0.700</td>\n",
       "      <td>307467</td>\n",
       "      <td>0.675</td>\n",
       "      <td>0.0</td>\n",
       "      <td>2</td>\n",
       "      <td>0.6570</td>\n",
       "      <td>-6.362</td>\n",
       "      <td>0.1490</td>\n",
       "      <td>124.882</td>\n",
       "      <td>4</td>\n",
       "      <td>0.225</td>\n",
       "      <td>1</td>\n",
       "    </tr>\n",
       "    <tr>\n",
       "      <th>427</th>\n",
       "      <td>0.25500</td>\n",
       "      <td>0.576</td>\n",
       "      <td>215720</td>\n",
       "      <td>0.726</td>\n",
       "      <td>0.0</td>\n",
       "      <td>11</td>\n",
       "      <td>0.1080</td>\n",
       "      <td>-4.625</td>\n",
       "      <td>0.0350</td>\n",
       "      <td>136.802</td>\n",
       "      <td>4</td>\n",
       "      <td>0.582</td>\n",
       "      <td>1</td>\n",
       "    </tr>\n",
       "    <tr>\n",
       "      <th>787</th>\n",
       "      <td>0.09640</td>\n",
       "      <td>0.592</td>\n",
       "      <td>178840</td>\n",
       "      <td>0.959</td>\n",
       "      <td>0.0</td>\n",
       "      <td>9</td>\n",
       "      <td>0.7800</td>\n",
       "      <td>-2.531</td>\n",
       "      <td>0.0563</td>\n",
       "      <td>163.913</td>\n",
       "      <td>4</td>\n",
       "      <td>0.853</td>\n",
       "      <td>0</td>\n",
       "    </tr>\n",
       "    <tr>\n",
       "      <th>971</th>\n",
       "      <td>0.26300</td>\n",
       "      <td>0.677</td>\n",
       "      <td>179507</td>\n",
       "      <td>0.556</td>\n",
       "      <td>0.0</td>\n",
       "      <td>9</td>\n",
       "      <td>0.1050</td>\n",
       "      <td>-6.544</td>\n",
       "      <td>0.0306</td>\n",
       "      <td>80.009</td>\n",
       "      <td>4</td>\n",
       "      <td>0.521</td>\n",
       "      <td>0</td>\n",
       "    </tr>\n",
       "    <tr>\n",
       "      <th>617</th>\n",
       "      <td>0.09600</td>\n",
       "      <td>0.905</td>\n",
       "      <td>211293</td>\n",
       "      <td>0.782</td>\n",
       "      <td>0.0</td>\n",
       "      <td>10</td>\n",
       "      <td>0.0623</td>\n",
       "      <td>-3.604</td>\n",
       "      <td>0.1640</td>\n",
       "      <td>96.055</td>\n",
       "      <td>4</td>\n",
       "      <td>0.798</td>\n",
       "      <td>0</td>\n",
       "    </tr>\n",
       "  </tbody>\n",
       "</table>\n",
       "</div>"
      ],
      "text/plain": [
       "     acousticness  danceability  duration_ms  energy  instrumentalness  key  \\\n",
       "337       0.00525         0.700       307467   0.675               0.0    2   \n",
       "427       0.25500         0.576       215720   0.726               0.0   11   \n",
       "787       0.09640         0.592       178840   0.959               0.0    9   \n",
       "971       0.26300         0.677       179507   0.556               0.0    9   \n",
       "617       0.09600         0.905       211293   0.782               0.0   10   \n",
       "\n",
       "     liveness  loudness  speechiness    tempo  time_signature  valence  label  \n",
       "337    0.6570    -6.362       0.1490  124.882               4    0.225      1  \n",
       "427    0.1080    -4.625       0.0350  136.802               4    0.582      1  \n",
       "787    0.7800    -2.531       0.0563  163.913               4    0.853      0  \n",
       "971    0.1050    -6.544       0.0306   80.009               4    0.521      0  \n",
       "617    0.0623    -3.604       0.1640   96.055               4    0.798      0  "
      ]
     },
     "execution_count": 98,
     "metadata": {},
     "output_type": "execute_result"
    }
   ],
   "source": [
    "#Shuffle dataset\n",
    "for i in range(10): data = data.sample(frac=1)\n",
    "    \n",
    "#Quick look at the shuffled data\n",
    "data.head()"
   ]
  },
  {
   "cell_type": "markdown",
   "metadata": {},
   "source": [
    "#### Model \n",
    "\n",
    "To model the data, the data is split 70-30, where 70% of the data is used to train the model and 30% of the data is used to test the model. "
   ]
  },
  {
   "cell_type": "code",
   "execution_count": 99,
   "metadata": {},
   "outputs": [
    {
     "name": "stdout",
     "output_type": "stream",
     "text": [
      "(750, 13) (322, 13)\n"
     ]
    }
   ],
   "source": [
    "#About a 70-30 split between training and testing \n",
    "train = data.iloc[:750]\n",
    "test = data.iloc[750:]\n",
    "\n",
    "#Quick look at shape of the two sets\n",
    "print(train.shape,test.shape)"
   ]
  },
  {
   "cell_type": "markdown",
   "metadata": {},
   "source": [
    "Next, the training and test sets are split into sets of features and labels. Immedietly following, the sets are normalized using a Z-score."
   ]
  },
  {
   "cell_type": "code",
   "execution_count": 100,
   "metadata": {},
   "outputs": [
    {
     "data": {
      "text/html": [
       "<div>\n",
       "<style scoped>\n",
       "    .dataframe tbody tr th:only-of-type {\n",
       "        vertical-align: middle;\n",
       "    }\n",
       "\n",
       "    .dataframe tbody tr th {\n",
       "        vertical-align: top;\n",
       "    }\n",
       "\n",
       "    .dataframe thead th {\n",
       "        text-align: right;\n",
       "    }\n",
       "</style>\n",
       "<table border=\"1\" class=\"dataframe\">\n",
       "  <thead>\n",
       "    <tr style=\"text-align: right;\">\n",
       "      <th></th>\n",
       "      <th>acousticness</th>\n",
       "      <th>danceability</th>\n",
       "      <th>duration_ms</th>\n",
       "      <th>energy</th>\n",
       "      <th>instrumentalness</th>\n",
       "      <th>key</th>\n",
       "      <th>liveness</th>\n",
       "      <th>loudness</th>\n",
       "      <th>speechiness</th>\n",
       "      <th>tempo</th>\n",
       "      <th>time_signature</th>\n",
       "      <th>valence</th>\n",
       "    </tr>\n",
       "  </thead>\n",
       "  <tbody>\n",
       "    <tr>\n",
       "      <th>337</th>\n",
       "      <td>-0.800569</td>\n",
       "      <td>0.395208</td>\n",
       "      <td>2.039871</td>\n",
       "      <td>-0.038788</td>\n",
       "      <td>-0.120611</td>\n",
       "      <td>-0.902185</td>\n",
       "      <td>3.338694</td>\n",
       "      <td>-0.167334</td>\n",
       "      <td>0.554123</td>\n",
       "      <td>0.125311</td>\n",
       "      <td>0.113901</td>\n",
       "      <td>-1.252677</td>\n",
       "    </tr>\n",
       "    <tr>\n",
       "      <th>427</th>\n",
       "      <td>0.409356</td>\n",
       "      <td>-0.490097</td>\n",
       "      <td>-0.174626</td>\n",
       "      <td>0.263820</td>\n",
       "      <td>-0.120611</td>\n",
       "      <td>1.509596</td>\n",
       "      <td>-0.501369</td>\n",
       "      <td>0.543756</td>\n",
       "      <td>-0.637686</td>\n",
       "      <td>0.550154</td>\n",
       "      <td>0.113901</td>\n",
       "      <td>0.319641</td>\n",
       "    </tr>\n",
       "    <tr>\n",
       "      <th>787</th>\n",
       "      <td>-0.358989</td>\n",
       "      <td>-0.375864</td>\n",
       "      <td>-1.064799</td>\n",
       "      <td>1.646321</td>\n",
       "      <td>-0.120611</td>\n",
       "      <td>0.973645</td>\n",
       "      <td>4.199036</td>\n",
       "      <td>1.400994</td>\n",
       "      <td>-0.415006</td>\n",
       "      <td>1.516420</td>\n",
       "      <td>0.113901</td>\n",
       "      <td>1.513194</td>\n",
       "    </tr>\n",
       "    <tr>\n",
       "      <th>971</th>\n",
       "      <td>0.448112</td>\n",
       "      <td>0.230998</td>\n",
       "      <td>-1.048699</td>\n",
       "      <td>-0.744872</td>\n",
       "      <td>-0.120611</td>\n",
       "      <td>0.973645</td>\n",
       "      <td>-0.522353</td>\n",
       "      <td>-0.241840</td>\n",
       "      <td>-0.683686</td>\n",
       "      <td>-1.474013</td>\n",
       "      <td>0.113901</td>\n",
       "      <td>0.050982</td>\n",
       "    </tr>\n",
       "    <tr>\n",
       "      <th>617</th>\n",
       "      <td>-0.360927</td>\n",
       "      <td>1.858816</td>\n",
       "      <td>-0.281481</td>\n",
       "      <td>0.596095</td>\n",
       "      <td>-0.120611</td>\n",
       "      <td>1.241620</td>\n",
       "      <td>-0.821025</td>\n",
       "      <td>0.961731</td>\n",
       "      <td>0.710940</td>\n",
       "      <td>-0.902115</td>\n",
       "      <td>0.113901</td>\n",
       "      <td>1.270960</td>\n",
       "    </tr>\n",
       "  </tbody>\n",
       "</table>\n",
       "</div>"
      ],
      "text/plain": [
       "     acousticness  danceability  duration_ms    energy  instrumentalness  \\\n",
       "337     -0.800569      0.395208     2.039871 -0.038788         -0.120611   \n",
       "427      0.409356     -0.490097    -0.174626  0.263820         -0.120611   \n",
       "787     -0.358989     -0.375864    -1.064799  1.646321         -0.120611   \n",
       "971      0.448112      0.230998    -1.048699 -0.744872         -0.120611   \n",
       "617     -0.360927      1.858816    -0.281481  0.596095         -0.120611   \n",
       "\n",
       "          key  liveness  loudness  speechiness     tempo  time_signature  \\\n",
       "337 -0.902185  3.338694 -0.167334     0.554123  0.125311        0.113901   \n",
       "427  1.509596 -0.501369  0.543756    -0.637686  0.550154        0.113901   \n",
       "787  0.973645  4.199036  1.400994    -0.415006  1.516420        0.113901   \n",
       "971  0.973645 -0.522353 -0.241840    -0.683686 -1.474013        0.113901   \n",
       "617  1.241620 -0.821025  0.961731     0.710940 -0.902115        0.113901   \n",
       "\n",
       "      valence  \n",
       "337 -1.252677  \n",
       "427  0.319641  \n",
       "787  1.513194  \n",
       "971  0.050982  \n",
       "617  1.270960  "
      ]
     },
     "execution_count": 100,
     "metadata": {},
     "output_type": "execute_result"
    }
   ],
   "source": [
    "#Split entries in train_x: features and train_y: labels\n",
    "train_x = train.iloc[:,:12]\n",
    "train_y = train.iloc[:,12:].astype(int)\n",
    "\n",
    "test_x = test.iloc[:,:12]\n",
    "test_y = test.iloc[:,12:].astype(int)\n",
    "\n",
    "#Take Z-score\n",
    "train_x = (train_x-train_x.mean())/(train_x.std())\n",
    "test_x = (test_x-test_x.mean())/(test_x.std())\n",
    "\n",
    "#Quick look at training set\n",
    "train_x.head()"
   ]
  },
  {
   "cell_type": "markdown",
   "metadata": {},
   "source": [
    "Tensorflow requires that a list of column features be provided in order to specify the type of input. The neural network is capable of using other feature types other than numeric."
   ]
  },
  {
   "cell_type": "code",
   "execution_count": 101,
   "metadata": {},
   "outputs": [
    {
     "name": "stdout",
     "output_type": "stream",
     "text": [
      "_NumericColumn(key='acousticness', shape=(1,), default_value=None, dtype=tf.float32, normalizer_fn=None) \n",
      "\n",
      "_NumericColumn(key='danceability', shape=(1,), default_value=None, dtype=tf.float32, normalizer_fn=None) \n",
      "\n"
     ]
    }
   ],
   "source": [
    "#Create feature column for net \n",
    "feature_columns = []\n",
    "for i in train_x.columns:\n",
    "    feature_columns.append(tf.feature_column.numeric_column(key=i))\n",
    "\n",
    "#Little preview of the numeric_column object\n",
    "for i in feature_columns[:2]:\n",
    "    print(i,\"\\n\")"
   ]
  },
  {
   "cell_type": "markdown",
   "metadata": {},
   "source": [
    "The following code is used to create the neural network. We decided to use a single hidden layer with 5 nodes."
   ]
  },
  {
   "cell_type": "code",
   "execution_count": 102,
   "metadata": {},
   "outputs": [
    {
     "name": "stdout",
     "output_type": "stream",
     "text": [
      "INFO:tensorflow:Using config: {'_model_dir': './modeldata', '_tf_random_seed': None, '_save_summary_steps': 100, '_save_checkpoints_steps': None, '_save_checkpoints_secs': 4, '_session_config': None, '_keep_checkpoint_max': 10, '_keep_checkpoint_every_n_hours': 10000, '_log_step_count_steps': 100, '_train_distribute': None, '_service': None, '_cluster_spec': <tensorflow.python.training.server_lib.ClusterSpec object at 0x1a21ff07f0>, '_task_type': 'worker', '_task_id': 0, '_global_id_in_cluster': 0, '_master': '', '_evaluation_master': '', '_is_chief': True, '_num_ps_replicas': 0, '_num_worker_replicas': 1}\n"
     ]
    }
   ],
   "source": [
    "#Make estimator/ Model\n",
    "\n",
    "my_checkpointing_config = tf.estimator.RunConfig(\n",
    "    save_checkpoints_secs = 4,  # Save checkpoints every 20 minutes.\n",
    "    keep_checkpoint_max = 10,       # Retain the 10 most recent checkpoints.\n",
    ")\n",
    "\n",
    "classifier = tf.estimator.DNNClassifier(feature_columns=feature_columns\n",
    "                                        , hidden_units=[5],\n",
    "                                        n_classes=2,model_dir=\"./modeldata\",\n",
    "                                       config=my_checkpointing_config)"
   ]
  },
  {
   "cell_type": "markdown",
   "metadata": {},
   "source": [
    "The following function is used to prepare the data for input to the neural network. It is covered in depth in the Tensorflow documentation."
   ]
  },
  {
   "cell_type": "code",
   "execution_count": 103,
   "metadata": {},
   "outputs": [],
   "source": [
    "def train_input_fn(features, labels, batch_size):\n",
    "    \"\"\"An input function for training\"\"\"\n",
    "    # Convert the inputs to a Dataset.\n",
    "    dataset = tf.data.Dataset.from_tensor_slices((dict(features), labels))\n",
    "\n",
    "    # Shuffle, repeat, and batch the examples.\n",
    "    dataset = dataset.shuffle(1000).repeat().batch(batch_size)\n",
    "\n",
    "    # Return the dataset.\n",
    "    return dataset"
   ]
  },
  {
   "cell_type": "markdown",
   "metadata": {},
   "source": [
    "Next, the network is training using the entirety of the training set. The Batch size is 500 and the number of steps or epochs is 1500. We used more epochs in the true analysis but this should run in a reasonable amount of time."
   ]
  },
  {
   "cell_type": "code",
   "execution_count": 104,
   "metadata": {},
   "outputs": [
    {
     "name": "stdout",
     "output_type": "stream",
     "text": [
      "INFO:tensorflow:Calling model_fn.\n",
      "INFO:tensorflow:Done calling model_fn.\n",
      "INFO:tensorflow:Create CheckpointSaverHook.\n",
      "INFO:tensorflow:Graph was finalized.\n",
      "INFO:tensorflow:Restoring parameters from ./modeldata/model.ckpt-10500\n",
      "INFO:tensorflow:Running local_init_op.\n",
      "INFO:tensorflow:Done running local_init_op.\n",
      "INFO:tensorflow:Saving checkpoints for 10501 into ./modeldata/model.ckpt.\n",
      "INFO:tensorflow:loss = 329.9465, step = 10501\n",
      "INFO:tensorflow:global_step/sec: 162.663\n",
      "INFO:tensorflow:loss = 316.47293, step = 10601 (0.616 sec)\n",
      "INFO:tensorflow:global_step/sec: 197.213\n",
      "INFO:tensorflow:loss = 320.64886, step = 10701 (0.507 sec)\n",
      "INFO:tensorflow:global_step/sec: 184.257\n",
      "INFO:tensorflow:loss = 315.90503, step = 10801 (0.543 sec)\n",
      "INFO:tensorflow:global_step/sec: 180.86\n",
      "INFO:tensorflow:loss = 326.1645, step = 10901 (0.553 sec)\n",
      "INFO:tensorflow:global_step/sec: 179.444\n",
      "INFO:tensorflow:loss = 313.7128, step = 11001 (0.558 sec)\n",
      "INFO:tensorflow:global_step/sec: 193.558\n",
      "INFO:tensorflow:loss = 313.4471, step = 11101 (0.516 sec)\n",
      "INFO:tensorflow:global_step/sec: 184.96\n",
      "INFO:tensorflow:loss = 317.05768, step = 11201 (0.541 sec)\n",
      "INFO:tensorflow:Saving checkpoints for 11221 into ./modeldata/model.ckpt.\n",
      "INFO:tensorflow:global_step/sec: 167.665\n",
      "INFO:tensorflow:loss = 315.12488, step = 11301 (0.597 sec)\n",
      "INFO:tensorflow:global_step/sec: 174.48\n",
      "INFO:tensorflow:loss = 318.7022, step = 11401 (0.573 sec)\n",
      "INFO:tensorflow:global_step/sec: 180.865\n",
      "INFO:tensorflow:loss = 320.03616, step = 11501 (0.553 sec)\n",
      "INFO:tensorflow:global_step/sec: 180.4\n",
      "INFO:tensorflow:loss = 320.4948, step = 11601 (0.554 sec)\n",
      "INFO:tensorflow:global_step/sec: 181.515\n",
      "INFO:tensorflow:loss = 317.67593, step = 11701 (0.551 sec)\n",
      "INFO:tensorflow:global_step/sec: 190.918\n",
      "INFO:tensorflow:loss = 320.91122, step = 11801 (0.524 sec)\n",
      "INFO:tensorflow:global_step/sec: 178.066\n",
      "INFO:tensorflow:loss = 309.56418, step = 11901 (0.562 sec)\n",
      "INFO:tensorflow:Saving checkpoints for 11934 into ./modeldata/model.ckpt.\n",
      "INFO:tensorflow:Saving checkpoints for 12000 into ./modeldata/model.ckpt.\n",
      "INFO:tensorflow:Loss for final step: 317.57297.\n"
     ]
    },
    {
     "data": {
      "text/plain": [
       "<tensorflow.python.estimator.canned.dnn.DNNClassifier at 0x1a21a9dfd0>"
      ]
     },
     "execution_count": 104,
     "metadata": {},
     "output_type": "execute_result"
    }
   ],
   "source": [
    "# Train the Model.\n",
    "classifier.train(\n",
    "    input_fn=lambda:train_input_fn(train_x, train_y,500),\n",
    "    steps=1500)\n"
   ]
  },
  {
   "cell_type": "markdown",
   "metadata": {},
   "source": [
    "#### Analysis"
   ]
  },
  {
   "cell_type": "markdown",
   "metadata": {},
   "source": [
    "Now that the network is trained it is time to test it with the testing set. The following function prepares the testing set for testing. "
   ]
  },
  {
   "cell_type": "code",
   "execution_count": 105,
   "metadata": {},
   "outputs": [],
   "source": [
    "def eval_input_fn(features, labels, batch_size):\n",
    "    \"\"\"An input function for evaluation or prediction\"\"\"\n",
    "    features=dict(features)\n",
    "    if labels is None:\n",
    "        # No labels, use only features.\n",
    "        inputs = features\n",
    "    else:\n",
    "        inputs = (features, labels)\n",
    "\n",
    "    # Convert the inputs to a Dataset.\n",
    "    dataset = tf.data.Dataset.from_tensor_slices(inputs)\n",
    "\n",
    "    # Batch the examples\n",
    "    assert batch_size is not None, \"batch_size must not be None\"\n",
    "    dataset = dataset.batch(batch_size)\n",
    "\n",
    "    # Return the dataset.\n",
    "    return dataset"
   ]
  },
  {
   "cell_type": "markdown",
   "metadata": {},
   "source": [
    "The following code runs the testing evaluate function on the network."
   ]
  },
  {
   "cell_type": "code",
   "execution_count": 106,
   "metadata": {},
   "outputs": [
    {
     "name": "stdout",
     "output_type": "stream",
     "text": [
      "INFO:tensorflow:Calling model_fn.\n",
      "WARNING:tensorflow:Trapezoidal rule is known to produce incorrect PR-AUCs; please switch to \"careful_interpolation\" instead.\n",
      "WARNING:tensorflow:Trapezoidal rule is known to produce incorrect PR-AUCs; please switch to \"careful_interpolation\" instead.\n",
      "INFO:tensorflow:Done calling model_fn.\n",
      "INFO:tensorflow:Starting evaluation at 2018-05-15-03:43:29\n",
      "INFO:tensorflow:Graph was finalized.\n",
      "INFO:tensorflow:Restoring parameters from ./modeldata/model.ckpt-12000\n",
      "INFO:tensorflow:Running local_init_op.\n",
      "INFO:tensorflow:Done running local_init_op.\n",
      "INFO:tensorflow:Finished evaluation at 2018-05-15-03:43:30\n",
      "INFO:tensorflow:Saving dict for global step 12000: accuracy = 0.54658383, accuracy_baseline = 0.50621116, auc = 0.57136244, auc_precision_recall = 0.5800762, average_loss = 0.7020467, global_step = 12000, label/mean = 0.4937888, loss = 226.05904, precision = 0.5460993, prediction/mean = 0.49867883, recall = 0.48427674\n"
     ]
    }
   ],
   "source": [
    "# Evaluate the model.\n",
    "eval_result = classifier.evaluate(\n",
    "    input_fn=lambda:eval_input_fn(test_x, test_y, 3000))"
   ]
  },
  {
   "cell_type": "markdown",
   "metadata": {},
   "source": [
    "Here are the results of the evaluation more clearly."
   ]
  },
  {
   "cell_type": "code",
   "execution_count": 107,
   "metadata": {},
   "outputs": [
    {
     "data": {
      "text/plain": [
       "{'accuracy': 0.54658383,\n",
       " 'accuracy_baseline': 0.50621116,\n",
       " 'auc': 0.57136244,\n",
       " 'auc_precision_recall': 0.5800762,\n",
       " 'average_loss': 0.7020467,\n",
       " 'global_step': 12000,\n",
       " 'label/mean': 0.4937888,\n",
       " 'loss': 226.05904,\n",
       " 'precision': 0.5460993,\n",
       " 'prediction/mean': 0.49867883,\n",
       " 'recall': 0.48427674}"
      ]
     },
     "execution_count": 107,
     "metadata": {},
     "output_type": "execute_result"
    }
   ],
   "source": [
    "eval_result"
   ]
  },
  {
   "cell_type": "markdown",
   "metadata": {},
   "source": [
    "A print out of the prediction and exprected results can be found in the ANN Tests document located in the Model folder as well as a series of test done with other features and varying network shapes. "
   ]
  },
  {
   "cell_type": "markdown",
   "metadata": {},
   "source": [
    "The loss function data is stored in a file titled \"loss.csv\". We import it here."
   ]
  },
  {
   "cell_type": "code",
   "execution_count": 108,
   "metadata": {},
   "outputs": [],
   "source": [
    "loss = pd.read_csv(\"loss.csv\")\n",
    "del loss[\"Unnamed: 0\"]"
   ]
  },
  {
   "cell_type": "markdown",
   "metadata": {},
   "source": [
    "After being graphed, it's clear that the loss was not truely getting lower, simply oscilating."
   ]
  },
  {
   "cell_type": "code",
   "execution_count": 109,
   "metadata": {},
   "outputs": [
    {
     "data": {
      "text/plain": [
       "Text(0,0.5,'Loss')"
      ]
     },
     "execution_count": 109,
     "metadata": {},
     "output_type": "execute_result"
    },
    {
     "data": {
      "image/png": "[encoded data removed]",
      "text/plain": [
       "<matplotlib.figure.Figure at 0x1a23005d30>"
      ]
     },
     "metadata": {},
     "output_type": "display_data"
    }
   ],
   "source": [
    "chart = loss.loss.plot(figsize=(20,10))\n",
    "chart.set_title(\"Loss Function\")\n",
    "chart.set_xlabel(\"Epoch\")\n",
    "chart.set_ylabel(\"Loss\")\n"
   ]
  },
  {
   "cell_type": "markdown",
   "metadata": {},
   "source": [
    "From the evaluator it's clear that the neural network does a pretty bad job of modeling the data. We believe that to predict whether a song will be popular or not requires atleast some data on the cultural climate at the time. After reading a series of documents written by people conducting the same test, they also agree that analyzing a song's features is insufficient for producing meaningfull predictions. "
   ]
  },
  {
   "cell_type": "markdown",
   "metadata": {},
   "source": [
    "### Conclusion"
   ]
  },
  {
   "cell_type": "markdown",
   "metadata": {},
   "source": [
    "In the end, the modeling portion of this project was unsuccesful. You have an equally good chance of geussing whether a song will be popular or not than counting on our models prediction. We believe that the song features themselves have little to do with the popularity of a song. The prevoius success rate of the artists and the cultural climate play into a songs popularity more so than the song itself. This phenomon can be observed when an artists drops an album in the morning and in the afternoon the entire album appears in the Hot 100. "
   ]
  },
  {
   "cell_type": "code",
   "execution_count": null,
   "metadata": {},
   "outputs": [],
   "source": [
    "\n"
   ]
  },
  {
   "cell_type": "code",
   "execution_count": null,
   "metadata": {},
   "outputs": [],
   "source": []
  },
  {
   "cell_type": "code",
   "execution_count": null,
   "metadata": {},
   "outputs": [],
   "source": []
  },
  {
   "cell_type": "code",
   "execution_count": null,
   "metadata": {},
   "outputs": [],
   "source": []
  },
  {
   "cell_type": "code",
   "execution_count": null,
   "metadata": {},
   "outputs": [],
   "source": []
  }
 ],
 "metadata": {
  "kernelspec": {
   "display_name": "Python 3",
   "language": "python",
   "name": "python3"
  },
  "language_info": {
   "codemirror_mode": {
    "name": "ipython",
    "version": 3
   },
   "file_extension": ".py",
   "mimetype": "text/x-python",
   "name": "python",
   "nbconvert_exporter": "python",
   "pygments_lexer": "ipython3",
   "version": "3.6.4"
  }
 },
 "nbformat": 4,
 "nbformat_minor": 2
}
