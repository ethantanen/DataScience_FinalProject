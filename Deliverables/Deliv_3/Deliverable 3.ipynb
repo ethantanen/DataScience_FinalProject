{
 "cells": [
  {
   "cell_type": "markdown",
   "metadata": {},
   "source": [
    "### Introduction"
   ]
  },
  {
   "cell_type": "code",
   "execution_count": 1,
   "metadata": {},
   "outputs": [
    {
     "name": "stderr",
     "output_type": "stream",
     "text": [
      "/anaconda3/lib/python3.6/site-packages/sklearn/cross_validation.py:41: DeprecationWarning: This module was deprecated in version 0.18 in favor of the model_selection module into which all the refactored classes and functions are moved. Also note that the interface of the new CV iterators are different from that of this module. This module will be removed in 0.20.\n",
      "  \"This module will be removed in 0.20.\", DeprecationWarning)\n"
     ]
    }
   ],
   "source": [
    "from collections import defaultdict\n",
    "import json\n",
    "\n",
    "import numpy as np\n",
    "import scipy as sp\n",
    "import matplotlib.pyplot as plt\n",
    "import matplotlib\n",
    "import pandas as pd\n",
    "from sklearn.linear_model import LinearRegression\n",
    "from sklearn.linear_model import LogisticRegression\n",
    "from sklearn.cross_validation import train_test_split"
   ]
  },
  {
   "cell_type": "markdown",
   "metadata": {},
   "source": [
    "### Regression"
   ]
  },
  {
   "cell_type": "markdown",
   "metadata": {},
   "source": [
    "#### Model"
   ]
  },
  {
   "cell_type": "markdown",
   "metadata": {},
   "source": [
    "First we load the csv created earlier into a data frame and then calculate z-scores for every effect in order to make our logistic regression model accurate and understandable. "
   ]
  },
  {
   "cell_type": "code",
   "execution_count": 2,
   "metadata": {},
   "outputs": [
    {
     "data": {
      "text/html": [
       "<div>\n",
       "<style scoped>\n",
       "    .dataframe tbody tr th:only-of-type {\n",
       "        vertical-align: middle;\n",
       "    }\n",
       "\n",
       "    .dataframe tbody tr th {\n",
       "        vertical-align: top;\n",
       "    }\n",
       "\n",
       "    .dataframe thead th {\n",
       "        text-align: right;\n",
       "    }\n",
       "</style>\n",
       "<table border=\"1\" class=\"dataframe\">\n",
       "  <thead>\n",
       "    <tr style=\"text-align: right;\">\n",
       "      <th></th>\n",
       "      <th>acousticness</th>\n",
       "      <th>danceability</th>\n",
       "      <th>duration_ms</th>\n",
       "      <th>energy</th>\n",
       "      <th>instrumentalness</th>\n",
       "      <th>key</th>\n",
       "      <th>liveness</th>\n",
       "      <th>loudness</th>\n",
       "      <th>speechiness</th>\n",
       "      <th>tempo</th>\n",
       "      <th>time_signature</th>\n",
       "      <th>valence</th>\n",
       "      <th>label</th>\n",
       "      <th>title</th>\n",
       "    </tr>\n",
       "  </thead>\n",
       "  <tbody>\n",
       "    <tr>\n",
       "      <th>0</th>\n",
       "      <td>0.21400</td>\n",
       "      <td>0.666</td>\n",
       "      <td>178242</td>\n",
       "      <td>0.677</td>\n",
       "      <td>0.000000</td>\n",
       "      <td>2</td>\n",
       "      <td>0.0979</td>\n",
       "      <td>-5.743</td>\n",
       "      <td>0.0326</td>\n",
       "      <td>100.014</td>\n",
       "      <td>4</td>\n",
       "      <td>0.178</td>\n",
       "      <td>1</td>\n",
       "      <td>#Beautiful</td>\n",
       "    </tr>\n",
       "    <tr>\n",
       "      <th>1</th>\n",
       "      <td>0.01340</td>\n",
       "      <td>0.807</td>\n",
       "      <td>183750</td>\n",
       "      <td>0.916</td>\n",
       "      <td>0.000012</td>\n",
       "      <td>0</td>\n",
       "      <td>0.0787</td>\n",
       "      <td>-3.282</td>\n",
       "      <td>0.2260</td>\n",
       "      <td>127.973</td>\n",
       "      <td>4</td>\n",
       "      <td>0.651</td>\n",
       "      <td>1</td>\n",
       "      <td>#SELFIE</td>\n",
       "    </tr>\n",
       "    <tr>\n",
       "      <th>2</th>\n",
       "      <td>0.00162</td>\n",
       "      <td>0.791</td>\n",
       "      <td>279507</td>\n",
       "      <td>0.615</td>\n",
       "      <td>0.000065</td>\n",
       "      <td>6</td>\n",
       "      <td>0.0812</td>\n",
       "      <td>-6.149</td>\n",
       "      <td>0.0667</td>\n",
       "      <td>128.017</td>\n",
       "      <td>4</td>\n",
       "      <td>0.393</td>\n",
       "      <td>1</td>\n",
       "      <td>#thatPOWER</td>\n",
       "    </tr>\n",
       "    <tr>\n",
       "      <th>3</th>\n",
       "      <td>0.76300</td>\n",
       "      <td>0.707</td>\n",
       "      <td>275227</td>\n",
       "      <td>0.709</td>\n",
       "      <td>0.000000</td>\n",
       "      <td>11</td>\n",
       "      <td>0.2740</td>\n",
       "      <td>-3.979</td>\n",
       "      <td>0.3400</td>\n",
       "      <td>89.094</td>\n",
       "      <td>4</td>\n",
       "      <td>0.501</td>\n",
       "      <td>1</td>\n",
       "      <td>0 To 100 / The Catch Up</td>\n",
       "    </tr>\n",
       "    <tr>\n",
       "      <th>4</th>\n",
       "      <td>0.57000</td>\n",
       "      <td>0.629</td>\n",
       "      <td>250173</td>\n",
       "      <td>0.572</td>\n",
       "      <td>0.000000</td>\n",
       "      <td>5</td>\n",
       "      <td>0.1920</td>\n",
       "      <td>-7.733</td>\n",
       "      <td>0.0387</td>\n",
       "      <td>100.015</td>\n",
       "      <td>4</td>\n",
       "      <td>0.386</td>\n",
       "      <td>1</td>\n",
       "      <td>1-800-273-8255</td>\n",
       "    </tr>\n",
       "  </tbody>\n",
       "</table>\n",
       "</div>"
      ],
      "text/plain": [
       "   acousticness  danceability  duration_ms  energy  instrumentalness  key  \\\n",
       "0       0.21400         0.666       178242   0.677          0.000000    2   \n",
       "1       0.01340         0.807       183750   0.916          0.000012    0   \n",
       "2       0.00162         0.791       279507   0.615          0.000065    6   \n",
       "3       0.76300         0.707       275227   0.709          0.000000   11   \n",
       "4       0.57000         0.629       250173   0.572          0.000000    5   \n",
       "\n",
       "   liveness  loudness  speechiness    tempo  time_signature  valence  label  \\\n",
       "0    0.0979    -5.743       0.0326  100.014               4    0.178      1   \n",
       "1    0.0787    -3.282       0.2260  127.973               4    0.651      1   \n",
       "2    0.0812    -6.149       0.0667  128.017               4    0.393      1   \n",
       "3    0.2740    -3.979       0.3400   89.094               4    0.501      1   \n",
       "4    0.1920    -7.733       0.0387  100.015               4    0.386      1   \n",
       "\n",
       "                     title  \n",
       "0               #Beautiful  \n",
       "1                  #SELFIE  \n",
       "2               #thatPOWER  \n",
       "3  0 To 100 / The Catch Up  \n",
       "4           1-800-273-8255  "
      ]
     },
     "execution_count": 2,
     "metadata": {},
     "output_type": "execute_result"
    }
   ],
   "source": [
    "data = pd.read_csv(\"../../DataSets/balanced_pop_unpop_features.csv\", sep=\",\")\n",
    "data['title'] = data['Unnamed: 0']\n",
    "data = data.drop('Unnamed: 0', axis=1)\n",
    "data.head()"
   ]
  },
  {
   "cell_type": "code",
   "execution_count": 3,
   "metadata": {},
   "outputs": [
    {
     "data": {
      "text/html": [
       "<div>\n",
       "<style scoped>\n",
       "    .dataframe tbody tr th:only-of-type {\n",
       "        vertical-align: middle;\n",
       "    }\n",
       "\n",
       "    .dataframe tbody tr th {\n",
       "        vertical-align: top;\n",
       "    }\n",
       "\n",
       "    .dataframe thead th {\n",
       "        text-align: right;\n",
       "    }\n",
       "</style>\n",
       "<table border=\"1\" class=\"dataframe\">\n",
       "  <thead>\n",
       "    <tr style=\"text-align: right;\">\n",
       "      <th></th>\n",
       "      <th>acousticness</th>\n",
       "      <th>danceability</th>\n",
       "      <th>duration_ms</th>\n",
       "      <th>energy</th>\n",
       "      <th>instrumentalness</th>\n",
       "      <th>key</th>\n",
       "      <th>liveness</th>\n",
       "      <th>loudness</th>\n",
       "      <th>speechiness</th>\n",
       "      <th>tempo</th>\n",
       "      <th>time_signature</th>\n",
       "      <th>valence</th>\n",
       "    </tr>\n",
       "  </thead>\n",
       "  <tbody>\n",
       "    <tr>\n",
       "      <th>0</th>\n",
       "      <td>0.234429</td>\n",
       "      <td>0.153280</td>\n",
       "      <td>-1.087287</td>\n",
       "      <td>-0.034082</td>\n",
       "      <td>-0.111864</td>\n",
       "      <td>-0.924928</td>\n",
       "      <td>-0.569818</td>\n",
       "      <td>0.078899</td>\n",
       "      <td>-0.665590</td>\n",
       "      <td>-0.776052</td>\n",
       "      <td>0.110072</td>\n",
       "      <td>-1.499069</td>\n",
       "    </tr>\n",
       "    <tr>\n",
       "      <th>1</th>\n",
       "      <td>-0.744047</td>\n",
       "      <td>1.169892</td>\n",
       "      <td>-0.953584</td>\n",
       "      <td>1.390222</td>\n",
       "      <td>-0.111643</td>\n",
       "      <td>-1.467484</td>\n",
       "      <td>-0.704061</td>\n",
       "      <td>1.114347</td>\n",
       "      <td>1.339700</td>\n",
       "      <td>0.212902</td>\n",
       "      <td>0.110072</td>\n",
       "      <td>0.635067</td>\n",
       "    </tr>\n",
       "    <tr>\n",
       "      <th>2</th>\n",
       "      <td>-0.801507</td>\n",
       "      <td>1.054532</td>\n",
       "      <td>1.370844</td>\n",
       "      <td>-0.403567</td>\n",
       "      <td>-0.110689</td>\n",
       "      <td>0.160186</td>\n",
       "      <td>-0.686582</td>\n",
       "      <td>-0.091923</td>\n",
       "      <td>-0.312020</td>\n",
       "      <td>0.214459</td>\n",
       "      <td>0.110072</td>\n",
       "      <td>-0.529007</td>\n",
       "    </tr>\n",
       "    <tr>\n",
       "      <th>3</th>\n",
       "      <td>2.912313</td>\n",
       "      <td>0.448891</td>\n",
       "      <td>1.266950</td>\n",
       "      <td>0.156620</td>\n",
       "      <td>-0.111864</td>\n",
       "      <td>1.516578</td>\n",
       "      <td>0.661443</td>\n",
       "      <td>0.821089</td>\n",
       "      <td>2.521722</td>\n",
       "      <td>-1.162309</td>\n",
       "      <td>0.110072</td>\n",
       "      <td>-0.041720</td>\n",
       "    </tr>\n",
       "    <tr>\n",
       "      <th>4</th>\n",
       "      <td>1.970908</td>\n",
       "      <td>-0.113491</td>\n",
       "      <td>0.658783</td>\n",
       "      <td>-0.659823</td>\n",
       "      <td>-0.111864</td>\n",
       "      <td>-0.111093</td>\n",
       "      <td>0.088113</td>\n",
       "      <td>-0.758380</td>\n",
       "      <td>-0.602341</td>\n",
       "      <td>-0.776016</td>\n",
       "      <td>0.110072</td>\n",
       "      <td>-0.560590</td>\n",
       "    </tr>\n",
       "  </tbody>\n",
       "</table>\n",
       "</div>"
      ],
      "text/plain": [
       "   acousticness  danceability  duration_ms    energy  instrumentalness  \\\n",
       "0      0.234429      0.153280    -1.087287 -0.034082         -0.111864   \n",
       "1     -0.744047      1.169892    -0.953584  1.390222         -0.111643   \n",
       "2     -0.801507      1.054532     1.370844 -0.403567         -0.110689   \n",
       "3      2.912313      0.448891     1.266950  0.156620         -0.111864   \n",
       "4      1.970908     -0.113491     0.658783 -0.659823         -0.111864   \n",
       "\n",
       "        key  liveness  loudness  speechiness     tempo  time_signature  \\\n",
       "0 -0.924928 -0.569818  0.078899    -0.665590 -0.776052        0.110072   \n",
       "1 -1.467484 -0.704061  1.114347     1.339700  0.212902        0.110072   \n",
       "2  0.160186 -0.686582 -0.091923    -0.312020  0.214459        0.110072   \n",
       "3  1.516578  0.661443  0.821089     2.521722 -1.162309        0.110072   \n",
       "4 -0.111093  0.088113 -0.758380    -0.602341 -0.776016        0.110072   \n",
       "\n",
       "    valence  \n",
       "0 -1.499069  \n",
       "1  0.635067  \n",
       "2 -0.529007  \n",
       "3 -0.041720  \n",
       "4 -0.560590  "
      ]
     },
     "execution_count": 3,
     "metadata": {},
     "output_type": "execute_result"
    }
   ],
   "source": [
    "no_title = data.drop(['title', 'label'], axis=1)\n",
    "z_scores=(no_title - no_title.mean())/no_title.std()\n",
    "z_scores.head()"
   ]
  },
  {
   "cell_type": "markdown",
   "metadata": {},
   "source": [
    "We will test a few different combinations of effects in order to find a model with the most predictive power. We first run a logistic regression using all of the features, then we chose the three features with the highest impact on the logistic regression that included all features and re-run a regression using only those 3. \n",
    "\n",
    "We also test our initial hypothesis that danceability alone will be a good predictor of popularity."
   ]
  },
  {
   "cell_type": "markdown",
   "metadata": {},
   "source": [
    "Next, to create another version of this model we calculated the total correlation between all variables and all other variables in order to try and determine which features could be excluded from the next iteration of the model. This lead us to using key, instrumentalness, and duration as the paramaters as these 3 features all had the lowest total correlations as well as low correlation values with each other."
   ]
  },
  {
   "cell_type": "code",
   "execution_count": 4,
   "metadata": {},
   "outputs": [
    {
     "name": "stdout",
     "output_type": "stream",
     "text": [
      "[2.7329680037073145, 2.1948466714079466, 1.6361565821815707, 3.560806103766256, 1.5099574136833491, 1.273709376402949, 1.786414884476453, 3.264330658962157, 1.9324017245762282, 1.884353906738323, 1.7827839781681039, 2.7386064388550784]\n"
     ]
    }
   ],
   "source": [
    "corr = no_title.corr()\n",
    "total_corr = []\n",
    "c = 0\n",
    "for feature in corr:\n",
    "    ind = 0\n",
    "    for i in corr[feature]:\n",
    "        if c == 0:\n",
    "            total_corr.append(0)\n",
    "        total_corr[ind] += abs(i)\n",
    "        ind+=1\n",
    "    c += 1\n",
    "print(total_corr)"
   ]
  },
  {
   "cell_type": "code",
   "execution_count": 5,
   "metadata": {},
   "outputs": [
    {
     "data": {
      "text/html": [
       "<div>\n",
       "<style scoped>\n",
       "    .dataframe tbody tr th:only-of-type {\n",
       "        vertical-align: middle;\n",
       "    }\n",
       "\n",
       "    .dataframe tbody tr th {\n",
       "        vertical-align: top;\n",
       "    }\n",
       "\n",
       "    .dataframe thead th {\n",
       "        text-align: right;\n",
       "    }\n",
       "</style>\n",
       "<table border=\"1\" class=\"dataframe\">\n",
       "  <thead>\n",
       "    <tr style=\"text-align: right;\">\n",
       "      <th></th>\n",
       "      <th>acousticness</th>\n",
       "      <th>danceability</th>\n",
       "      <th>duration_ms</th>\n",
       "      <th>energy</th>\n",
       "      <th>instrumentalness</th>\n",
       "      <th>key</th>\n",
       "      <th>liveness</th>\n",
       "      <th>loudness</th>\n",
       "      <th>speechiness</th>\n",
       "      <th>tempo</th>\n",
       "      <th>time_signature</th>\n",
       "      <th>valence</th>\n",
       "    </tr>\n",
       "  </thead>\n",
       "  <tbody>\n",
       "    <tr>\n",
       "      <th>acousticness</th>\n",
       "      <td>1.000000</td>\n",
       "      <td>-0.184256</td>\n",
       "      <td>-0.007125</td>\n",
       "      <td>-0.520882</td>\n",
       "      <td>0.069646</td>\n",
       "      <td>-0.003758</td>\n",
       "      <td>-0.066380</td>\n",
       "      <td>-0.419566</td>\n",
       "      <td>-0.036140</td>\n",
       "      <td>-0.146195</td>\n",
       "      <td>-0.104638</td>\n",
       "      <td>-0.174381</td>\n",
       "    </tr>\n",
       "    <tr>\n",
       "      <th>danceability</th>\n",
       "      <td>-0.184256</td>\n",
       "      <td>1.000000</td>\n",
       "      <td>-0.083887</td>\n",
       "      <td>-0.041506</td>\n",
       "      <td>0.008108</td>\n",
       "      <td>0.013918</td>\n",
       "      <td>-0.068204</td>\n",
       "      <td>0.057201</td>\n",
       "      <td>0.232517</td>\n",
       "      <td>-0.133679</td>\n",
       "      <td>0.097874</td>\n",
       "      <td>0.273697</td>\n",
       "    </tr>\n",
       "    <tr>\n",
       "      <th>duration_ms</th>\n",
       "      <td>-0.007125</td>\n",
       "      <td>-0.083887</td>\n",
       "      <td>1.000000</td>\n",
       "      <td>-0.089369</td>\n",
       "      <td>0.027760</td>\n",
       "      <td>-0.045954</td>\n",
       "      <td>0.056755</td>\n",
       "      <td>-0.090763</td>\n",
       "      <td>-0.018312</td>\n",
       "      <td>-0.004759</td>\n",
       "      <td>-0.025812</td>\n",
       "      <td>-0.185662</td>\n",
       "    </tr>\n",
       "    <tr>\n",
       "      <th>energy</th>\n",
       "      <td>-0.520882</td>\n",
       "      <td>-0.041506</td>\n",
       "      <td>-0.089369</td>\n",
       "      <td>1.000000</td>\n",
       "      <td>-0.054364</td>\n",
       "      <td>0.032311</td>\n",
       "      <td>0.171197</td>\n",
       "      <td>0.732734</td>\n",
       "      <td>-0.099753</td>\n",
       "      <td>0.193083</td>\n",
       "      <td>0.182769</td>\n",
       "      <td>0.442839</td>\n",
       "    </tr>\n",
       "    <tr>\n",
       "      <th>instrumentalness</th>\n",
       "      <td>0.069646</td>\n",
       "      <td>0.008108</td>\n",
       "      <td>0.027760</td>\n",
       "      <td>-0.054364</td>\n",
       "      <td>1.000000</td>\n",
       "      <td>0.033556</td>\n",
       "      <td>0.001823</td>\n",
       "      <td>-0.212182</td>\n",
       "      <td>-0.022305</td>\n",
       "      <td>0.001817</td>\n",
       "      <td>0.011647</td>\n",
       "      <td>-0.066750</td>\n",
       "    </tr>\n",
       "    <tr>\n",
       "      <th>key</th>\n",
       "      <td>-0.003758</td>\n",
       "      <td>0.013918</td>\n",
       "      <td>-0.045954</td>\n",
       "      <td>0.032311</td>\n",
       "      <td>0.033556</td>\n",
       "      <td>1.000000</td>\n",
       "      <td>0.012247</td>\n",
       "      <td>0.008563</td>\n",
       "      <td>0.078638</td>\n",
       "      <td>-0.002376</td>\n",
       "      <td>0.004328</td>\n",
       "      <td>0.038061</td>\n",
       "    </tr>\n",
       "    <tr>\n",
       "      <th>liveness</th>\n",
       "      <td>-0.066380</td>\n",
       "      <td>-0.068204</td>\n",
       "      <td>0.056755</td>\n",
       "      <td>0.171197</td>\n",
       "      <td>0.001823</td>\n",
       "      <td>0.012247</td>\n",
       "      <td>1.000000</td>\n",
       "      <td>0.074880</td>\n",
       "      <td>0.150872</td>\n",
       "      <td>0.068766</td>\n",
       "      <td>0.047602</td>\n",
       "      <td>0.067690</td>\n",
       "    </tr>\n",
       "    <tr>\n",
       "      <th>loudness</th>\n",
       "      <td>-0.419566</td>\n",
       "      <td>0.057201</td>\n",
       "      <td>-0.090763</td>\n",
       "      <td>0.732734</td>\n",
       "      <td>-0.212182</td>\n",
       "      <td>0.008563</td>\n",
       "      <td>0.074880</td>\n",
       "      <td>1.000000</td>\n",
       "      <td>-0.106264</td>\n",
       "      <td>0.127396</td>\n",
       "      <td>0.143307</td>\n",
       "      <td>0.291474</td>\n",
       "    </tr>\n",
       "    <tr>\n",
       "      <th>speechiness</th>\n",
       "      <td>-0.036140</td>\n",
       "      <td>0.232517</td>\n",
       "      <td>-0.018312</td>\n",
       "      <td>-0.099753</td>\n",
       "      <td>-0.022305</td>\n",
       "      <td>0.078638</td>\n",
       "      <td>0.150872</td>\n",
       "      <td>-0.106264</td>\n",
       "      <td>1.000000</td>\n",
       "      <td>0.113213</td>\n",
       "      <td>0.052869</td>\n",
       "      <td>0.021518</td>\n",
       "    </tr>\n",
       "    <tr>\n",
       "      <th>tempo</th>\n",
       "      <td>-0.146195</td>\n",
       "      <td>-0.133679</td>\n",
       "      <td>-0.004759</td>\n",
       "      <td>0.193083</td>\n",
       "      <td>0.001817</td>\n",
       "      <td>-0.002376</td>\n",
       "      <td>0.068766</td>\n",
       "      <td>0.127396</td>\n",
       "      <td>0.113213</td>\n",
       "      <td>1.000000</td>\n",
       "      <td>0.014236</td>\n",
       "      <td>0.078833</td>\n",
       "    </tr>\n",
       "    <tr>\n",
       "      <th>time_signature</th>\n",
       "      <td>-0.104638</td>\n",
       "      <td>0.097874</td>\n",
       "      <td>-0.025812</td>\n",
       "      <td>0.182769</td>\n",
       "      <td>0.011647</td>\n",
       "      <td>0.004328</td>\n",
       "      <td>0.047602</td>\n",
       "      <td>0.143307</td>\n",
       "      <td>0.052869</td>\n",
       "      <td>0.014236</td>\n",
       "      <td>1.000000</td>\n",
       "      <td>0.097703</td>\n",
       "    </tr>\n",
       "    <tr>\n",
       "      <th>valence</th>\n",
       "      <td>-0.174381</td>\n",
       "      <td>0.273697</td>\n",
       "      <td>-0.185662</td>\n",
       "      <td>0.442839</td>\n",
       "      <td>-0.066750</td>\n",
       "      <td>0.038061</td>\n",
       "      <td>0.067690</td>\n",
       "      <td>0.291474</td>\n",
       "      <td>0.021518</td>\n",
       "      <td>0.078833</td>\n",
       "      <td>0.097703</td>\n",
       "      <td>1.000000</td>\n",
       "    </tr>\n",
       "  </tbody>\n",
       "</table>\n",
       "</div>"
      ],
      "text/plain": [
       "                  acousticness  danceability  duration_ms    energy  \\\n",
       "acousticness          1.000000     -0.184256    -0.007125 -0.520882   \n",
       "danceability         -0.184256      1.000000    -0.083887 -0.041506   \n",
       "duration_ms          -0.007125     -0.083887     1.000000 -0.089369   \n",
       "energy               -0.520882     -0.041506    -0.089369  1.000000   \n",
       "instrumentalness      0.069646      0.008108     0.027760 -0.054364   \n",
       "key                  -0.003758      0.013918    -0.045954  0.032311   \n",
       "liveness             -0.066380     -0.068204     0.056755  0.171197   \n",
       "loudness             -0.419566      0.057201    -0.090763  0.732734   \n",
       "speechiness          -0.036140      0.232517    -0.018312 -0.099753   \n",
       "tempo                -0.146195     -0.133679    -0.004759  0.193083   \n",
       "time_signature       -0.104638      0.097874    -0.025812  0.182769   \n",
       "valence              -0.174381      0.273697    -0.185662  0.442839   \n",
       "\n",
       "                  instrumentalness       key  liveness  loudness  speechiness  \\\n",
       "acousticness              0.069646 -0.003758 -0.066380 -0.419566    -0.036140   \n",
       "danceability              0.008108  0.013918 -0.068204  0.057201     0.232517   \n",
       "duration_ms               0.027760 -0.045954  0.056755 -0.090763    -0.018312   \n",
       "energy                   -0.054364  0.032311  0.171197  0.732734    -0.099753   \n",
       "instrumentalness          1.000000  0.033556  0.001823 -0.212182    -0.022305   \n",
       "key                       0.033556  1.000000  0.012247  0.008563     0.078638   \n",
       "liveness                  0.001823  0.012247  1.000000  0.074880     0.150872   \n",
       "loudness                 -0.212182  0.008563  0.074880  1.000000    -0.106264   \n",
       "speechiness              -0.022305  0.078638  0.150872 -0.106264     1.000000   \n",
       "tempo                     0.001817 -0.002376  0.068766  0.127396     0.113213   \n",
       "time_signature            0.011647  0.004328  0.047602  0.143307     0.052869   \n",
       "valence                  -0.066750  0.038061  0.067690  0.291474     0.021518   \n",
       "\n",
       "                     tempo  time_signature   valence  \n",
       "acousticness     -0.146195       -0.104638 -0.174381  \n",
       "danceability     -0.133679        0.097874  0.273697  \n",
       "duration_ms      -0.004759       -0.025812 -0.185662  \n",
       "energy            0.193083        0.182769  0.442839  \n",
       "instrumentalness  0.001817        0.011647 -0.066750  \n",
       "key              -0.002376        0.004328  0.038061  \n",
       "liveness          0.068766        0.047602  0.067690  \n",
       "loudness          0.127396        0.143307  0.291474  \n",
       "speechiness       0.113213        0.052869  0.021518  \n",
       "tempo             1.000000        0.014236  0.078833  \n",
       "time_signature    0.014236        1.000000  0.097703  \n",
       "valence           0.078833        0.097703  1.000000  "
      ]
     },
     "execution_count": 5,
     "metadata": {},
     "output_type": "execute_result"
    }
   ],
   "source": [
    "corr"
   ]
  },
  {
   "cell_type": "markdown",
   "metadata": {},
   "source": [
    "In order to avoid overfitting in our models, it is necessary to split our data into two separate sets of test and training data."
   ]
  },
  {
   "cell_type": "code",
   "execution_count": 6,
   "metadata": {},
   "outputs": [
    {
     "name": "stderr",
     "output_type": "stream",
     "text": [
      "/anaconda3/lib/python3.6/site-packages/ipykernel_launcher.py:10: FutureWarning: reshape is deprecated and will raise in a subsequent release. Please use .values.reshape(...) instead\n",
      "  # Remove the CWD from sys.path while we load stuff.\n",
      "/anaconda3/lib/python3.6/site-packages/ipykernel_launcher.py:14: FutureWarning: reshape is deprecated and will raise in a subsequent release. Please use .values.reshape(...) instead\n",
      "  \n"
     ]
    }
   ],
   "source": [
    "x_train, x_test, y_train, y_test= train_test_split(z_scores, data['label'])\n",
    "\n",
    "test_2 = z_scores[['danceability', 'instrumentalness', 'tempo']]\n",
    "x_train2, x_test2, y_train2, y_test2= train_test_split(test_2, data['label'])\n",
    "\n",
    "test_3 = z_scores[['key', 'instrumentalness', 'duration_ms']]\n",
    "x_train3, x_test3, y_train3, y_test3= train_test_split(test_3, data['label'])\n",
    "\n",
    "test_4 = z_scores['instrumentalness']\n",
    "test_4 = test_4.reshape(-1, 1)\n",
    "x_train4, x_test4, y_train4, y_test4= train_test_split(test_4, data['label'])\n",
    "\n",
    "test_5 = z_scores['danceability']\n",
    "test_5 = test_5.reshape(-1, 1)\n",
    "x_train5, x_test5, y_train5, y_test5 = train_test_split(test_5, data['label'])"
   ]
  },
  {
   "cell_type": "code",
   "execution_count": 7,
   "metadata": {},
   "outputs": [
    {
     "name": "stdout",
     "output_type": "stream",
     "text": [
      "[[-0.0386039   0.07073096  0.04802809  0.00482995 -0.08410396 -0.02393694\n",
      "   0.04591933 -0.0174454   0.11860687  0.06639801  0.03054173  0.0098491 ]] [-0.01554774]\n",
      "[[ 0.15989985 -0.10068883  0.00532568]] [0.01105739]\n",
      "[[-0.03807051 -0.10847069  0.08211192]] [-0.01981267]\n",
      "[[-0.12898915]] [-0.01037807]\n",
      "[[0.07007137]] [0.05073162]\n"
     ]
    }
   ],
   "source": [
    "clf1 = LogisticRegression()\n",
    "clf1.fit(x_train, y_train)\n",
    "predicted_train = clf1.predict(x_train)\n",
    "predicted_test = clf1.predict(x_test)\n",
    "print (clf1.coef_, clf1.intercept_)\n",
    "\n",
    "clf2 = LogisticRegression()\n",
    "clf2.fit(x_train2, y_train2)\n",
    "predicted_train2 = clf2.predict(x_train2)\n",
    "predicted_test2 = clf2.predict(x_test2)\n",
    "print (clf2.coef_, clf2.intercept_)\n",
    "\n",
    "clf3 = LogisticRegression()\n",
    "clf3.fit(x_train3, y_train3)\n",
    "predicted_train3 = clf3.predict(x_train3)\n",
    "predicted_test3 = clf3.predict(x_test3)\n",
    "print (clf3.coef_, clf3.intercept_)\n",
    "\n",
    "clf4 = LogisticRegression()\n",
    "clf4.fit(x_train4, y_train4)\n",
    "predicted_train4 = clf4.predict(x_train4)\n",
    "predicted_test4 = clf4.predict(x_test4)\n",
    "print (clf4.coef_, clf4.intercept_)\n",
    "\n",
    "clf5 = LogisticRegression()\n",
    "clf5.fit(x_train5, y_train5)\n",
    "predicted_train5 = clf5.predict(x_train5)\n",
    "predicted_test5 = clf5.predict(x_test5)\n",
    "#print(predicted_test5)\n",
    "print (clf5.coef_, clf5.intercept_)"
   ]
  },
  {
   "cell_type": "markdown",
   "metadata": {},
   "source": [
    "#### Analysis"
   ]
  },
  {
   "cell_type": "markdown",
   "metadata": {},
   "source": [
    "### Neural Network \n",
    "\n",
    "The linear regression yielded poor results, so we thought a more complex regression might lend towards a better analysis. For this we decided to build a neural network using Tensorflow. We chose a feedforward neural network due to its ability to model non linear functions.\n",
    "\n",
    "We begin by importing the Tensorflow module, which provides a framework for, what seems like, every type of modeling technique. Take note that 'tf' is the industry standard alias for tensorflow.We next need to examine and analyize predictive power of our different models.\n",
    "\n",
    "Here we see that for every set of predictors, the model is able to predict popularity with an accuracy between 51-53%, while for the test data the amount of variance that can be explained is even lower. None of these logistic regressions are very powerful predictors."
   ]
  },
  {
   "cell_type": "code",
   "execution_count": 8,
   "metadata": {},
   "outputs": [
    {
     "name": "stdout",
     "output_type": "stream",
     "text": [
      "Training 1-rsq = 0.522388, Testing 1-rsq = 0.507463, all effects\n",
      "Training 2-rsq = 0.548507, Testing 2-rsq = 0.485075, danceability, instrumentalness, and tempo\n",
      "Training 3-rsq = 0.519900, Testing 3-rsq = 0.507463, key, instrumentalness, and duration\n",
      "Training 4-rsq = 0.504975, Testing 4-rsq = 0.492537, instrumentalness only\n",
      "Training 5-rsq = 0.533582, Testing 5-rsq = 0.522388, danceability only\n"
     ]
    }
   ],
   "source": [
    "train1_rsq = clf1.score(x_train, y_train)\n",
    "test1_rsq = clf1.score(x_test, y_test)\n",
    "print(\"Training 1-rsq = %f, Testing 1-rsq = %f, all effects\" % (train1_rsq, test1_rsq))\n",
    "    \n",
    "train2_rsq = clf2.score(x_train2, y_train2)\n",
    "test2_rsq = clf2.score(x_test2, y_test2)\n",
    "print(\"Training 2-rsq = %f, Testing 2-rsq = %f, danceability, instrumentalness, and tempo\" % (train2_rsq, test2_rsq))\n",
    "\n",
    "train3_rsq = clf3.score(x_train3, y_train3)\n",
    "test3_rsq = clf3.score(x_test3, y_test3)\n",
    "print(\"Training 3-rsq = %f, Testing 3-rsq = %f, key, instrumentalness, and duration\" % (train3_rsq, test3_rsq))\n",
    "\n",
    "train4_rsq = clf4.score(x_train4, y_train4)\n",
    "test4_rsq = clf4.score(x_test4, y_test4)\n",
    "print(\"Training 4-rsq = %f, Testing 4-rsq = %f, instrumentalness only\" % (train4_rsq, test4_rsq))\n",
    "\n",
    "train5_rsq = clf5.score(x_train5, y_train5)\n",
    "test5_rsq = clf5.score(x_test5, y_test5)\n",
    "print(\"Training 5-rsq = %f, Testing 5-rsq = %f, danceability only\" % (train5_rsq, test5_rsq))"
   ]
  },
  {
   "cell_type": "markdown",
   "metadata": {},
   "source": [
    "Next we need to calculate the precision and recall of our models in order to better analyize their effectiveness."
   ]
  },
  {
   "cell_type": "code",
   "execution_count": 17,
   "metadata": {},
   "outputs": [],
   "source": [
    "def conditions(predicted, actual):\n",
    "    TP = 0\n",
    "    TN = 0\n",
    "    FP = 0\n",
    "    FN = 0\n",
    "    for i in range(len(predicted)):\n",
    "        if predicted[i] == actual[i]:\n",
    "            if predicted[i] == 1:\n",
    "                TP += 1\n",
    "            else:\n",
    "                TN += 1\n",
    "        else:\n",
    "            if predicted[i] == 1:\n",
    "                FP += 1\n",
    "            else:\n",
    "                FN += 1\n",
    "    return(TP, TN, FP, FN)"
   ]
  },
  {
   "cell_type": "code",
   "execution_count": 19,
   "metadata": {},
   "outputs": [],
   "source": [
    "\n",
    "def precision(TP, FP):\n",
    "    if TP+FP != 0:\n",
    "        return(float(TP)/float(TP+FP))\n",
    "    else:\n",
    "        return(np.nan)"
   ]
  },
  {
   "cell_type": "code",
   "execution_count": 20,
   "metadata": {},
   "outputs": [],
   "source": [
    "def recall(TP, FN):\n",
    "    if TP+FN != 0:\n",
    "        return(float(TP)/float(TP+FN))\n",
    "    else:\n",
    "        return(np.nan)"
   ]
  },
  {
   "cell_type": "code",
   "execution_count": 21,
   "metadata": {},
   "outputs": [
    {
     "name": "stdout",
     "output_type": "stream",
     "text": [
      "Test 1 : Precision = 0.519231, Recall = 0.397059\n",
      "Test 2 : Precision = 0.478873, Recall = 0.515152\n",
      "Test 3 : Precision = 0.528302, Recall = 0.405797\n",
      "Test 4 : Precision = 0.497976, Recall = 0.911111\n",
      "Test 5 : Precision = 0.490196, Recall = 0.806452\n"
     ]
    }
   ],
   "source": [
    "y_test = list(y_test)\n",
    "TP1, TN1, FP1, FN1 = conditions(predicted_test, y_test)\n",
    "print(\"Test 1 : Precision = %f, Recall = %f\" % (precision(TP1,FP1), recall(TP1, FN1)))\n",
    "\n",
    "y_test2 = list(y_test2)\n",
    "TP2, TN2, FP2, FN2 = conditions(predicted_test2, y_test2)\n",
    "print(\"Test 2 : Precision = %f, Recall = %f\" % (precision(TP2,FP2), recall(TP2, FN2)))\n",
    "\n",
    "y_test3 = list(y_test3)\n",
    "TP3, TN3, FP3, FN3 = conditions(predicted_test3, y_test3)\n",
    "print(\"Test 3 : Precision = %f, Recall = %f\" % (precision(TP3,FP3), recall(TP3, FN3)))\n",
    "\n",
    "y_test4 = list(y_test4)\n",
    "TP4, TN4, FP4, FN4 = conditions(predicted_test4, y_test4)\n",
    "print(\"Test 4 : Precision = %f, Recall = %f\" % (precision(TP4,FP4), recall(TP4, FN4)))\n",
    "\n",
    "y_test5 = list(y_test5)\n",
    "TP5, TN5, FP5, FN5 = conditions(predicted_test5, y_test5)\n",
    "print(\"Test 5 : Precision = %f, Recall = %f\" % (precision(TP5,FP5), recall(TP5, FN5)))"
   ]
  },
  {
   "cell_type": "markdown",
   "metadata": {},
   "source": [
    "Above we can see that the precsion of all of our models is not very high, that is that we have a similar number of true positives as false positives, while the recall of each model has a very large range. Model 4 has by far the highest recall, meaning that there were very few false negatives when using that model: i.e. songs that the model thought would not be popular but were actually popular. This model is likely due to the property that this model predicts that almost all songs will be popular."
   ]
  },
  {
   "cell_type": "markdown",
   "metadata": {},
   "source": [
    "#### Visualizations"
   ]
  },
  {
   "cell_type": "code",
   "execution_count": 22,
   "metadata": {},
   "outputs": [
    {
     "name": "stdout",
     "output_type": "stream",
     "text": [
      "-0.12898915437479477 -0.010378074549077188\n"
     ]
    },
    {
     "data": {
      "image/png": "[encoded data removed]",
      "text/plain": [
       "<matplotlib.figure.Figure at 0x1a10b42748>"
      ]
     },
     "metadata": {},
     "output_type": "display_data"
    }
   ],
   "source": [
    "x = x_test4\n",
    "y = y_test4\n",
    "#line = matplotlib.lines.Line2D(clf4.coef_, clf4.intercept_)\n",
    "plt.scatter(x, y, c='b')\n",
    "slope = clf4.coef_[0][0]\n",
    "intercept = clf4.intercept_[0]\n",
    "print(slope, intercept)\n",
    "\n",
    "# Create a list of values in the best fit line\n",
    "abline_values = [slope * i + intercept for i in x]\n",
    "# Plot the best fit line over the actual values\n",
    "plt.plot(x, abline_values, 'b')\n",
    "plt.title(slope)\n",
    "plt.show()"
   ]
  },
  {
   "cell_type": "markdown",
   "metadata": {},
   "source": [
    "### Neural Network "
   ]
  },
  {
   "cell_type": "markdown",
   "metadata": {},
   "source": [
    "-blah"
   ]
  },
  {
   "cell_type": "code",
   "execution_count": 24,
   "metadata": {},
   "outputs": [],
   "source": [
    "import tensorflow as tf\n"
   ]
  },
  {
   "cell_type": "markdown",
   "metadata": {},
   "source": [
    "Next, we read in the balanced song features dataset, which includes data on every song that has appeared on the Billboard Hot 100 since 2010. Intially the dataset was split such that 70% of the music was unpopular and 30% popular. After completing the training the network had an outstanding 70% accuracy! Under further investigation, we realized the networks was simply assigning everything an unpopular label. Do remedy this we modified our dataset such that there was a 50-50 split between popular and unpopular songs. "
   ]
  },
  {
   "cell_type": "code",
   "execution_count": 11,
   "metadata": {
    "scrolled": true
   },
   "outputs": [
    {
     "data": {
      "text/html": [
       "<div>\n",
       "<style scoped>\n",
       "    .dataframe tbody tr th:only-of-type {\n",
       "        vertical-align: middle;\n",
       "    }\n",
       "\n",
       "    .dataframe tbody tr th {\n",
       "        vertical-align: top;\n",
       "    }\n",
       "\n",
       "    .dataframe thead th {\n",
       "        text-align: right;\n",
       "    }\n",
       "</style>\n",
       "<table border=\"1\" class=\"dataframe\">\n",
       "  <thead>\n",
       "    <tr style=\"text-align: right;\">\n",
       "      <th></th>\n",
       "      <th>acousticness</th>\n",
       "      <th>danceability</th>\n",
       "      <th>duration_ms</th>\n",
       "      <th>energy</th>\n",
       "      <th>instrumentalness</th>\n",
       "      <th>key</th>\n",
       "      <th>liveness</th>\n",
       "      <th>loudness</th>\n",
       "      <th>speechiness</th>\n",
       "      <th>tempo</th>\n",
       "      <th>time_signature</th>\n",
       "      <th>valence</th>\n",
       "      <th>label</th>\n",
       "    </tr>\n",
       "  </thead>\n",
       "  <tbody>\n",
       "    <tr>\n",
       "      <th>0</th>\n",
       "      <td>0.21400</td>\n",
       "      <td>0.666</td>\n",
       "      <td>178242</td>\n",
       "      <td>0.677</td>\n",
       "      <td>0.000000</td>\n",
       "      <td>2</td>\n",
       "      <td>0.0979</td>\n",
       "      <td>-5.743</td>\n",
       "      <td>0.0326</td>\n",
       "      <td>100.014</td>\n",
       "      <td>4</td>\n",
       "      <td>0.178</td>\n",
       "      <td>1</td>\n",
       "    </tr>\n",
       "    <tr>\n",
       "      <th>1</th>\n",
       "      <td>0.01340</td>\n",
       "      <td>0.807</td>\n",
       "      <td>183750</td>\n",
       "      <td>0.916</td>\n",
       "      <td>0.000012</td>\n",
       "      <td>0</td>\n",
       "      <td>0.0787</td>\n",
       "      <td>-3.282</td>\n",
       "      <td>0.2260</td>\n",
       "      <td>127.973</td>\n",
       "      <td>4</td>\n",
       "      <td>0.651</td>\n",
       "      <td>1</td>\n",
       "    </tr>\n",
       "    <tr>\n",
       "      <th>2</th>\n",
       "      <td>0.00162</td>\n",
       "      <td>0.791</td>\n",
       "      <td>279507</td>\n",
       "      <td>0.615</td>\n",
       "      <td>0.000065</td>\n",
       "      <td>6</td>\n",
       "      <td>0.0812</td>\n",
       "      <td>-6.149</td>\n",
       "      <td>0.0667</td>\n",
       "      <td>128.017</td>\n",
       "      <td>4</td>\n",
       "      <td>0.393</td>\n",
       "      <td>1</td>\n",
       "    </tr>\n",
       "    <tr>\n",
       "      <th>3</th>\n",
       "      <td>0.76300</td>\n",
       "      <td>0.707</td>\n",
       "      <td>275227</td>\n",
       "      <td>0.709</td>\n",
       "      <td>0.000000</td>\n",
       "      <td>11</td>\n",
       "      <td>0.2740</td>\n",
       "      <td>-3.979</td>\n",
       "      <td>0.3400</td>\n",
       "      <td>89.094</td>\n",
       "      <td>4</td>\n",
       "      <td>0.501</td>\n",
       "      <td>1</td>\n",
       "    </tr>\n",
       "    <tr>\n",
       "      <th>4</th>\n",
       "      <td>0.57000</td>\n",
       "      <td>0.629</td>\n",
       "      <td>250173</td>\n",
       "      <td>0.572</td>\n",
       "      <td>0.000000</td>\n",
       "      <td>5</td>\n",
       "      <td>0.1920</td>\n",
       "      <td>-7.733</td>\n",
       "      <td>0.0387</td>\n",
       "      <td>100.015</td>\n",
       "      <td>4</td>\n",
       "      <td>0.386</td>\n",
       "      <td>1</td>\n",
       "    </tr>\n",
       "  </tbody>\n",
       "</table>\n",
       "</div>"
      ],
      "text/plain": [
       "   acousticness  danceability  duration_ms  energy  instrumentalness  key  \\\n",
       "0       0.21400         0.666       178242   0.677          0.000000    2   \n",
       "1       0.01340         0.807       183750   0.916          0.000012    0   \n",
       "2       0.00162         0.791       279507   0.615          0.000065    6   \n",
       "3       0.76300         0.707       275227   0.709          0.000000   11   \n",
       "4       0.57000         0.629       250173   0.572          0.000000    5   \n",
       "\n",
       "   liveness  loudness  speechiness    tempo  time_signature  valence  label  \n",
       "0    0.0979    -5.743       0.0326  100.014               4    0.178      1  \n",
       "1    0.0787    -3.282       0.2260  127.973               4    0.651      1  \n",
       "2    0.0812    -6.149       0.0667  128.017               4    0.393      1  \n",
       "3    0.2740    -3.979       0.3400   89.094               4    0.501      1  \n",
       "4    0.1920    -7.733       0.0387  100.015               4    0.386      1  "
      ]
     },
     "execution_count": 11,
     "metadata": {},
     "output_type": "execute_result"
    }
   ],
   "source": [
    "#Read in File\n",
    "data = pd.read_csv(\"balanced_pop_unpop_features.csv\")\n",
    "\n",
    "#Remove track name column\n",
    "del data[\"Unnamed: 0\"]\n",
    "\n",
    "#Quick look at the data\n",
    "data.head()"
   ]
  },
  {
   "cell_type": "code",
   "execution_count": 12,
   "metadata": {},
   "outputs": [
    {
     "name": "stdout",
     "output_type": "stream",
     "text": [
      "13\n"
     ]
    }
   ],
   "source": [
    "print(len(data.columns))"
   ]
  },
  {
   "cell_type": "markdown",
   "metadata": {},
   "source": [
    "The Tensorflow software below automatically shuffles the data, but just to be sure the following line of code mixes up the rows of the dataframe.\n"
   ]
  },
  {
   "cell_type": "code",
   "execution_count": 13,
   "metadata": {},
   "outputs": [
    {
     "data": {
      "text/html": [
       "<div>\n",
       "<style scoped>\n",
       "    .dataframe tbody tr th:only-of-type {\n",
       "        vertical-align: middle;\n",
       "    }\n",
       "\n",
       "    .dataframe tbody tr th {\n",
       "        vertical-align: top;\n",
       "    }\n",
       "\n",
       "    .dataframe thead th {\n",
       "        text-align: right;\n",
       "    }\n",
       "</style>\n",
       "<table border=\"1\" class=\"dataframe\">\n",
       "  <thead>\n",
       "    <tr style=\"text-align: right;\">\n",
       "      <th></th>\n",
       "      <th>acousticness</th>\n",
       "      <th>danceability</th>\n",
       "      <th>duration_ms</th>\n",
       "      <th>energy</th>\n",
       "      <th>instrumentalness</th>\n",
       "      <th>key</th>\n",
       "      <th>liveness</th>\n",
       "      <th>loudness</th>\n",
       "      <th>speechiness</th>\n",
       "      <th>tempo</th>\n",
       "      <th>time_signature</th>\n",
       "      <th>valence</th>\n",
       "      <th>label</th>\n",
       "    </tr>\n",
       "  </thead>\n",
       "  <tbody>\n",
       "    <tr>\n",
       "      <th>666</th>\n",
       "      <td>0.261</td>\n",
       "      <td>0.675</td>\n",
       "      <td>226507</td>\n",
       "      <td>0.545</td>\n",
       "      <td>0.000000</td>\n",
       "      <td>7</td>\n",
       "      <td>0.1620</td>\n",
       "      <td>-5.614</td>\n",
       "      <td>0.0443</td>\n",
       "      <td>60.048</td>\n",
       "      <td>4</td>\n",
       "      <td>0.445</td>\n",
       "      <td>0</td>\n",
       "    </tr>\n",
       "    <tr>\n",
       "      <th>280</th>\n",
       "      <td>0.328</td>\n",
       "      <td>0.508</td>\n",
       "      <td>227280</td>\n",
       "      <td>0.677</td>\n",
       "      <td>0.000000</td>\n",
       "      <td>1</td>\n",
       "      <td>0.0491</td>\n",
       "      <td>-5.696</td>\n",
       "      <td>0.0656</td>\n",
       "      <td>121.928</td>\n",
       "      <td>5</td>\n",
       "      <td>0.575</td>\n",
       "      <td>1</td>\n",
       "    </tr>\n",
       "    <tr>\n",
       "      <th>665</th>\n",
       "      <td>0.139</td>\n",
       "      <td>0.845</td>\n",
       "      <td>256027</td>\n",
       "      <td>0.576</td>\n",
       "      <td>0.000000</td>\n",
       "      <td>11</td>\n",
       "      <td>0.0764</td>\n",
       "      <td>-5.150</td>\n",
       "      <td>0.1530</td>\n",
       "      <td>127.641</td>\n",
       "      <td>4</td>\n",
       "      <td>0.461</td>\n",
       "      <td>0</td>\n",
       "    </tr>\n",
       "    <tr>\n",
       "      <th>252</th>\n",
       "      <td>0.121</td>\n",
       "      <td>0.733</td>\n",
       "      <td>142000</td>\n",
       "      <td>0.678</td>\n",
       "      <td>0.000000</td>\n",
       "      <td>6</td>\n",
       "      <td>0.3440</td>\n",
       "      <td>-7.771</td>\n",
       "      <td>0.4380</td>\n",
       "      <td>175.985</td>\n",
       "      <td>4</td>\n",
       "      <td>0.841</td>\n",
       "      <td>1</td>\n",
       "    </tr>\n",
       "    <tr>\n",
       "      <th>726</th>\n",
       "      <td>0.238</td>\n",
       "      <td>0.668</td>\n",
       "      <td>322549</td>\n",
       "      <td>0.678</td>\n",
       "      <td>0.000006</td>\n",
       "      <td>0</td>\n",
       "      <td>0.5270</td>\n",
       "      <td>-8.015</td>\n",
       "      <td>0.0496</td>\n",
       "      <td>132.584</td>\n",
       "      <td>4</td>\n",
       "      <td>0.778</td>\n",
       "      <td>0</td>\n",
       "    </tr>\n",
       "  </tbody>\n",
       "</table>\n",
       "</div>"
      ],
      "text/plain": [
       "     acousticness  danceability  duration_ms  energy  instrumentalness  key  \\\n",
       "666         0.261         0.675       226507   0.545          0.000000    7   \n",
       "280         0.328         0.508       227280   0.677          0.000000    1   \n",
       "665         0.139         0.845       256027   0.576          0.000000   11   \n",
       "252         0.121         0.733       142000   0.678          0.000000    6   \n",
       "726         0.238         0.668       322549   0.678          0.000006    0   \n",
       "\n",
       "     liveness  loudness  speechiness    tempo  time_signature  valence  label  \n",
       "666    0.1620    -5.614       0.0443   60.048               4    0.445      0  \n",
       "280    0.0491    -5.696       0.0656  121.928               5    0.575      1  \n",
       "665    0.0764    -5.150       0.1530  127.641               4    0.461      0  \n",
       "252    0.3440    -7.771       0.4380  175.985               4    0.841      1  \n",
       "726    0.5270    -8.015       0.0496  132.584               4    0.778      0  "
      ]
     },
     "execution_count": 13,
     "metadata": {},
     "output_type": "execute_result"
    }
   ],
   "source": [
    "#Shuffle dataset\n",
    "for i in range(10): data = data.sample(frac=1)\n",
    "    \n",
    "#Quick look at the shuffled data\n",
    "data.head()"
   ]
  },
  {
   "cell_type": "markdown",
   "metadata": {},
   "source": [
    "#### Model \n",
    "\n",
    "To model the data, the data is split 70-30, where 70% of the data is used to train the model and 30% of the data is used to test the model. "
   ]
  },
  {
   "cell_type": "code",
   "execution_count": 14,
   "metadata": {},
   "outputs": [
    {
     "name": "stdout",
     "output_type": "stream",
     "text": [
      "(750, 13) (322, 13)\n"
     ]
    }
   ],
   "source": [
    "#About a 70-30 split between training and testing \n",
    "train = data.iloc[:750]\n",
    "test = data.iloc[750:]\n",
    "\n",
    "#Quick look at shape of the two sets\n",
    "print(train.shape,test.shape)"
   ]
  },
  {
   "cell_type": "markdown",
   "metadata": {},
   "source": [
    "Next, the training and test sets are split into sets of features and labels. Immedietly following, the sets are normalized using a Z-score."
   ]
  },
  {
   "cell_type": "code",
   "execution_count": 15,
   "metadata": {},
   "outputs": [
    {
     "data": {
      "text/html": [
       "<div>\n",
       "<style scoped>\n",
       "    .dataframe tbody tr th:only-of-type {\n",
       "        vertical-align: middle;\n",
       "    }\n",
       "\n",
       "    .dataframe tbody tr th {\n",
       "        vertical-align: top;\n",
       "    }\n",
       "\n",
       "    .dataframe thead th {\n",
       "        text-align: right;\n",
       "    }\n",
       "</style>\n",
       "<table border=\"1\" class=\"dataframe\">\n",
       "  <thead>\n",
       "    <tr style=\"text-align: right;\">\n",
       "      <th></th>\n",
       "      <th>acousticness</th>\n",
       "      <th>danceability</th>\n",
       "      <th>duration_ms</th>\n",
       "      <th>energy</th>\n",
       "      <th>instrumentalness</th>\n",
       "      <th>key</th>\n",
       "      <th>liveness</th>\n",
       "      <th>loudness</th>\n",
       "      <th>speechiness</th>\n",
       "      <th>tempo</th>\n",
       "      <th>time_signature</th>\n",
       "      <th>valence</th>\n",
       "    </tr>\n",
       "  </thead>\n",
       "  <tbody>\n",
       "    <tr>\n",
       "      <th>666</th>\n",
       "      <td>0.427804</td>\n",
       "      <td>0.236938</td>\n",
       "      <td>0.096808</td>\n",
       "      <td>-0.789682</td>\n",
       "      <td>-0.112147</td>\n",
       "      <td>0.450061</td>\n",
       "      <td>-0.143541</td>\n",
       "      <td>0.153042</td>\n",
       "      <td>-0.565808</td>\n",
       "      <td>-2.184712</td>\n",
       "      <td>0.087686</td>\n",
       "      <td>-0.308318</td>\n",
       "    </tr>\n",
       "    <tr>\n",
       "      <th>280</th>\n",
       "      <td>0.751057</td>\n",
       "      <td>-0.967414</td>\n",
       "      <td>0.115479</td>\n",
       "      <td>-0.014643</td>\n",
       "      <td>-0.112147</td>\n",
       "      <td>-1.183225</td>\n",
       "      <td>-0.912828</td>\n",
       "      <td>0.118104</td>\n",
       "      <td>-0.351855</td>\n",
       "      <td>-0.023579</td>\n",
       "      <td>3.548960</td>\n",
       "      <td>0.280119</td>\n",
       "    </tr>\n",
       "    <tr>\n",
       "      <th>665</th>\n",
       "      <td>-0.160805</td>\n",
       "      <td>1.462924</td>\n",
       "      <td>0.809839</td>\n",
       "      <td>-0.607666</td>\n",
       "      <td>-0.112147</td>\n",
       "      <td>1.538919</td>\n",
       "      <td>-0.726809</td>\n",
       "      <td>0.350742</td>\n",
       "      <td>0.526058</td>\n",
       "      <td>0.175945</td>\n",
       "      <td>0.087686</td>\n",
       "      <td>-0.235895</td>\n",
       "    </tr>\n",
       "    <tr>\n",
       "      <th>252</th>\n",
       "      <td>-0.247649</td>\n",
       "      <td>0.655215</td>\n",
       "      <td>-1.944390</td>\n",
       "      <td>-0.008771</td>\n",
       "      <td>-0.112147</td>\n",
       "      <td>0.177847</td>\n",
       "      <td>1.096585</td>\n",
       "      <td>-0.766007</td>\n",
       "      <td>3.388815</td>\n",
       "      <td>1.864340</td>\n",
       "      <td>0.087686</td>\n",
       "      <td>1.484149</td>\n",
       "    </tr>\n",
       "    <tr>\n",
       "      <th>726</th>\n",
       "      <td>0.316837</td>\n",
       "      <td>0.186456</td>\n",
       "      <td>2.416624</td>\n",
       "      <td>-0.008771</td>\n",
       "      <td>-0.111984</td>\n",
       "      <td>-1.455440</td>\n",
       "      <td>2.343525</td>\n",
       "      <td>-0.869970</td>\n",
       "      <td>-0.512571</td>\n",
       "      <td>0.348578</td>\n",
       "      <td>0.087686</td>\n",
       "      <td>1.198984</td>\n",
       "    </tr>\n",
       "  </tbody>\n",
       "</table>\n",
       "</div>"
      ],
      "text/plain": [
       "     acousticness  danceability  duration_ms    energy  instrumentalness  \\\n",
       "666      0.427804      0.236938     0.096808 -0.789682         -0.112147   \n",
       "280      0.751057     -0.967414     0.115479 -0.014643         -0.112147   \n",
       "665     -0.160805      1.462924     0.809839 -0.607666         -0.112147   \n",
       "252     -0.247649      0.655215    -1.944390 -0.008771         -0.112147   \n",
       "726      0.316837      0.186456     2.416624 -0.008771         -0.111984   \n",
       "\n",
       "          key  liveness  loudness  speechiness     tempo  time_signature  \\\n",
       "666  0.450061 -0.143541  0.153042    -0.565808 -2.184712        0.087686   \n",
       "280 -1.183225 -0.912828  0.118104    -0.351855 -0.023579        3.548960   \n",
       "665  1.538919 -0.726809  0.350742     0.526058  0.175945        0.087686   \n",
       "252  0.177847  1.096585 -0.766007     3.388815  1.864340        0.087686   \n",
       "726 -1.455440  2.343525 -0.869970    -0.512571  0.348578        0.087686   \n",
       "\n",
       "      valence  \n",
       "666 -0.308318  \n",
       "280  0.280119  \n",
       "665 -0.235895  \n",
       "252  1.484149  \n",
       "726  1.198984  "
      ]
     },
     "execution_count": 15,
     "metadata": {},
     "output_type": "execute_result"
    }
   ],
   "source": [
    "#Split entries in train_x: features and train_y: labels\n",
    "train_x = train.iloc[:,:12]\n",
    "train_y = train.iloc[:,12:].astype(int)\n",
    "\n",
    "test_x = test.iloc[:,:12]\n",
    "test_y = test.iloc[:,12:].astype(int)\n",
    "\n",
    "#Take Z-score\n",
    "train_x = (train_x-train_x.mean())/(train_x.std())\n",
    "test_x = (test_x-test_x.mean())/(test_x.std())\n",
    "\n",
    "#Quick look at training set\n",
    "train_x.head()"
   ]
  },
  {
   "cell_type": "markdown",
   "metadata": {},
   "source": [
    "Tensorflow requires that a list of column features be provided in order to specify the type of input. The neural network is capable of using other feature types other than numeric."
   ]
  },
  {
   "cell_type": "code",
   "execution_count": 16,
   "metadata": {},
   "outputs": [
    {
     "ename": "NameError",
     "evalue": "name 'tf' is not defined",
     "output_type": "error",
     "traceback": [
      "\u001b[0;31m---------------------------------------------------------------------------\u001b[0m",
      "\u001b[0;31mNameError\u001b[0m                                 Traceback (most recent call last)",
      "\u001b[0;32m<ipython-input-16-febb952be204>\u001b[0m in \u001b[0;36m<module>\u001b[0;34m()\u001b[0m\n\u001b[1;32m      2\u001b[0m \u001b[0mfeature_columns\u001b[0m \u001b[0;34m=\u001b[0m \u001b[0;34m[\u001b[0m\u001b[0;34m]\u001b[0m\u001b[0;34m\u001b[0m\u001b[0m\n\u001b[1;32m      3\u001b[0m \u001b[0;32mfor\u001b[0m \u001b[0mi\u001b[0m \u001b[0;32min\u001b[0m \u001b[0mtrain_x\u001b[0m\u001b[0;34m.\u001b[0m\u001b[0mcolumns\u001b[0m\u001b[0;34m:\u001b[0m\u001b[0;34m\u001b[0m\u001b[0m\n\u001b[0;32m----> 4\u001b[0;31m     \u001b[0mfeature_columns\u001b[0m\u001b[0;34m.\u001b[0m\u001b[0mappend\u001b[0m\u001b[0;34m(\u001b[0m\u001b[0mtf\u001b[0m\u001b[0;34m.\u001b[0m\u001b[0mfeature_column\u001b[0m\u001b[0;34m.\u001b[0m\u001b[0mnumeric_column\u001b[0m\u001b[0;34m(\u001b[0m\u001b[0mkey\u001b[0m\u001b[0;34m=\u001b[0m\u001b[0mi\u001b[0m\u001b[0;34m)\u001b[0m\u001b[0;34m)\u001b[0m\u001b[0;34m\u001b[0m\u001b[0m\n\u001b[0m\u001b[1;32m      5\u001b[0m \u001b[0;34m\u001b[0m\u001b[0m\n\u001b[1;32m      6\u001b[0m \u001b[0;31m#Little preview of the numeric_column object\u001b[0m\u001b[0;34m\u001b[0m\u001b[0;34m\u001b[0m\u001b[0m\n",
      "\u001b[0;31mNameError\u001b[0m: name 'tf' is not defined"
     ]
    }
   ],
   "source": [
    "#Create feature column for net \n",
    "feature_columns = []\n",
    "for i in train_x.columns:\n",
    "    feature_columns.append(tf.feature_column.numeric_column(key=i))\n",
    "\n",
    "#Little preview of the numeric_column object\n",
    "for i in feature_columns[:2]:\n",
    "    print(i,\"\\n\")"
   ]
  },
  {
   "cell_type": "markdown",
   "metadata": {},
   "source": [
    "The following code is used to create the neural network. We decided to use a single hidden layer with 5 nodes."
   ]
  },
  {
   "cell_type": "code",
   "execution_count": null,
   "metadata": {},
   "outputs": [],
   "source": [
    "#Make estimator/ Model\n",
    "\n",
    "my_checkpointing_config = tf.estimator.RunConfig(\n",
    "    save_checkpoints_secs = 4,  # Save checkpoints every 20 minutes.\n",
    "    keep_checkpoint_max = 10,       # Retain the 10 most recent checkpoints.\n",
    ")\n",
    "\n",
    "classifier = tf.estimator.DNNClassifier(feature_columns=feature_columns\n",
    "                                        , hidden_units=[5],\n",
    "                                        n_classes=2,model_dir=\"./modeldata\",\n",
    "                                       config=my_checkpointing_config)"
   ]
  },
  {
   "cell_type": "markdown",
   "metadata": {},
   "source": [
    "The following function is used to prepare the data for input to the neural network. It is covered in depth in the Tensorflow documentation."
   ]
  },
  {
   "cell_type": "code",
   "execution_count": null,
   "metadata": {},
   "outputs": [],
   "source": [
    "def train_input_fn(features, labels, batch_size):\n",
    "    \"\"\"An input function for training\"\"\"\n",
    "    # Convert the inputs to a Dataset.\n",
    "    dataset = tf.data.Dataset.from_tensor_slices((dict(features), labels))\n",
    "\n",
    "    # Shuffle, repeat, and batch the examples.\n",
    "    dataset = dataset.shuffle(1000).repeat().batch(batch_size)\n",
    "\n",
    "    # Return the dataset.\n",
    "    return dataset"
   ]
  },
  {
   "cell_type": "markdown",
   "metadata": {},
   "source": [
    "Next, the network is training using the entirety of the training set. The Batch size is 500 and the number of steps or epochs is 1500."
   ]
  },
  {
   "cell_type": "code",
   "execution_count": null,
   "metadata": {},
   "outputs": [],
   "source": [
    "# Train the Model.\n",
    "classifier.train(\n",
    "    input_fn=lambda:train_input_fn(train_x, train_y,300),\n",
    "    steps=1000)"
   ]
  },
  {
   "cell_type": "markdown",
   "metadata": {},
   "source": [
    "#### Analysis"
   ]
  },
  {
   "cell_type": "markdown",
   "metadata": {},
   "source": [
    "Now that the network is trained it is time to test it with the testing set. The following function prepares the testing set for testing. "
   ]
  },
  {
   "cell_type": "code",
   "execution_count": null,
   "metadata": {},
   "outputs": [],
   "source": [
    "def eval_input_fn(features, labels, batch_size):\n",
    "    \"\"\"An input function for evaluation or prediction\"\"\"\n",
    "    features=dict(features)\n",
    "    if labels is None:\n",
    "        # No labels, use only features.\n",
    "        inputs = features\n",
    "    else:\n",
    "        inputs = (features, labels)\n",
    "\n",
    "    # Convert the inputs to a Dataset.\n",
    "    dataset = tf.data.Dataset.from_tensor_slices(inputs)\n",
    "\n",
    "    # Batch the examples\n",
    "    assert batch_size is not None, \"batch_size must not be None\"\n",
    "    dataset = dataset.batch(batch_size)\n",
    "\n",
    "    # Return the dataset.\n",
    "    return dataset"
   ]
  },
  {
   "cell_type": "markdown",
   "metadata": {},
   "source": [
    "The following code runs the testing evaluate function on the network."
   ]
  },
  {
   "cell_type": "code",
   "execution_count": null,
   "metadata": {},
   "outputs": [],
   "source": [
    "# Evaluate the model.\n",
    "eval_result = classifier.evaluate(\n",
    "    input_fn=lambda:eval_input_fn(test_x, test_y, 3000))"
   ]
  },
  {
   "cell_type": "markdown",
   "metadata": {},
   "source": [
    "Here are the results of the evaluation more clearly."
   ]
  },
  {
   "cell_type": "markdown",
   "metadata": {},
   "source": [
    "A print out of the prediction and exprected results can be found in the ANN Tests document located in the Model folder as well as a series of test done with other features and varying network shapes. \n",
    "\n",
    "From the evaluator it's clear that the neural network does a pretty bad job of modeling the data. We believe that to predict whether a song will be popular or not requires atleast some data on the cultural climate at the time. After reading a series of documents written by people conducting the same test, they also agree that analyzing a song's features is insufficient for producing meaningfull predictions. "
   ]
  },
  {
   "cell_type": "markdown",
   "metadata": {},
   "source": [
    "### Conclusion"
   ]
  },
  {
   "cell_type": "markdown",
   "metadata": {},
   "source": [
    "In the end, the modeling portion of this project was unsuccesful. You have an equally good chance of geussing whether a song will be popular or not than counting on our models prediction. We believe that the song features themselves have little to do with the popularity of a song. The prevoius success rate of the artists and the cultural climate play into a songs popularity more so than the song itself. This phenomon can be observed when an artists drops an album in the morning and in the afternoon the entire album appears in the Hot 100. "
   ]
  },
  {
   "cell_type": "code",
   "execution_count": null,
   "metadata": {},
   "outputs": [],
   "source": [
    "\n"
   ]
  },
  {
   "cell_type": "code",
   "execution_count": null,
   "metadata": {},
   "outputs": [],
   "source": []
  },
  {
   "cell_type": "code",
   "execution_count": null,
   "metadata": {},
   "outputs": [],
   "source": []
  },
  {
   "cell_type": "code",
   "execution_count": null,
   "metadata": {},
   "outputs": [],
   "source": []
  },
  {
   "cell_type": "code",
   "execution_count": null,
   "metadata": {},
   "outputs": [],
   "source": []
  }
 ],
 "metadata": {
  "kernelspec": {
   "display_name": "Python 3",
   "language": "python",
   "name": "python3"
  },
  "language_info": {
   "codemirror_mode": {
    "name": "ipython",
    "version": 3
   },
   "file_extension": ".py",
   "mimetype": "text/x-python",
   "name": "python",
   "nbconvert_exporter": "python",
   "pygments_lexer": "ipython3",
   "version": "3.6.4"
  }
 },
 "nbformat": 4,
 "nbformat_minor": 2
}
