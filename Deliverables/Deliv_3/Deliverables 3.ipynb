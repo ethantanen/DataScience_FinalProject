{
 "cells": [
  {
   "cell_type": "markdown",
   "metadata": {},
   "source": [
    "### Introduction"
   ]
  },
  {
   "cell_type": "code",
   "execution_count": 15,
   "metadata": {},
   "outputs": [],
   "source": [
    "import pandas as pd"
   ]
  },
  {
   "cell_type": "code",
   "execution_count": null,
   "metadata": {},
   "outputs": [],
   "source": []
  },
  {
   "cell_type": "markdown",
   "metadata": {},
   "source": [
    "### Regression"
   ]
  },
  {
   "cell_type": "markdown",
   "metadata": {},
   "source": [
    "#### Model"
   ]
  },
  {
   "cell_type": "markdown",
   "metadata": {},
   "source": [
    "#### Analysis"
   ]
  },
  {
   "cell_type": "markdown",
   "metadata": {},
   "source": [
    "### Neural Network \n",
    "\n",
    "The linear regression yielded poor results, so we thought a more complex regression might lend towards a better analysis. For this we decided to build a neural network using Tensorflow. We chose a feedforward neural network due to its ability to model non linear functions.\n",
    "\n",
    "We begin by importing the Tensorflow module, which provides a framework for, what seems like, every type of modeling technique. Take note that 'tf' is the industry standard alias for tensorflow."
   ]
  },
  {
   "cell_type": "code",
   "execution_count": 16,
   "metadata": {},
   "outputs": [],
   "source": [
    "import tensorflow as tf"
   ]
  },
  {
   "cell_type": "markdown",
   "metadata": {},
   "source": [
    "Next, we read in the balanced song features dataset, which includes data on every song that has appeared on the Billboard Hot 100 since 2010. Intially the dataset was split such that 70% of the music was unpopular and 30% popular. After completing the training the network had an outstanding 70% accuracy! Under further investigation, we realized the networks was simply assigning everything an unpopular label. Do remedy this we modified our dataset such that there was a 50-50 split between popular and unpopular songs. "
   ]
  },
  {
   "cell_type": "code",
   "execution_count": 17,
   "metadata": {
    "scrolled": true
   },
   "outputs": [
    {
     "data": {
      "text/html": [
       "<div>\n",
       "<style scoped>\n",
       "    .dataframe tbody tr th:only-of-type {\n",
       "        vertical-align: middle;\n",
       "    }\n",
       "\n",
       "    .dataframe tbody tr th {\n",
       "        vertical-align: top;\n",
       "    }\n",
       "\n",
       "    .dataframe thead th {\n",
       "        text-align: right;\n",
       "    }\n",
       "</style>\n",
       "<table border=\"1\" class=\"dataframe\">\n",
       "  <thead>\n",
       "    <tr style=\"text-align: right;\">\n",
       "      <th></th>\n",
       "      <th>acousticness</th>\n",
       "      <th>danceability</th>\n",
       "      <th>duration_ms</th>\n",
       "      <th>energy</th>\n",
       "      <th>instrumentalness</th>\n",
       "      <th>key</th>\n",
       "      <th>liveness</th>\n",
       "      <th>loudness</th>\n",
       "      <th>speechiness</th>\n",
       "      <th>tempo</th>\n",
       "      <th>time_signature</th>\n",
       "      <th>valence</th>\n",
       "      <th>label</th>\n",
       "    </tr>\n",
       "  </thead>\n",
       "  <tbody>\n",
       "    <tr>\n",
       "      <th>0</th>\n",
       "      <td>0.21400</td>\n",
       "      <td>0.666</td>\n",
       "      <td>178242</td>\n",
       "      <td>0.677</td>\n",
       "      <td>0.000000</td>\n",
       "      <td>2</td>\n",
       "      <td>0.0979</td>\n",
       "      <td>-5.743</td>\n",
       "      <td>0.0326</td>\n",
       "      <td>100.014</td>\n",
       "      <td>4</td>\n",
       "      <td>0.178</td>\n",
       "      <td>1</td>\n",
       "    </tr>\n",
       "    <tr>\n",
       "      <th>1</th>\n",
       "      <td>0.01340</td>\n",
       "      <td>0.807</td>\n",
       "      <td>183750</td>\n",
       "      <td>0.916</td>\n",
       "      <td>0.000012</td>\n",
       "      <td>0</td>\n",
       "      <td>0.0787</td>\n",
       "      <td>-3.282</td>\n",
       "      <td>0.2260</td>\n",
       "      <td>127.973</td>\n",
       "      <td>4</td>\n",
       "      <td>0.651</td>\n",
       "      <td>1</td>\n",
       "    </tr>\n",
       "    <tr>\n",
       "      <th>2</th>\n",
       "      <td>0.00162</td>\n",
       "      <td>0.791</td>\n",
       "      <td>279507</td>\n",
       "      <td>0.615</td>\n",
       "      <td>0.000065</td>\n",
       "      <td>6</td>\n",
       "      <td>0.0812</td>\n",
       "      <td>-6.149</td>\n",
       "      <td>0.0667</td>\n",
       "      <td>128.017</td>\n",
       "      <td>4</td>\n",
       "      <td>0.393</td>\n",
       "      <td>1</td>\n",
       "    </tr>\n",
       "    <tr>\n",
       "      <th>3</th>\n",
       "      <td>0.76300</td>\n",
       "      <td>0.707</td>\n",
       "      <td>275227</td>\n",
       "      <td>0.709</td>\n",
       "      <td>0.000000</td>\n",
       "      <td>11</td>\n",
       "      <td>0.2740</td>\n",
       "      <td>-3.979</td>\n",
       "      <td>0.3400</td>\n",
       "      <td>89.094</td>\n",
       "      <td>4</td>\n",
       "      <td>0.501</td>\n",
       "      <td>1</td>\n",
       "    </tr>\n",
       "    <tr>\n",
       "      <th>4</th>\n",
       "      <td>0.57000</td>\n",
       "      <td>0.629</td>\n",
       "      <td>250173</td>\n",
       "      <td>0.572</td>\n",
       "      <td>0.000000</td>\n",
       "      <td>5</td>\n",
       "      <td>0.1920</td>\n",
       "      <td>-7.733</td>\n",
       "      <td>0.0387</td>\n",
       "      <td>100.015</td>\n",
       "      <td>4</td>\n",
       "      <td>0.386</td>\n",
       "      <td>1</td>\n",
       "    </tr>\n",
       "  </tbody>\n",
       "</table>\n",
       "</div>"
      ],
      "text/plain": [
       "   acousticness  danceability  duration_ms  energy  instrumentalness  key  \\\n",
       "0       0.21400         0.666       178242   0.677          0.000000    2   \n",
       "1       0.01340         0.807       183750   0.916          0.000012    0   \n",
       "2       0.00162         0.791       279507   0.615          0.000065    6   \n",
       "3       0.76300         0.707       275227   0.709          0.000000   11   \n",
       "4       0.57000         0.629       250173   0.572          0.000000    5   \n",
       "\n",
       "   liveness  loudness  speechiness    tempo  time_signature  valence  label  \n",
       "0    0.0979    -5.743       0.0326  100.014               4    0.178      1  \n",
       "1    0.0787    -3.282       0.2260  127.973               4    0.651      1  \n",
       "2    0.0812    -6.149       0.0667  128.017               4    0.393      1  \n",
       "3    0.2740    -3.979       0.3400   89.094               4    0.501      1  \n",
       "4    0.1920    -7.733       0.0387  100.015               4    0.386      1  "
      ]
     },
     "execution_count": 17,
     "metadata": {},
     "output_type": "execute_result"
    }
   ],
   "source": [
    "#Read in File\n",
    "data = pd.read_csv(\"balanced_pop_unpop_features.csv\")\n",
    "\n",
    "#Remove track name column\n",
    "del data[\"Unnamed: 0\"]\n",
    "\n",
    "#Quick look at the data\n",
    "data.head()"
   ]
  },
  {
   "cell_type": "code",
   "execution_count": 28,
   "metadata": {},
   "outputs": [
    {
     "name": "stdout",
     "output_type": "stream",
     "text": [
      "13\n"
     ]
    }
   ],
   "source": [
    "print(len(data.columns))"
   ]
  },
  {
   "cell_type": "markdown",
   "metadata": {},
   "source": [
    "The Tensorflow software below automatically shuffles the data, but just to be sure the following line of code mixes up the rows of the dataframe.\n"
   ]
  },
  {
   "cell_type": "code",
   "execution_count": 18,
   "metadata": {},
   "outputs": [
    {
     "data": {
      "text/html": [
       "<div>\n",
       "<style scoped>\n",
       "    .dataframe tbody tr th:only-of-type {\n",
       "        vertical-align: middle;\n",
       "    }\n",
       "\n",
       "    .dataframe tbody tr th {\n",
       "        vertical-align: top;\n",
       "    }\n",
       "\n",
       "    .dataframe thead th {\n",
       "        text-align: right;\n",
       "    }\n",
       "</style>\n",
       "<table border=\"1\" class=\"dataframe\">\n",
       "  <thead>\n",
       "    <tr style=\"text-align: right;\">\n",
       "      <th></th>\n",
       "      <th>acousticness</th>\n",
       "      <th>danceability</th>\n",
       "      <th>duration_ms</th>\n",
       "      <th>energy</th>\n",
       "      <th>instrumentalness</th>\n",
       "      <th>key</th>\n",
       "      <th>liveness</th>\n",
       "      <th>loudness</th>\n",
       "      <th>speechiness</th>\n",
       "      <th>tempo</th>\n",
       "      <th>time_signature</th>\n",
       "      <th>valence</th>\n",
       "      <th>label</th>\n",
       "    </tr>\n",
       "  </thead>\n",
       "  <tbody>\n",
       "    <tr>\n",
       "      <th>1032</th>\n",
       "      <td>0.3310</td>\n",
       "      <td>0.525</td>\n",
       "      <td>193893</td>\n",
       "      <td>0.477</td>\n",
       "      <td>0.000000</td>\n",
       "      <td>10</td>\n",
       "      <td>0.1110</td>\n",
       "      <td>-5.453</td>\n",
       "      <td>0.0270</td>\n",
       "      <td>127.106</td>\n",
       "      <td>4</td>\n",
       "      <td>0.339</td>\n",
       "      <td>0</td>\n",
       "    </tr>\n",
       "    <tr>\n",
       "      <th>633</th>\n",
       "      <td>0.0145</td>\n",
       "      <td>0.716</td>\n",
       "      <td>215253</td>\n",
       "      <td>0.972</td>\n",
       "      <td>0.000032</td>\n",
       "      <td>7</td>\n",
       "      <td>0.3170</td>\n",
       "      <td>-2.302</td>\n",
       "      <td>0.1960</td>\n",
       "      <td>110.026</td>\n",
       "      <td>4</td>\n",
       "      <td>0.576</td>\n",
       "      <td>0</td>\n",
       "    </tr>\n",
       "    <tr>\n",
       "      <th>542</th>\n",
       "      <td>0.0113</td>\n",
       "      <td>0.834</td>\n",
       "      <td>206813</td>\n",
       "      <td>0.758</td>\n",
       "      <td>0.000000</td>\n",
       "      <td>11</td>\n",
       "      <td>0.0238</td>\n",
       "      <td>-7.135</td>\n",
       "      <td>0.1060</td>\n",
       "      <td>98.021</td>\n",
       "      <td>4</td>\n",
       "      <td>0.759</td>\n",
       "      <td>0</td>\n",
       "    </tr>\n",
       "    <tr>\n",
       "      <th>5</th>\n",
       "      <td>0.2260</td>\n",
       "      <td>0.718</td>\n",
       "      <td>222200</td>\n",
       "      <td>0.801</td>\n",
       "      <td>0.000000</td>\n",
       "      <td>0</td>\n",
       "      <td>0.3900</td>\n",
       "      <td>-2.581</td>\n",
       "      <td>0.0386</td>\n",
       "      <td>127.016</td>\n",
       "      <td>4</td>\n",
       "      <td>0.538</td>\n",
       "      <td>1</td>\n",
       "    </tr>\n",
       "    <tr>\n",
       "      <th>457</th>\n",
       "      <td>0.3570</td>\n",
       "      <td>0.858</td>\n",
       "      <td>199440</td>\n",
       "      <td>0.799</td>\n",
       "      <td>0.000000</td>\n",
       "      <td>2</td>\n",
       "      <td>0.0910</td>\n",
       "      <td>-4.034</td>\n",
       "      <td>0.0589</td>\n",
       "      <td>121.991</td>\n",
       "      <td>4</td>\n",
       "      <td>0.966</td>\n",
       "      <td>1</td>\n",
       "    </tr>\n",
       "  </tbody>\n",
       "</table>\n",
       "</div>"
      ],
      "text/plain": [
       "      acousticness  danceability  duration_ms  energy  instrumentalness  key  \\\n",
       "1032        0.3310         0.525       193893   0.477          0.000000   10   \n",
       "633         0.0145         0.716       215253   0.972          0.000032    7   \n",
       "542         0.0113         0.834       206813   0.758          0.000000   11   \n",
       "5           0.2260         0.718       222200   0.801          0.000000    0   \n",
       "457         0.3570         0.858       199440   0.799          0.000000    2   \n",
       "\n",
       "      liveness  loudness  speechiness    tempo  time_signature  valence  label  \n",
       "1032    0.1110    -5.453       0.0270  127.106               4    0.339      0  \n",
       "633     0.3170    -2.302       0.1960  110.026               4    0.576      0  \n",
       "542     0.0238    -7.135       0.1060   98.021               4    0.759      0  \n",
       "5       0.3900    -2.581       0.0386  127.016               4    0.538      1  \n",
       "457     0.0910    -4.034       0.0589  121.991               4    0.966      1  "
      ]
     },
     "execution_count": 18,
     "metadata": {},
     "output_type": "execute_result"
    }
   ],
   "source": [
    "#Shuffle dataset\n",
    "for i in range(10): data = data.sample(frac=1)\n",
    "    \n",
    "#Quick look at the shuffled data\n",
    "data.head()"
   ]
  },
  {
   "cell_type": "markdown",
   "metadata": {},
   "source": [
    "#### Model \n",
    "\n",
    "To model the data, the data is split 70-30, where 70% of the data is used to train the model and 30% of the data is used to test the model. "
   ]
  },
  {
   "cell_type": "code",
   "execution_count": 19,
   "metadata": {},
   "outputs": [
    {
     "name": "stdout",
     "output_type": "stream",
     "text": [
      "(750, 13) (322, 13)\n"
     ]
    }
   ],
   "source": [
    "#About a 70-30 split between training and testing \n",
    "train = data.iloc[:750]\n",
    "test = data.iloc[750:]\n",
    "\n",
    "#Quick look at shape of the two sets\n",
    "print(train.shape,test.shape)"
   ]
  },
  {
   "cell_type": "markdown",
   "metadata": {},
   "source": [
    "Next, the training and test sets are split into sets of features and labels. Immedietly following, the sets are normalized using a Z-score."
   ]
  },
  {
   "cell_type": "code",
   "execution_count": 20,
   "metadata": {},
   "outputs": [
    {
     "data": {
      "text/html": [
       "<div>\n",
       "<style scoped>\n",
       "    .dataframe tbody tr th:only-of-type {\n",
       "        vertical-align: middle;\n",
       "    }\n",
       "\n",
       "    .dataframe tbody tr th {\n",
       "        vertical-align: top;\n",
       "    }\n",
       "\n",
       "    .dataframe thead th {\n",
       "        text-align: right;\n",
       "    }\n",
       "</style>\n",
       "<table border=\"1\" class=\"dataframe\">\n",
       "  <thead>\n",
       "    <tr style=\"text-align: right;\">\n",
       "      <th></th>\n",
       "      <th>acousticness</th>\n",
       "      <th>danceability</th>\n",
       "      <th>duration_ms</th>\n",
       "      <th>energy</th>\n",
       "      <th>instrumentalness</th>\n",
       "      <th>key</th>\n",
       "      <th>liveness</th>\n",
       "      <th>loudness</th>\n",
       "      <th>speechiness</th>\n",
       "      <th>tempo</th>\n",
       "      <th>time_signature</th>\n",
       "      <th>valence</th>\n",
       "    </tr>\n",
       "  </thead>\n",
       "  <tbody>\n",
       "    <tr>\n",
       "      <th>1032</th>\n",
       "      <td>0.859973</td>\n",
       "      <td>-0.874249</td>\n",
       "      <td>-0.686885</td>\n",
       "      <td>-1.285935</td>\n",
       "      <td>-0.115799</td>\n",
       "      <td>1.231625</td>\n",
       "      <td>-0.489342</td>\n",
       "      <td>0.179266</td>\n",
       "      <td>-0.719090</td>\n",
       "      <td>0.211510</td>\n",
       "      <td>0.130038</td>\n",
       "      <td>-0.776372</td>\n",
       "    </tr>\n",
       "    <tr>\n",
       "      <th>633</th>\n",
       "      <td>-0.745659</td>\n",
       "      <td>0.510739</td>\n",
       "      <td>-0.160687</td>\n",
       "      <td>1.748438</td>\n",
       "      <td>-0.115302</td>\n",
       "      <td>0.420397</td>\n",
       "      <td>0.920337</td>\n",
       "      <td>1.542387</td>\n",
       "      <td>1.002004</td>\n",
       "      <td>-0.406188</td>\n",
       "      <td>0.130038</td>\n",
       "      <td>0.273416</td>\n",
       "    </tr>\n",
       "    <tr>\n",
       "      <th>542</th>\n",
       "      <td>-0.761893</td>\n",
       "      <td>1.366386</td>\n",
       "      <td>-0.368604</td>\n",
       "      <td>0.436608</td>\n",
       "      <td>-0.115799</td>\n",
       "      <td>1.502034</td>\n",
       "      <td>-1.086061</td>\n",
       "      <td>-0.548366</td>\n",
       "      <td>0.085445</td>\n",
       "      <td>-0.840349</td>\n",
       "      <td>0.130038</td>\n",
       "      <td>1.084011</td>\n",
       "    </tr>\n",
       "    <tr>\n",
       "      <th>5</th>\n",
       "      <td>0.327299</td>\n",
       "      <td>0.525241</td>\n",
       "      <td>0.010451</td>\n",
       "      <td>0.700200</td>\n",
       "      <td>-0.115799</td>\n",
       "      <td>-1.472470</td>\n",
       "      <td>1.419884</td>\n",
       "      <td>1.421692</td>\n",
       "      <td>-0.600956</td>\n",
       "      <td>0.208255</td>\n",
       "      <td>0.130038</td>\n",
       "      <td>0.105095</td>\n",
       "    </tr>\n",
       "    <tr>\n",
       "      <th>457</th>\n",
       "      <td>0.991873</td>\n",
       "      <td>1.540416</td>\n",
       "      <td>-0.550236</td>\n",
       "      <td>0.687940</td>\n",
       "      <td>-0.115799</td>\n",
       "      <td>-0.931651</td>\n",
       "      <td>-0.626204</td>\n",
       "      <td>0.793125</td>\n",
       "      <td>-0.394221</td>\n",
       "      <td>0.026526</td>\n",
       "      <td>0.130038</td>\n",
       "      <td>2.000914</td>\n",
       "    </tr>\n",
       "  </tbody>\n",
       "</table>\n",
       "</div>"
      ],
      "text/plain": [
       "      acousticness  danceability  duration_ms    energy  instrumentalness  \\\n",
       "1032      0.859973     -0.874249    -0.686885 -1.285935         -0.115799   \n",
       "633      -0.745659      0.510739    -0.160687  1.748438         -0.115302   \n",
       "542      -0.761893      1.366386    -0.368604  0.436608         -0.115799   \n",
       "5         0.327299      0.525241     0.010451  0.700200         -0.115799   \n",
       "457       0.991873      1.540416    -0.550236  0.687940         -0.115799   \n",
       "\n",
       "           key  liveness  loudness  speechiness     tempo  time_signature  \\\n",
       "1032  1.231625 -0.489342  0.179266    -0.719090  0.211510        0.130038   \n",
       "633   0.420397  0.920337  1.542387     1.002004 -0.406188        0.130038   \n",
       "542   1.502034 -1.086061 -0.548366     0.085445 -0.840349        0.130038   \n",
       "5    -1.472470  1.419884  1.421692    -0.600956  0.208255        0.130038   \n",
       "457  -0.931651 -0.626204  0.793125    -0.394221  0.026526        0.130038   \n",
       "\n",
       "       valence  \n",
       "1032 -0.776372  \n",
       "633   0.273416  \n",
       "542   1.084011  \n",
       "5     0.105095  \n",
       "457   2.000914  "
      ]
     },
     "execution_count": 20,
     "metadata": {},
     "output_type": "execute_result"
    }
   ],
   "source": [
    "#Split entries in train_x: features and train_y: labels\n",
    "train_x = train.iloc[:,:12]\n",
    "train_y = train.iloc[:,12:].astype(int)\n",
    "\n",
    "test_x = test.iloc[:,:12]\n",
    "test_y = test.iloc[:,12:].astype(int)\n",
    "\n",
    "#Take Z-score\n",
    "train_x = (train_x-train_x.mean())/(train_x.std())\n",
    "test_x = (test_x-test_x.mean())/(test_x.std())\n",
    "\n",
    "#Quick look at training set\n",
    "train_x.head()"
   ]
  },
  {
   "cell_type": "markdown",
   "metadata": {},
   "source": [
    "Tensorflow requires that a list of column features be provided in order to specify the type of input. The neural network is capable of using other feature types other than numeric."
   ]
  },
  {
   "cell_type": "code",
   "execution_count": 30,
   "metadata": {},
   "outputs": [
    {
     "name": "stdout",
     "output_type": "stream",
     "text": [
      "_NumericColumn(key='acousticness', shape=(1,), default_value=None, dtype=tf.float32, normalizer_fn=None) \n",
      "\n",
      "_NumericColumn(key='danceability', shape=(1,), default_value=None, dtype=tf.float32, normalizer_fn=None) \n",
      "\n"
     ]
    }
   ],
   "source": [
    "#Create feature column for net \n",
    "feature_columns = []\n",
    "for i in train_x.columns:\n",
    "    feature_columns.append(tf.feature_column.numeric_column(key=i))\n",
    "\n",
    "#Little preview of the numeric_column object\n",
    "for i in feature_columns[:2]:\n",
    "    print(i,\"\\n\")"
   ]
  },
  {
   "cell_type": "markdown",
   "metadata": {},
   "source": [
    "The following code is used to create the neural network. We decided to use a single hidden layer with 5 nodes."
   ]
  },
  {
   "cell_type": "code",
   "execution_count": 22,
   "metadata": {},
   "outputs": [
    {
     "name": "stdout",
     "output_type": "stream",
     "text": [
      "INFO:tensorflow:Using config: {'_model_dir': './modeldata', '_tf_random_seed': None, '_save_summary_steps': 100, '_save_checkpoints_steps': None, '_save_checkpoints_secs': 4, '_session_config': None, '_keep_checkpoint_max': 10, '_keep_checkpoint_every_n_hours': 10000, '_log_step_count_steps': 100, '_train_distribute': None, '_service': None, '_cluster_spec': <tensorflow.python.training.server_lib.ClusterSpec object at 0x1821846048>, '_task_type': 'worker', '_task_id': 0, '_global_id_in_cluster': 0, '_master': '', '_evaluation_master': '', '_is_chief': True, '_num_ps_replicas': 0, '_num_worker_replicas': 1}\n"
     ]
    }
   ],
   "source": [
    "#Make estimator/ Model\n",
    "\n",
    "my_checkpointing_config = tf.estimator.RunConfig(\n",
    "    save_checkpoints_secs = 4,  # Save checkpoints every 20 minutes.\n",
    "    keep_checkpoint_max = 10,       # Retain the 10 most recent checkpoints.\n",
    ")\n",
    "\n",
    "classifier = tf.estimator.DNNClassifier(feature_columns=feature_columns\n",
    "                                        , hidden_units=[5],\n",
    "                                        n_classes=2,model_dir=\"./modeldata\",\n",
    "                                       config=my_checkpointing_config)"
   ]
  },
  {
   "cell_type": "markdown",
   "metadata": {},
   "source": [
    "The following function is used to prepare the data for input to the neural network. It is covered in depth in the Tensorflow documentation."
   ]
  },
  {
   "cell_type": "code",
   "execution_count": 23,
   "metadata": {},
   "outputs": [],
   "source": [
    "def train_input_fn(features, labels, batch_size):\n",
    "    \"\"\"An input function for training\"\"\"\n",
    "    # Convert the inputs to a Dataset.\n",
    "    dataset = tf.data.Dataset.from_tensor_slices((dict(features), labels))\n",
    "\n",
    "    # Shuffle, repeat, and batch the examples.\n",
    "    dataset = dataset.shuffle(1000).repeat().batch(batch_size)\n",
    "\n",
    "    # Return the dataset.\n",
    "    return dataset"
   ]
  },
  {
   "cell_type": "markdown",
   "metadata": {},
   "source": [
    "Next, the network is training using the entirety of the training set. The Batch size is 500 and the number of steps or epochs is 1500."
   ]
  },
  {
   "cell_type": "code",
   "execution_count": 27,
   "metadata": {},
   "outputs": [
    {
     "name": "stdout",
     "output_type": "stream",
     "text": [
      "INFO:tensorflow:Calling model_fn.\n",
      "INFO:tensorflow:Done calling model_fn.\n",
      "INFO:tensorflow:Create CheckpointSaverHook.\n",
      "INFO:tensorflow:Graph was finalized.\n",
      "INFO:tensorflow:Restoring parameters from ./modeldata/model.ckpt-1000\n",
      "INFO:tensorflow:Running local_init_op.\n",
      "INFO:tensorflow:Done running local_init_op.\n",
      "INFO:tensorflow:Saving checkpoints for 1001 into ./modeldata/model.ckpt.\n",
      "INFO:tensorflow:loss = 188.96317, step = 1001\n",
      "INFO:tensorflow:global_step/sec: 214.972\n",
      "INFO:tensorflow:loss = 194.00017, step = 1101 (0.466 sec)\n",
      "INFO:tensorflow:global_step/sec: 271.233\n",
      "INFO:tensorflow:loss = 194.0174, step = 1201 (0.369 sec)\n",
      "INFO:tensorflow:global_step/sec: 285.102\n",
      "INFO:tensorflow:loss = 189.95126, step = 1301 (0.351 sec)\n",
      "INFO:tensorflow:global_step/sec: 285.693\n",
      "INFO:tensorflow:loss = 193.3042, step = 1401 (0.350 sec)\n",
      "INFO:tensorflow:global_step/sec: 282.97\n",
      "INFO:tensorflow:loss = 186.79214, step = 1501 (0.353 sec)\n",
      "INFO:tensorflow:global_step/sec: 291.454\n",
      "INFO:tensorflow:loss = 196.06117, step = 1601 (0.343 sec)\n",
      "INFO:tensorflow:global_step/sec: 290.124\n",
      "INFO:tensorflow:loss = 196.75967, step = 1701 (0.345 sec)\n",
      "INFO:tensorflow:global_step/sec: 303.465\n",
      "INFO:tensorflow:loss = 193.4959, step = 1801 (0.330 sec)\n",
      "INFO:tensorflow:global_step/sec: 299.925\n",
      "INFO:tensorflow:loss = 195.09871, step = 1901 (0.333 sec)\n",
      "INFO:tensorflow:Saving checkpoints for 2000 into ./modeldata/model.ckpt.\n",
      "INFO:tensorflow:Loss for final step: 191.94304.\n"
     ]
    },
    {
     "data": {
      "text/plain": [
       "<tensorflow.python.estimator.canned.dnn.DNNClassifier at 0x182183cba8>"
      ]
     },
     "execution_count": 27,
     "metadata": {},
     "output_type": "execute_result"
    }
   ],
   "source": [
    "# Train the Model.\n",
    "classifier.train(\n",
    "    input_fn=lambda:train_input_fn(train_x, train_y,300),\n",
    "    steps=1000)"
   ]
  },
  {
   "cell_type": "markdown",
   "metadata": {},
   "source": [
    "#### Analysis"
   ]
  },
  {
   "cell_type": "markdown",
   "metadata": {},
   "source": [
    "Now that the network is trained it is time to test it with the testing set. The following function prepares the testing set for testing. "
   ]
  },
  {
   "cell_type": "code",
   "execution_count": 25,
   "metadata": {},
   "outputs": [],
   "source": [
    "def eval_input_fn(features, labels, batch_size):\n",
    "    \"\"\"An input function for evaluation or prediction\"\"\"\n",
    "    features=dict(features)\n",
    "    if labels is None:\n",
    "        # No labels, use only features.\n",
    "        inputs = features\n",
    "    else:\n",
    "        inputs = (features, labels)\n",
    "\n",
    "    # Convert the inputs to a Dataset.\n",
    "    dataset = tf.data.Dataset.from_tensor_slices(inputs)\n",
    "\n",
    "    # Batch the examples\n",
    "    assert batch_size is not None, \"batch_size must not be None\"\n",
    "    dataset = dataset.batch(batch_size)\n",
    "\n",
    "    # Return the dataset.\n",
    "    return dataset"
   ]
  },
  {
   "cell_type": "markdown",
   "metadata": {},
   "source": [
    "The following code runs the testing evaluate function on the network."
   ]
  },
  {
   "cell_type": "code",
   "execution_count": 26,
   "metadata": {},
   "outputs": [
    {
     "name": "stdout",
     "output_type": "stream",
     "text": [
      "INFO:tensorflow:Calling model_fn.\n",
      "WARNING:tensorflow:Trapezoidal rule is known to produce incorrect PR-AUCs; please switch to \"careful_interpolation\" instead.\n",
      "WARNING:tensorflow:Trapezoidal rule is known to produce incorrect PR-AUCs; please switch to \"careful_interpolation\" instead.\n",
      "INFO:tensorflow:Done calling model_fn.\n",
      "INFO:tensorflow:Starting evaluation at 2018-05-14-21:45:52\n",
      "INFO:tensorflow:Graph was finalized.\n",
      "INFO:tensorflow:Restoring parameters from ./modeldata/model.ckpt-1000\n",
      "INFO:tensorflow:Running local_init_op.\n",
      "INFO:tensorflow:Done running local_init_op.\n",
      "INFO:tensorflow:Finished evaluation at 2018-05-14-21:45:52\n",
      "INFO:tensorflow:Saving dict for global step 1000: accuracy = 0.48447204, accuracy_baseline = 0.5031056, auc = 0.48572528, auc_precision_recall = 0.5003184, average_loss = 0.7447384, global_step = 1000, label/mean = 0.5031056, loss = 239.80576, precision = 0.48591548, prediction/mean = 0.49046984, recall = 0.42592594\n"
     ]
    }
   ],
   "source": [
    "# Evaluate the model.\n",
    "eval_result = classifier.evaluate(\n",
    "    input_fn=lambda:eval_input_fn(test_x, test_y, 3000))"
   ]
  },
  {
   "cell_type": "markdown",
   "metadata": {},
   "source": [
    "Here are the results of the evaluation more clearly."
   ]
  },
  {
   "cell_type": "code",
   "execution_count": 13,
   "metadata": {},
   "outputs": [
    {
     "data": {
      "text/plain": [
       "{'accuracy': 0.57763976,\n",
       " 'accuracy_baseline': 0.5031056,\n",
       " 'auc': 0.59544754,\n",
       " 'auc_precision_recall': 0.60107565,\n",
       " 'average_loss': 0.68200713,\n",
       " 'global_step': 3000,\n",
       " 'label/mean': 0.5031056,\n",
       " 'loss': 219.6063,\n",
       " 'precision': 0.5802469,\n",
       " 'prediction/mean': 0.496302,\n",
       " 'recall': 0.5802469}"
      ]
     },
     "execution_count": 13,
     "metadata": {},
     "output_type": "execute_result"
    }
   ],
   "source": [
    "eval_result"
   ]
  },
  {
   "cell_type": "markdown",
   "metadata": {},
   "source": [
    "A print out of the prediction and exprected results can be found in the ANN Tests document located in the Model folder as well as a series of test done with other features and varying network shapes. \n",
    "\n",
    "From the evaluator it's clear that the neural network does a pretty bad job of modeling the data. We believe that to predict whether a song will be popular or not requires atleast some data on the cultural climate at the time. After reading a series of documents written by people conducting the same test, they also agree that analyzing a song's features is insufficient for producing meaningfull predictions. "
   ]
  },
  {
   "cell_type": "markdown",
   "metadata": {},
   "source": [
    "### Conclusion"
   ]
  },
  {
   "cell_type": "markdown",
   "metadata": {},
   "source": []
  },
  {
   "cell_type": "code",
   "execution_count": null,
   "metadata": {},
   "outputs": [],
   "source": [
    "\n"
   ]
  },
  {
   "cell_type": "code",
   "execution_count": null,
   "metadata": {},
   "outputs": [],
   "source": []
  },
  {
   "cell_type": "code",
   "execution_count": null,
   "metadata": {},
   "outputs": [],
   "source": []
  },
  {
   "cell_type": "code",
   "execution_count": null,
   "metadata": {},
   "outputs": [],
   "source": []
  },
  {
   "cell_type": "code",
   "execution_count": null,
   "metadata": {},
   "outputs": [],
   "source": []
  }
 ],
 "metadata": {
  "kernelspec": {
   "display_name": "Python 3",
   "language": "python",
   "name": "python3"
  },
  "language_info": {
   "codemirror_mode": {
    "name": "ipython",
    "version": 3
   },
   "file_extension": ".py",
   "mimetype": "text/x-python",
   "name": "python",
   "nbconvert_exporter": "python",
   "pygments_lexer": "ipython3",
   "version": "3.6.4"
  }
 },
 "nbformat": 4,
 "nbformat_minor": 2
}
